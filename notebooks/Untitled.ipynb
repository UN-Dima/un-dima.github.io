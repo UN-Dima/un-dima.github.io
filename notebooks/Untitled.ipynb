{
 "cells": [
  {
   "cell_type": "code",
   "execution_count": 1,
   "id": "f87bfd5a-fb8a-4c3a-917a-488e198ebc9b",
   "metadata": {},
   "outputs": [],
   "source": [
    "import pandas as pd\n",
    "import numpy as np\n",
    "import plotly.express as px"
   ]
  },
  {
   "cell_type": "code",
   "execution_count": 2,
   "id": "1c4ec029-c580-4410-b4fc-c55078b283b0",
   "metadata": {},
   "outputs": [
    {
     "data": {
      "text/html": [
       "<div>\n",
       "<style scoped>\n",
       "    .dataframe tbody tr th:only-of-type {\n",
       "        vertical-align: middle;\n",
       "    }\n",
       "\n",
       "    .dataframe tbody tr th {\n",
       "        vertical-align: top;\n",
       "    }\n",
       "\n",
       "    .dataframe thead th {\n",
       "        text-align: right;\n",
       "    }\n",
       "</style>\n",
       "<table border=\"1\" class=\"dataframe\">\n",
       "  <thead>\n",
       "    <tr style=\"text-align: right;\">\n",
       "      <th></th>\n",
       "      <th>Código Hermes</th>\n",
       "      <th>Código Colciencias</th>\n",
       "      <th>Nombre del grupo</th>\n",
       "      <th>Lider colciencias</th>\n",
       "      <th>Lider Hermes</th>\n",
       "      <th>Integrantes Hermes</th>\n",
       "      <th>Integrantes Colciencias</th>\n",
       "      <th>Categoría (Conv 693 de Colciencias 2014)</th>\n",
       "      <th>Categoría (Conv 737 de Colciencias 2015)</th>\n",
       "      <th>Categoría (Conv 781 de Colciencias 2017)</th>\n",
       "      <th>...</th>\n",
       "      <th>Area_OCDE</th>\n",
       "      <th>Agenda del Conocimiento</th>\n",
       "      <th>Sede</th>\n",
       "      <th>Facultad</th>\n",
       "      <th>Departamento</th>\n",
       "      <th>Correo</th>\n",
       "      <th>Sedes_Int</th>\n",
       "      <th>Lider Colciencias</th>\n",
       "      <th>Categoría (Conv 737 de Colciencias 2015)</th>\n",
       "      <th>Categoría (Conv 833 de Colciencias 2019)</th>\n",
       "    </tr>\n",
       "  </thead>\n",
       "  <tbody>\n",
       "    <tr>\n",
       "      <th>0</th>\n",
       "      <td>615.0</td>\n",
       "      <td>COL0007909</td>\n",
       "      <td>CONTROL Y PROCESAMIENTO DIGITAL DE SEÑALES</td>\n",
       "      <td>CASTELLANOS DOMINGUEZ CESAR GERMAN</td>\n",
       "      <td>CASTELLANOS DOMINGUEZ CESAR GERMAN</td>\n",
       "      <td>ALBERTO SEPULVEDA GIRALDO</td>\n",
       "      <td>https://scienti.minciencias.gov.co/gruplac/jsp...</td>\n",
       "      <td>A1</td>\n",
       "      <td>A1</td>\n",
       "      <td>A1</td>\n",
       "      <td>...</td>\n",
       "      <td>Ingeniería y Tecnología</td>\n",
       "      <td>Tecnologías de la Información y Comunicaciones</td>\n",
       "      <td>MANIZALES</td>\n",
       "      <td>4- FACULTAD DE INGENIERÍA Y ARQUITECTURA</td>\n",
       "      <td>4- DEPARTAMENTO DE INGENIERÍA ELÉCTRICA, ELECT...</td>\n",
       "      <td>cgcastellanosd@unal.edu.co</td>\n",
       "      <td>Bogotá, Manizales.</td>\n",
       "      <td>NaN</td>\n",
       "      <td>NaN</td>\n",
       "      <td>NaN</td>\n",
       "    </tr>\n",
       "    <tr>\n",
       "      <th>1</th>\n",
       "      <td>615.0</td>\n",
       "      <td>COL0007909</td>\n",
       "      <td>CONTROL Y PROCESAMIENTO DIGITAL DE SEÑALES</td>\n",
       "      <td>CASTELLANOS DOMINGUEZ CESAR GERMAN</td>\n",
       "      <td>CASTELLANOS DOMINGUEZ CESAR GERMAN</td>\n",
       "      <td>ALEJANDRO GIRALDO ORTIZ</td>\n",
       "      <td>https://scienti.minciencias.gov.co/gruplac/jsp...</td>\n",
       "      <td>A1</td>\n",
       "      <td>A1</td>\n",
       "      <td>A1</td>\n",
       "      <td>...</td>\n",
       "      <td>Ingeniería y Tecnología</td>\n",
       "      <td>Tecnologías de la Información y Comunicaciones</td>\n",
       "      <td>MANIZALES</td>\n",
       "      <td>4- FACULTAD DE INGENIERÍA Y ARQUITECTURA</td>\n",
       "      <td>4- DEPARTAMENTO DE INGENIERÍA ELÉCTRICA, ELECT...</td>\n",
       "      <td>cgcastellanosd@unal.edu.co</td>\n",
       "      <td>Bogotá, Manizales.</td>\n",
       "      <td>NaN</td>\n",
       "      <td>NaN</td>\n",
       "      <td>NaN</td>\n",
       "    </tr>\n",
       "    <tr>\n",
       "      <th>2</th>\n",
       "      <td>615.0</td>\n",
       "      <td>COL0007909</td>\n",
       "      <td>CONTROL Y PROCESAMIENTO DIGITAL DE SEÑALES</td>\n",
       "      <td>CASTELLANOS DOMINGUEZ CESAR GERMAN</td>\n",
       "      <td>CASTELLANOS DOMINGUEZ CESAR GERMAN</td>\n",
       "      <td>ANDERSON ALBERTO RUALES TORRES</td>\n",
       "      <td>https://scienti.minciencias.gov.co/gruplac/jsp...</td>\n",
       "      <td>A1</td>\n",
       "      <td>A1</td>\n",
       "      <td>A1</td>\n",
       "      <td>...</td>\n",
       "      <td>Ingeniería y Tecnología</td>\n",
       "      <td>Tecnologías de la Información y Comunicaciones</td>\n",
       "      <td>MANIZALES</td>\n",
       "      <td>4- FACULTAD DE INGENIERÍA Y ARQUITECTURA</td>\n",
       "      <td>4- DEPARTAMENTO DE INGENIERÍA ELÉCTRICA, ELECT...</td>\n",
       "      <td>cgcastellanosd@unal.edu.co</td>\n",
       "      <td>Bogotá, Manizales.</td>\n",
       "      <td>NaN</td>\n",
       "      <td>NaN</td>\n",
       "      <td>NaN</td>\n",
       "    </tr>\n",
       "    <tr>\n",
       "      <th>3</th>\n",
       "      <td>615.0</td>\n",
       "      <td>COL0007909</td>\n",
       "      <td>CONTROL Y PROCESAMIENTO DIGITAL DE SEÑALES</td>\n",
       "      <td>CASTELLANOS DOMINGUEZ CESAR GERMAN</td>\n",
       "      <td>CASTELLANOS DOMINGUEZ CESAR GERMAN</td>\n",
       "      <td>ANDRES DAVID TOBAR RODRIGUEZ</td>\n",
       "      <td>https://scienti.minciencias.gov.co/gruplac/jsp...</td>\n",
       "      <td>A1</td>\n",
       "      <td>A1</td>\n",
       "      <td>A1</td>\n",
       "      <td>...</td>\n",
       "      <td>Ingeniería y Tecnología</td>\n",
       "      <td>Tecnologías de la Información y Comunicaciones</td>\n",
       "      <td>MANIZALES</td>\n",
       "      <td>4- FACULTAD DE INGENIERÍA Y ARQUITECTURA</td>\n",
       "      <td>4- DEPARTAMENTO DE INGENIERÍA ELÉCTRICA, ELECT...</td>\n",
       "      <td>cgcastellanosd@unal.edu.co</td>\n",
       "      <td>Bogotá, Manizales.</td>\n",
       "      <td>NaN</td>\n",
       "      <td>NaN</td>\n",
       "      <td>NaN</td>\n",
       "    </tr>\n",
       "    <tr>\n",
       "      <th>4</th>\n",
       "      <td>615.0</td>\n",
       "      <td>COL0007909</td>\n",
       "      <td>CONTROL Y PROCESAMIENTO DIGITAL DE SEÑALES</td>\n",
       "      <td>CASTELLANOS DOMINGUEZ CESAR GERMAN</td>\n",
       "      <td>CASTELLANOS DOMINGUEZ CESAR GERMAN</td>\n",
       "      <td>ANDRES EDUARDO CASTRO OSPINA</td>\n",
       "      <td>https://scienti.minciencias.gov.co/gruplac/jsp...</td>\n",
       "      <td>A1</td>\n",
       "      <td>A1</td>\n",
       "      <td>A1</td>\n",
       "      <td>...</td>\n",
       "      <td>Ingeniería y Tecnología</td>\n",
       "      <td>Tecnologías de la Información y Comunicaciones</td>\n",
       "      <td>MANIZALES</td>\n",
       "      <td>4- FACULTAD DE INGENIERÍA Y ARQUITECTURA</td>\n",
       "      <td>4- DEPARTAMENTO DE INGENIERÍA ELÉCTRICA, ELECT...</td>\n",
       "      <td>cgcastellanosd@unal.edu.co</td>\n",
       "      <td>Bogotá, Manizales.</td>\n",
       "      <td>NaN</td>\n",
       "      <td>NaN</td>\n",
       "      <td>NaN</td>\n",
       "    </tr>\n",
       "  </tbody>\n",
       "</table>\n",
       "<p>5 rows × 26 columns</p>\n",
       "</div>"
      ],
      "text/plain": [
       "   Código Hermes Código Colciencias  \\\n",
       "0          615.0         COL0007909   \n",
       "1          615.0         COL0007909   \n",
       "2          615.0         COL0007909   \n",
       "3          615.0         COL0007909   \n",
       "4          615.0         COL0007909   \n",
       "\n",
       "                             Nombre del grupo  \\\n",
       "0  CONTROL Y PROCESAMIENTO DIGITAL DE SEÑALES   \n",
       "1  CONTROL Y PROCESAMIENTO DIGITAL DE SEÑALES   \n",
       "2  CONTROL Y PROCESAMIENTO DIGITAL DE SEÑALES   \n",
       "3  CONTROL Y PROCESAMIENTO DIGITAL DE SEÑALES   \n",
       "4  CONTROL Y PROCESAMIENTO DIGITAL DE SEÑALES   \n",
       "\n",
       "                    Lider colciencias                        Lider Hermes  \\\n",
       "0  CASTELLANOS DOMINGUEZ CESAR GERMAN  CASTELLANOS DOMINGUEZ CESAR GERMAN   \n",
       "1  CASTELLANOS DOMINGUEZ CESAR GERMAN  CASTELLANOS DOMINGUEZ CESAR GERMAN   \n",
       "2  CASTELLANOS DOMINGUEZ CESAR GERMAN  CASTELLANOS DOMINGUEZ CESAR GERMAN   \n",
       "3  CASTELLANOS DOMINGUEZ CESAR GERMAN  CASTELLANOS DOMINGUEZ CESAR GERMAN   \n",
       "4  CASTELLANOS DOMINGUEZ CESAR GERMAN  CASTELLANOS DOMINGUEZ CESAR GERMAN   \n",
       "\n",
       "               Integrantes Hermes  \\\n",
       "0       ALBERTO SEPULVEDA GIRALDO   \n",
       "1         ALEJANDRO GIRALDO ORTIZ   \n",
       "2  ANDERSON ALBERTO RUALES TORRES   \n",
       "3    ANDRES DAVID TOBAR RODRIGUEZ   \n",
       "4    ANDRES EDUARDO CASTRO OSPINA   \n",
       "\n",
       "                             Integrantes Colciencias  \\\n",
       "0  https://scienti.minciencias.gov.co/gruplac/jsp...   \n",
       "1  https://scienti.minciencias.gov.co/gruplac/jsp...   \n",
       "2  https://scienti.minciencias.gov.co/gruplac/jsp...   \n",
       "3  https://scienti.minciencias.gov.co/gruplac/jsp...   \n",
       "4  https://scienti.minciencias.gov.co/gruplac/jsp...   \n",
       "\n",
       "  Categoría (Conv 693 de Colciencias 2014)  \\\n",
       "0                                       A1   \n",
       "1                                       A1   \n",
       "2                                       A1   \n",
       "3                                       A1   \n",
       "4                                       A1   \n",
       "\n",
       "  Categoría (Conv 737 de Colciencias 2015)  \\\n",
       "0                                       A1   \n",
       "1                                       A1   \n",
       "2                                       A1   \n",
       "3                                       A1   \n",
       "4                                       A1   \n",
       "\n",
       "  Categoría (Conv 781 de Colciencias 2017)  ...                Area_OCDE  \\\n",
       "0                                       A1  ...  Ingeniería y Tecnología   \n",
       "1                                       A1  ...  Ingeniería y Tecnología   \n",
       "2                                       A1  ...  Ingeniería y Tecnología   \n",
       "3                                       A1  ...  Ingeniería y Tecnología   \n",
       "4                                       A1  ...  Ingeniería y Tecnología   \n",
       "\n",
       "                          Agenda del Conocimiento       Sede  \\\n",
       "0  Tecnologías de la Información y Comunicaciones  MANIZALES   \n",
       "1  Tecnologías de la Información y Comunicaciones  MANIZALES   \n",
       "2  Tecnologías de la Información y Comunicaciones  MANIZALES   \n",
       "3  Tecnologías de la Información y Comunicaciones  MANIZALES   \n",
       "4  Tecnologías de la Información y Comunicaciones  MANIZALES   \n",
       "\n",
       "                                   Facultad  \\\n",
       "0  4- FACULTAD DE INGENIERÍA Y ARQUITECTURA   \n",
       "1  4- FACULTAD DE INGENIERÍA Y ARQUITECTURA   \n",
       "2  4- FACULTAD DE INGENIERÍA Y ARQUITECTURA   \n",
       "3  4- FACULTAD DE INGENIERÍA Y ARQUITECTURA   \n",
       "4  4- FACULTAD DE INGENIERÍA Y ARQUITECTURA   \n",
       "\n",
       "                                        Departamento  \\\n",
       "0  4- DEPARTAMENTO DE INGENIERÍA ELÉCTRICA, ELECT...   \n",
       "1  4- DEPARTAMENTO DE INGENIERÍA ELÉCTRICA, ELECT...   \n",
       "2  4- DEPARTAMENTO DE INGENIERÍA ELÉCTRICA, ELECT...   \n",
       "3  4- DEPARTAMENTO DE INGENIERÍA ELÉCTRICA, ELECT...   \n",
       "4  4- DEPARTAMENTO DE INGENIERÍA ELÉCTRICA, ELECT...   \n",
       "\n",
       "                       Correo           Sedes_Int Lider Colciencias  \\\n",
       "0  cgcastellanosd@unal.edu.co  Bogotá, Manizales.               NaN   \n",
       "1  cgcastellanosd@unal.edu.co  Bogotá, Manizales.               NaN   \n",
       "2  cgcastellanosd@unal.edu.co  Bogotá, Manizales.               NaN   \n",
       "3  cgcastellanosd@unal.edu.co  Bogotá, Manizales.               NaN   \n",
       "4  cgcastellanosd@unal.edu.co  Bogotá, Manizales.               NaN   \n",
       "\n",
       "  Categoría (Conv 737 de Colciencias 2015)   \\\n",
       "0                                       NaN   \n",
       "1                                       NaN   \n",
       "2                                       NaN   \n",
       "3                                       NaN   \n",
       "4                                       NaN   \n",
       "\n",
       "  Categoría (Conv 833 de Colciencias 2019)  \n",
       "0                                      NaN  \n",
       "1                                      NaN  \n",
       "2                                      NaN  \n",
       "3                                      NaN  \n",
       "4                                      NaN  \n",
       "\n",
       "[5 rows x 26 columns]"
      ]
     },
     "execution_count": 2,
     "metadata": {},
     "output_type": "execute_result"
    }
   ],
   "source": [
    "filenames = ['../databases/FIA.csv', '../databases/FA.csv', '../databases/FCEN.csv']\n",
    "\n",
    "df = pd.concat([pd.read_csv(f) for f in filenames])\n",
    "\n",
    "\n",
    "for col in df.columns:\n",
    "    df[col] = df[col].fillna(method='ffill')\n",
    "    \n",
    "df.head()"
   ]
  },
  {
   "cell_type": "code",
   "execution_count": 31,
   "id": "8c25fe85-8bc2-4ce2-8cde-bd0d2466939a",
   "metadata": {},
   "outputs": [
    {
     "data": {
      "text/plain": [
       "{'Bogotá', 'Manizales', 'Manizales.', 'Medellín', 'Orinoquía', 'Palmira'}"
      ]
     },
     "execution_count": 31,
     "metadata": {},
     "output_type": "execute_result"
    }
   ],
   "source": [
    "set([sede.strip() for sede in ','.join(np.unique(df['Sedes_Int']).tolist()).split(',')])"
   ]
  },
  {
   "cell_type": "code",
   "execution_count": 3,
   "id": "5adf8da8-ade7-4eea-bd07-5522643a31e2",
   "metadata": {
    "tags": []
   },
   "outputs": [],
   "source": [
    "ids = np.unique(df['Nombre del grupo'].tolist())"
   ]
  },
  {
   "cell_type": "code",
   "execution_count": 4,
   "id": "a9f50a55-5a66-4464-8727-789b228129e6",
   "metadata": {},
   "outputs": [],
   "source": [
    "get_name = lambda df,g:df[df['Nombre del grupo'] == g]['Nombre del grupo'].tolist()[0]\n",
    "get_members = lambda df,g:df[df['Nombre del grupo'] == g]\n",
    "# get_line = lambda df,g:df[df['Nombre del grupo'] == g]['Lineas de Investigación'].tolist()[0]\n",
    "get_sub_OCDE = lambda df,g:df[df['Nombre del grupo'] == g]['Area_Conocimiento_OCDE'].tolist()[0]\n",
    "get_OCDE = lambda df,g:df[df['Nombre del grupo'] == g]['Area_OCDE'].tolist()[0]\n",
    "get_know = lambda df,g:df[df['Nombre del grupo'] == g]['Agenda del Conocimiento'].tolist()[0]\n",
    "get_facultad = lambda df,g:df[df['Nombre del grupo'] == g]['Facultad'].tolist()[0]\n",
    "get_departamento = lambda df,g:df[df['Nombre del grupo'] == g]['Departamento'].tolist()[0]"
   ]
  },
  {
   "cell_type": "code",
   "execution_count": 5,
   "id": "ae9bf038-6560-40c1-80e6-7e7635a75a19",
   "metadata": {},
   "outputs": [
    {
     "data": {
      "text/html": [
       "<div>\n",
       "<style scoped>\n",
       "    .dataframe tbody tr th:only-of-type {\n",
       "        vertical-align: middle;\n",
       "    }\n",
       "\n",
       "    .dataframe tbody tr th {\n",
       "        vertical-align: top;\n",
       "    }\n",
       "\n",
       "    .dataframe thead th {\n",
       "        text-align: right;\n",
       "    }\n",
       "</style>\n",
       "<table border=\"1\" class=\"dataframe\">\n",
       "  <thead>\n",
       "    <tr style=\"text-align: right;\">\n",
       "      <th></th>\n",
       "      <th>members</th>\n",
       "      <th>name</th>\n",
       "      <th>sub_ocde</th>\n",
       "      <th>ocde</th>\n",
       "      <th>knowledge</th>\n",
       "      <th>facultad</th>\n",
       "      <th>departamento</th>\n",
       "    </tr>\n",
       "  </thead>\n",
       "  <tbody>\n",
       "    <tr>\n",
       "      <th>0</th>\n",
       "      <td>11</td>\n",
       "      <td>Abc dynamics</td>\n",
       "      <td>Ingeniería civil</td>\n",
       "      <td>Ingeniería y tecnología</td>\n",
       "      <td>Desarrollo organizacional económico e industrial</td>\n",
       "      <td>Facultad de ciencias exactas y naturales</td>\n",
       "      <td>Departamento de matemáticas</td>\n",
       "    </tr>\n",
       "    <tr>\n",
       "      <th>1</th>\n",
       "      <td>13</td>\n",
       "      <td>Analisis matematico am</td>\n",
       "      <td>Ingeniería civil</td>\n",
       "      <td>Metemáticas</td>\n",
       "      <td>Desarrollo organizacional económico e industrial</td>\n",
       "      <td>Facultad de ciencias exactas y naturales</td>\n",
       "      <td>Departamento de matemáticas</td>\n",
       "    </tr>\n",
       "    <tr>\n",
       "      <th>2</th>\n",
       "      <td>4</td>\n",
       "      <td>Arquitectura medio ambiente y sostenibilidad</td>\n",
       "      <td>Ciencias de la tierra y medioambientales</td>\n",
       "      <td>Ciencias naturales</td>\n",
       "      <td>Ambiente y biodiversidad</td>\n",
       "      <td>Facultad de ingeniería y arquitectura</td>\n",
       "      <td>Escuela de arquitectura y urbanismo</td>\n",
       "    </tr>\n",
       "    <tr>\n",
       "      <th>3</th>\n",
       "      <td>1</td>\n",
       "      <td>Arquitectura y ciudad: ciencia y cultura</td>\n",
       "      <td>Humanidades</td>\n",
       "      <td>Arte</td>\n",
       "      <td>Arte y cultura</td>\n",
       "      <td>Facultad de ingeniería y arquitectura</td>\n",
       "      <td>Escuela de arquitectura y urbanismo</td>\n",
       "    </tr>\n",
       "    <tr>\n",
       "      <th>4</th>\n",
       "      <td>1</td>\n",
       "      <td>Arquitectura, ciudad y territorio</td>\n",
       "      <td>Humanidades</td>\n",
       "      <td>Arte</td>\n",
       "      <td>Arte y cultura</td>\n",
       "      <td>Facultad de ingeniería y arquitectura</td>\n",
       "      <td>Escuela de arquitectura y urbanismo</td>\n",
       "    </tr>\n",
       "  </tbody>\n",
       "</table>\n",
       "</div>"
      ],
      "text/plain": [
       "   members                                          name  \\\n",
       "0       11                                  Abc dynamics   \n",
       "1       13                        Analisis matematico am   \n",
       "2        4  Arquitectura medio ambiente y sostenibilidad   \n",
       "3        1      Arquitectura y ciudad: ciencia y cultura   \n",
       "4        1             Arquitectura, ciudad y territorio   \n",
       "\n",
       "                                   sub_ocde                     ocde  \\\n",
       "0                          Ingeniería civil  Ingeniería y tecnología   \n",
       "1                          Ingeniería civil              Metemáticas   \n",
       "2  Ciencias de la tierra y medioambientales       Ciencias naturales   \n",
       "3                               Humanidades                     Arte   \n",
       "4                               Humanidades                     Arte   \n",
       "\n",
       "                                          knowledge  \\\n",
       "0  Desarrollo organizacional económico e industrial   \n",
       "1  Desarrollo organizacional económico e industrial   \n",
       "2                          Ambiente y biodiversidad   \n",
       "3                                    Arte y cultura   \n",
       "4                                    Arte y cultura   \n",
       "\n",
       "                                   facultad  \\\n",
       "0  Facultad de ciencias exactas y naturales   \n",
       "1  Facultad de ciencias exactas y naturales   \n",
       "2     Facultad de ingeniería y arquitectura   \n",
       "3     Facultad de ingeniería y arquitectura   \n",
       "4     Facultad de ingeniería y arquitectura   \n",
       "\n",
       "                          departamento  \n",
       "0          Departamento de matemáticas  \n",
       "1          Departamento de matemáticas  \n",
       "2  Escuela de arquitectura y urbanismo  \n",
       "3  Escuela de arquitectura y urbanismo  \n",
       "4  Escuela de arquitectura y urbanismo  "
      ]
     },
     "execution_count": 5,
     "metadata": {},
     "output_type": "execute_result"
    }
   ],
   "source": [
    "groups = {}\n",
    "for group in ids:\n",
    "    groups.setdefault('members', []).append(len(get_members(df, group)))\n",
    "    groups.setdefault('name', []).append(get_name(df, group).capitalize())\n",
    "    # groups.setdefault('line', []).append(get_line(df, group).capitalize())\n",
    "    groups.setdefault('sub_ocde', []).append(get_sub_OCDE(df, group).capitalize())\n",
    "    groups.setdefault('ocde', []).append(get_OCDE(df, group).capitalize())\n",
    "    groups.setdefault('knowledge', []).append(get_know(df, group).capitalize())\n",
    "    groups.setdefault('facultad', []).append(get_facultad(df, group).replace('4- ', '').capitalize())\n",
    "    groups.setdefault('departamento', []).append(get_departamento(df, group).replace('4- ', '').capitalize())\n",
    "\n",
    "groups = pd.DataFrame.from_dict(groups)\n",
    "groups['knowledge'].replace('Cyt de minerales y materiales', 'Ciencia y tecnología de minerales y materiales', inplace=True)\n",
    "# groups['facultad'].replace('4- ', '', inplace=True)\n",
    "groups.head()"
   ]
  },
  {
   "cell_type": "code",
   "execution_count": 9,
   "id": "9f7d53c1-5f82-4db4-873c-3a7ae1d4dd17",
   "metadata": {},
   "outputs": [],
   "source": [
    "import json"
   ]
  },
  {
   "cell_type": "code",
   "execution_count": 33,
   "id": "af3cba49-b110-4944-98e5-7fd8d1e7ff5e",
   "metadata": {
    "tags": []
   },
   "outputs": [
    {
     "data": {
      "text/plain": [
       "{'grupos': ['ABC DYNAMICS',\n",
       "  'ANALISIS MATEMATICO AM',\n",
       "  'ARQUITECTURA MEDIO AMBIENTE Y SOSTENIBILIDAD',\n",
       "  'ARQUITECTURA Y CIUDAD: CIENCIA Y CULTURA',\n",
       "  'ARQUITECTURA, CIUDAD Y TERRITORIO',\n",
       "  'ARQUITECTURA, MEDIOS DE REPRESENTACIÓN Y COMUNICACIÓN',\n",
       "  'Aplicaciones y enseñanza de las ciencias exactas y naturales',\n",
       "  'BIOPRODUCTOS',\n",
       "  'CALCULO CIENTIFICO Y MODELAMIENTO MATEMATICO',\n",
       "  'COGNICIÓN, LENGUAJE Y CULTURA',\n",
       "  'COMPETITIVIDAD EMPRESARIAL Y GESTION TECNOLOGICA',\n",
       "  'COMPUTACION APLICADA SUAVE Y DURA SHAC',\n",
       "  'CONTROL Y PROCESAMIENTO DIGITAL DE SEÑALES',\n",
       "  'CORPORATE GOVERNANCE TECNOLOGIA Y COMPLEJIDAD',\n",
       "  'CULTURA DE LA CALIDAD EN LA EDUCACION',\n",
       "  'CULTURA ORGANIZACIONAL Y GESTION HUMANA',\n",
       "  'EDUCACIÓN EN CIENCIAS EXACTAS Y NATURALES - EduCEN',\n",
       "  'EMPRENDIMIENTO EMPRESARIAL',\n",
       "  'ENVIRONMENTAL ENERGY AND EDUCATION POLICY E3P',\n",
       "  'ESTUDIOS EN CULTURA Y COMUNICACION ESCULCO',\n",
       "  'ESTUDIOS REGIONALES CULTURA Y SOCIEDAD',\n",
       "  'ETICA EMPRESARIAL Y EMPRESARIADO SOCIAL ETHOS',\n",
       "  'FILOSOFIA Y TEORIA EN ADMINISTRACION',\n",
       "  'FINANZAS CUANTITATIVAS',\n",
       "  'FINANZAS Y MARKETING',\n",
       "  'GAIA GRUPO DE AMBIENTES INTELIGENTES ADAPTATIVOS',\n",
       "  'GESTION RESPONSABLE PARA LA SOSTENIBILIDAD TERRITORIAL',\n",
       "  'GESTIÓN DE LA INFRAESTRUCTURA DE TRANSPORTE Y DEL ESPACIO PÚBLICO',\n",
       "  'GESTIÓN DE LAS EXPRESIONES ARTÍSTICAS, MEMORIA Y CREACIÓN',\n",
       "  'GESTIÓN DEL CONOCIMIENTO E-BUSINESS',\n",
       "  'GIPEM GRUPO DE INVESTIGACION EN POTENCIA ENERGIA Y MERCADOS',\n",
       "  'GRUPO DE ALIMENTOS FRUTALES',\n",
       "  'GRUPO DE FISICOQUIMICA COMPUTACIONAL',\n",
       "  'GRUPO DE INVESTIGACION EN APLICACION DE NUEVAS TECNOLOGIAS',\n",
       "  'GRUPO DE INVESTIGACION EN APROVECHAMIENTO DE RESIDUOS',\n",
       "  'GRUPO DE INVESTIGACION EN CALIDAD DE LA ENERGIA Y ELECTRONICA DE POTENCIA',\n",
       "  'GRUPO DE INVESTIGACION EN MATEMATICAS FISICA Y COMPUTACION FIZMAKO',\n",
       "  'GRUPO DE INVESTIGACION EN PROCESOS REACTIVOS INTENSIFICADOS CON SEPARACION Y MATERIALES AVANZADOS PRISMA',\n",
       "  'GRUPO DE INVESTIGACION EN RECURSOS ENERGETICOS GIRE',\n",
       "  'GRUPO DE INVESTIGACION MODELOS ESTADÍSTICOS',\n",
       "  'GRUPO DE INVESTIGACIÓN EN ADMINISTRACION MODERNA',\n",
       "  'GRUPO DE INVESTIGACIÓN EN ARQUITECTURA: GIA',\n",
       "  'GRUPO DE TRABAJO ACADEMICO DE PATRIMONIO URBANISMO Y ARQUITECTURA',\n",
       "  'GRUPO DE TRABAJO ACADEMICO EN APLICACIONES Y HERRAMIENTAS WEB',\n",
       "  'GRUPO DE TRABAJO ACADEMICO EN INGENIERIA HIDRAULICA Y AMBIENTAL',\n",
       "  'GRUPO DE TRABAJO ACADÉMICO EN MOVILIDAD SOSTENIBLE  - GIMS',\n",
       "  'GTT GRUPO DE INVESTIGACION EN TELEMATICA Y TELECOMUNICACIONES',\n",
       "  'IDENTIDAD Y CULTURA',\n",
       "  'INGENIERIA SISMICA Y SISMOLOGIA',\n",
       "  'INNOVACION Y DESARROLLO TECNOLOGICO',\n",
       "  'INSTRUMENTACIÓN FISICA',\n",
       "  'LABORATORIO DE FISICA DEL PLASMA',\n",
       "  'MAGNETISMO Y MATERIALES AVANZADOS',\n",
       "  'No aplica o no aparece',\n",
       "  'No esta en Minciencias',\n",
       "  'No operan',\n",
       "  'PCM COMPUTATIONAL APPLICATIONS',\n",
       "  'PENSAMIENTO AMBIENTAL',\n",
       "  'PERCEPCION Y CONTROL INTELIGENTE PCI',\n",
       "  'POLIMEROS Y MATERIALES COMPUESTOS ',\n",
       "  'PROCESOS QUIMICOS CATALITICOS Y BIOTECNOLOGICOS',\n",
       "  'PROPAGACION ELECTROMAGNETICA APLICADA (PROPELA)',\n",
       "  'PROPIEDADES OPTICAS DE MATERIALES',\n",
       "  'REDES DE DISTRIBUCION Y POTENCIA',\n",
       "  'TEORIA Y GESTION DE TECNOLOGIAS DE LA INFORMACION',\n",
       "  'TEORIA Y PRACTICA DE LA GESTION CULTURAL'],\n",
       " 'facultades': ['Facultad de administración',\n",
       "  'Facultad de ciencias exactas y naturales',\n",
       "  'Facultad de ingeniería y arquitectura'],\n",
       " 'departamentos': ['Departamento de administración',\n",
       "  'Departamento de ciencias humanas',\n",
       "  'Departamento de física y química',\n",
       "  'Departamento de informática y computación',\n",
       "  'Departamento de ingeniería civil',\n",
       "  'Departamento de ingeniería eléctrica, electrónica y computación',\n",
       "  'Departamento de ingeniería industrial',\n",
       "  'Departamento de ingeniería química',\n",
       "  'Departamento de matemáticas',\n",
       "  'Escuela de arquitectura y urbanismo'],\n",
       " 'sedes_int': ['Bogotá', 'Palmira', 'Manizales', 'Orinoquía', 'Medellín']}"
      ]
     },
     "execution_count": 33,
     "metadata": {},
     "output_type": "execute_result"
    }
   ],
   "source": [
    "data = json.dumps({\n",
    "    'grupos': np.unique(df['Nombre del grupo'].tolist()).tolist(),\n",
    "    'facultades': np.unique(groups['facultad'].tolist()).tolist(),\n",
    "    'departamentos': np.unique(groups['departamento'].tolist()).tolist(),\n",
    "    'sedes_int': list(set([sede.strip(' ,.') for sede in ','.join(np.unique(df['Sedes_Int']).tolist()).split(',')])),\n",
    "\n",
    "})\n",
    "\n",
    "data = json.loads(data)\n",
    "data"
   ]
  },
  {
   "cell_type": "code",
   "execution_count": 18,
   "id": "aac331bb-0931-4948-a581-5063cf695d55",
   "metadata": {},
   "outputs": [
    {
     "data": {
      "text/plain": [
       "(3, 66, 10)"
      ]
     },
     "execution_count": 18,
     "metadata": {},
     "output_type": "execute_result"
    }
   ],
   "source": [
    "len(data[\"facultades\"]), len(data[\"grupos\"]), len(data[\"departamentos\"])"
   ]
  },
  {
   "cell_type": "code",
   "execution_count": 39,
   "id": "32c533ca-95e7-4ba9-bab2-b57adb815faa",
   "metadata": {},
   "outputs": [
    {
     "data": {
      "text/plain": [
       "723"
      ]
     },
     "execution_count": 39,
     "metadata": {},
     "output_type": "execute_result"
    }
   ],
   "source": [
    "sum(groups['members'].to_list())"
   ]
  },
  {
   "cell_type": "code",
   "execution_count": 6,
   "id": "a254f6dc-0ffe-4106-b57a-99ce092590e3",
   "metadata": {},
   "outputs": [
    {
     "name": "stdout",
     "output_type": "stream",
     "text": [
      "<li><a class=\"dropdown-item\" href=\"#\">Abc dynamics</a></li>\n",
      "<li><a class=\"dropdown-item\" href=\"#\">Analisis matematico am</a></li>\n",
      "<li><a class=\"dropdown-item\" href=\"#\">Arquitectura medio ambiente y sostenibilidad</a></li>\n",
      "<li><a class=\"dropdown-item\" href=\"#\">Arquitectura y ciudad: ciencia y cultura</a></li>\n",
      "<li><a class=\"dropdown-item\" href=\"#\">Arquitectura, ciudad y territorio</a></li>\n",
      "<li><a class=\"dropdown-item\" href=\"#\">Arquitectura, medios de representación y comunicación</a></li>\n",
      "<li><a class=\"dropdown-item\" href=\"#\">Aplicaciones y enseñanza de las ciencias exactas y naturales</a></li>\n",
      "<li><a class=\"dropdown-item\" href=\"#\">Bioproductos</a></li>\n",
      "<li><a class=\"dropdown-item\" href=\"#\">Calculo cientifico y modelamiento matematico</a></li>\n",
      "<li><a class=\"dropdown-item\" href=\"#\">Cognición, lenguaje y cultura</a></li>\n",
      "<li><a class=\"dropdown-item\" href=\"#\">Competitividad empresarial y gestion tecnologica</a></li>\n",
      "<li><a class=\"dropdown-item\" href=\"#\">Computacion aplicada suave y dura shac</a></li>\n",
      "<li><a class=\"dropdown-item\" href=\"#\">Control y procesamiento digital de señales</a></li>\n",
      "<li><a class=\"dropdown-item\" href=\"#\">Corporate governance tecnologia y complejidad</a></li>\n",
      "<li><a class=\"dropdown-item\" href=\"#\">Cultura de la calidad en la educacion</a></li>\n",
      "<li><a class=\"dropdown-item\" href=\"#\">Cultura organizacional y gestion humana</a></li>\n",
      "<li><a class=\"dropdown-item\" href=\"#\">Educación en ciencias exactas y naturales - educen</a></li>\n",
      "<li><a class=\"dropdown-item\" href=\"#\">Emprendimiento empresarial</a></li>\n",
      "<li><a class=\"dropdown-item\" href=\"#\">Environmental energy and education policy e3p</a></li>\n",
      "<li><a class=\"dropdown-item\" href=\"#\">Estudios en cultura y comunicacion esculco</a></li>\n",
      "<li><a class=\"dropdown-item\" href=\"#\">Estudios regionales cultura y sociedad</a></li>\n",
      "<li><a class=\"dropdown-item\" href=\"#\">Etica empresarial y empresariado social ethos</a></li>\n",
      "<li><a class=\"dropdown-item\" href=\"#\">Filosofia y teoria en administracion</a></li>\n",
      "<li><a class=\"dropdown-item\" href=\"#\">Finanzas cuantitativas</a></li>\n",
      "<li><a class=\"dropdown-item\" href=\"#\">Finanzas y marketing</a></li>\n",
      "<li><a class=\"dropdown-item\" href=\"#\">Gaia grupo de ambientes inteligentes adaptativos</a></li>\n",
      "<li><a class=\"dropdown-item\" href=\"#\">Gestion responsable para la sostenibilidad territorial</a></li>\n",
      "<li><a class=\"dropdown-item\" href=\"#\">Gestión de la infraestructura de transporte y del espacio público</a></li>\n",
      "<li><a class=\"dropdown-item\" href=\"#\">Gestión de las expresiones artísticas, memoria y creación</a></li>\n",
      "<li><a class=\"dropdown-item\" href=\"#\">Gestión del conocimiento e-business</a></li>\n",
      "<li><a class=\"dropdown-item\" href=\"#\">Gipem grupo de investigacion en potencia energia y mercados</a></li>\n",
      "<li><a class=\"dropdown-item\" href=\"#\">Grupo de alimentos frutales</a></li>\n",
      "<li><a class=\"dropdown-item\" href=\"#\">Grupo de fisicoquimica computacional</a></li>\n",
      "<li><a class=\"dropdown-item\" href=\"#\">Grupo de investigacion en aplicacion de nuevas tecnologias</a></li>\n",
      "<li><a class=\"dropdown-item\" href=\"#\">Grupo de investigacion en aprovechamiento de residuos</a></li>\n",
      "<li><a class=\"dropdown-item\" href=\"#\">Grupo de investigacion en calidad de la energia y electronica de potencia</a></li>\n",
      "<li><a class=\"dropdown-item\" href=\"#\">Grupo de investigacion en matematicas fisica y computacion fizmako</a></li>\n",
      "<li><a class=\"dropdown-item\" href=\"#\">Grupo de investigacion en procesos reactivos intensificados con separacion y materiales avanzados prisma</a></li>\n",
      "<li><a class=\"dropdown-item\" href=\"#\">Grupo de investigacion en recursos energeticos gire</a></li>\n",
      "<li><a class=\"dropdown-item\" href=\"#\">Grupo de investigacion modelos estadísticos</a></li>\n",
      "<li><a class=\"dropdown-item\" href=\"#\">Grupo de investigación en administracion moderna</a></li>\n",
      "<li><a class=\"dropdown-item\" href=\"#\">Grupo de investigación en arquitectura: gia</a></li>\n",
      "<li><a class=\"dropdown-item\" href=\"#\">Grupo de trabajo academico de patrimonio urbanismo y arquitectura</a></li>\n",
      "<li><a class=\"dropdown-item\" href=\"#\">Grupo de trabajo academico en aplicaciones y herramientas web</a></li>\n",
      "<li><a class=\"dropdown-item\" href=\"#\">Grupo de trabajo academico en ingenieria hidraulica y ambiental</a></li>\n",
      "<li><a class=\"dropdown-item\" href=\"#\">Grupo de trabajo académico en movilidad sostenible  - gims</a></li>\n",
      "<li><a class=\"dropdown-item\" href=\"#\">Gtt grupo de investigacion en telematica y telecomunicaciones</a></li>\n",
      "<li><a class=\"dropdown-item\" href=\"#\">Identidad y cultura</a></li>\n",
      "<li><a class=\"dropdown-item\" href=\"#\">Ingenieria sismica y sismologia</a></li>\n",
      "<li><a class=\"dropdown-item\" href=\"#\">Innovacion y desarrollo tecnologico</a></li>\n",
      "<li><a class=\"dropdown-item\" href=\"#\">Instrumentación fisica</a></li>\n",
      "<li><a class=\"dropdown-item\" href=\"#\">Laboratorio de fisica del plasma</a></li>\n",
      "<li><a class=\"dropdown-item\" href=\"#\">Magnetismo y materiales avanzados</a></li>\n",
      "<li><a class=\"dropdown-item\" href=\"#\">No aplica o no aparece</a></li>\n",
      "<li><a class=\"dropdown-item\" href=\"#\">No esta en minciencias</a></li>\n",
      "<li><a class=\"dropdown-item\" href=\"#\">No operan</a></li>\n",
      "<li><a class=\"dropdown-item\" href=\"#\">Pcm computational applications</a></li>\n",
      "<li><a class=\"dropdown-item\" href=\"#\">Pensamiento ambiental</a></li>\n",
      "<li><a class=\"dropdown-item\" href=\"#\">Percepcion y control inteligente pci</a></li>\n",
      "<li><a class=\"dropdown-item\" href=\"#\">Polimeros y materiales compuestos </a></li>\n",
      "<li><a class=\"dropdown-item\" href=\"#\">Procesos quimicos cataliticos y biotecnologicos</a></li>\n",
      "<li><a class=\"dropdown-item\" href=\"#\">Propagacion electromagnetica aplicada (propela)</a></li>\n",
      "<li><a class=\"dropdown-item\" href=\"#\">Propiedades opticas de materiales</a></li>\n",
      "<li><a class=\"dropdown-item\" href=\"#\">Redes de distribucion y potencia</a></li>\n",
      "<li><a class=\"dropdown-item\" href=\"#\">Teoria y gestion de tecnologias de la informacion</a></li>\n",
      "<li><a class=\"dropdown-item\" href=\"#\">Teoria y practica de la gestion cultural</a></li>\n"
     ]
    }
   ],
   "source": [
    "for i in ids:\n",
    "    print(f\"\"\"<li><a class=\"dropdown-item\" href=\"#\">{i.capitalize()}</a></li>\"\"\")"
   ]
  },
  {
   "cell_type": "code",
   "execution_count": 8,
   "id": "7f326791-6e42-453e-b13a-106ec02d69fc",
   "metadata": {},
   "outputs": [
    {
     "data": {
      "text/plain": [
       "array(['Departamento de administración',\n",
       "       'Departamento de ciencias humanas',\n",
       "       'Departamento de física y química',\n",
       "       'Departamento de informática y computación',\n",
       "       'Departamento de ingeniería civil',\n",
       "       'Departamento de ingeniería eléctrica, electrónica y computación',\n",
       "       'Departamento de ingeniería industrial',\n",
       "       'Departamento de ingeniería química',\n",
       "       'Departamento de matemáticas',\n",
       "       'Escuela de arquitectura y urbanismo'], dtype='<U63')"
      ]
     },
     "execution_count": 8,
     "metadata": {},
     "output_type": "execute_result"
    }
   ],
   "source": [
    "np.unique(groups['departamento'].tolist())"
   ]
  },
  {
   "cell_type": "code",
   "execution_count": 391,
   "id": "17a4a193-7819-492f-8d9e-820d414647cb",
   "metadata": {},
   "outputs": [],
   "source": [
    "faculty = 'All'\n",
    "# faculty = 'Facultad de administración'\n",
    "# faculty = 'Facultad de ciencias exactas y naturales'\n",
    "# faculty = 'Facultad de ingeniería y arquitectura'"
   ]
  },
  {
   "cell_type": "code",
   "execution_count": 379,
   "id": "6ef55188-dab7-4777-854c-d59e94cab795",
   "metadata": {
    "tags": []
   },
   "outputs": [
    {
     "data": {
      "application/vnd.plotly.v1+json": {
       "config": {
        "plotlyServerURL": "https://plot.ly"
       },
       "data": [
        {
         "alignmentgroup": "True",
         "bingroup": "y",
         "hovertemplate": "Area=Ingeniería y tecnología<br>count=%{x}<br>Subárea=%{y}<extra></extra>",
         "legendgroup": "Ingeniería y tecnología",
         "marker": {
          "color": "#636efa",
          "pattern": {
           "shape": ""
          }
         },
         "name": "Ingeniería y tecnología",
         "offsetgroup": "Ingeniería y tecnología",
         "orientation": "h",
         "showlegend": true,
         "type": "histogram",
         "xaxis": "x",
         "y": [
          "Ingeniería civil",
          "Ingenierías eléctrica, electrónica e informática",
          "Ingenierías eléctrica, electrónica e informática",
          "Ingenierías eléctrica, electrónica e informática",
          "Ingeniería civil",
          "Ingeniería civil",
          "Ingeniería civil",
          "Ingenierías eléctrica, electrónica e informática",
          "Ingeniería civil",
          "Ingeniería química",
          "Ingeniería química",
          "Ingeniería química",
          "Ingenierías eléctrica, electrónica e informática",
          "Ingeniería química",
          "Ingenierías eléctrica, electrónica e informática",
          "Ingeniería civil",
          "Ingeniería química",
          "Ingeniería civil",
          "Ingenierías eléctrica, electrónica e informática",
          "Ingeniería civil",
          "Otras ingenierías y tecnologías",
          "Ingeniería civil",
          "Ingeniería civil",
          "Ingeniería civil",
          "Ingenierías eléctrica, electrónica e informática",
          "Ingeniería química",
          "Ingeniería química",
          "Ingenierías eléctrica, electrónica e informática",
          "Ingenierías eléctrica, electrónica e informática",
          "Ingeniería civil"
         ],
         "yaxis": "y"
        },
        {
         "alignmentgroup": "True",
         "bingroup": "y",
         "hovertemplate": "Area=Metemáticas<br>count=%{x}<br>Subárea=%{y}<extra></extra>",
         "legendgroup": "Metemáticas",
         "marker": {
          "color": "#EF553B",
          "pattern": {
           "shape": ""
          }
         },
         "name": "Metemáticas",
         "offsetgroup": "Metemáticas",
         "orientation": "h",
         "showlegend": true,
         "type": "histogram",
         "xaxis": "x",
         "y": [
          "Ingeniería civil",
          "Ingeniería civil"
         ],
         "yaxis": "y"
        },
        {
         "alignmentgroup": "True",
         "bingroup": "y",
         "hovertemplate": "Area=Ciencias naturales<br>count=%{x}<br>Subárea=%{y}<extra></extra>",
         "legendgroup": "Ciencias naturales",
         "marker": {
          "color": "#00cc96",
          "pattern": {
           "shape": ""
          }
         },
         "name": "Ciencias naturales",
         "offsetgroup": "Ciencias naturales",
         "orientation": "h",
         "showlegend": true,
         "type": "histogram",
         "xaxis": "x",
         "y": [
          "Ciencias de la tierra y medioambientales",
          "Ingeniería civil",
          "Ingeniería civil",
          "Ingeniería civil",
          "Ingeniería civil",
          "Ingeniería civil",
          "Ingeniería civil",
          "Ingeniería civil"
         ],
         "yaxis": "y"
        },
        {
         "alignmentgroup": "True",
         "bingroup": "y",
         "hovertemplate": "Area=Arte<br>count=%{x}<br>Subárea=%{y}<extra></extra>",
         "legendgroup": "Arte",
         "marker": {
          "color": "#ab63fa",
          "pattern": {
           "shape": ""
          }
         },
         "name": "Arte",
         "offsetgroup": "Arte",
         "orientation": "h",
         "showlegend": true,
         "type": "histogram",
         "xaxis": "x",
         "y": [
          "Humanidades",
          "Humanidades",
          "Humanidades"
         ],
         "yaxis": "y"
        },
        {
         "alignmentgroup": "True",
         "bingroup": "y",
         "hovertemplate": "Area=Humanidades<br>count=%{x}<br>Subárea=%{y}<extra></extra>",
         "legendgroup": "Humanidades",
         "marker": {
          "color": "#FFA15A",
          "pattern": {
           "shape": ""
          }
         },
         "name": "Humanidades",
         "offsetgroup": "Humanidades",
         "orientation": "h",
         "showlegend": true,
         "type": "histogram",
         "xaxis": "x",
         "y": [
          "Arte",
          "Arte",
          "Ingeniería civil",
          "Ingeniería civil"
         ],
         "yaxis": "y"
        },
        {
         "alignmentgroup": "True",
         "bingroup": "y",
         "hovertemplate": "Area=Ciencias físicas<br>count=%{x}<br>Subárea=%{y}<extra></extra>",
         "legendgroup": "Ciencias físicas",
         "marker": {
          "color": "#19d3f3",
          "pattern": {
           "shape": ""
          }
         },
         "name": "Ciencias físicas",
         "offsetgroup": "Ciencias físicas",
         "orientation": "h",
         "showlegend": true,
         "type": "histogram",
         "xaxis": "x",
         "y": [
          "Ingeniería civil"
         ],
         "yaxis": "y"
        },
        {
         "alignmentgroup": "True",
         "bingroup": "y",
         "hovertemplate": "Area=Psicologia<br>count=%{x}<br>Subárea=%{y}<extra></extra>",
         "legendgroup": "Psicologia",
         "marker": {
          "color": "#FF6692",
          "pattern": {
           "shape": ""
          }
         },
         "name": "Psicologia",
         "offsetgroup": "Psicologia",
         "orientation": "h",
         "showlegend": true,
         "type": "histogram",
         "xaxis": "x",
         "y": [
          "Ingeniería civil"
         ],
         "yaxis": "y"
        },
        {
         "alignmentgroup": "True",
         "bingroup": "y",
         "hovertemplate": "Area=Ciencias sociales<br>count=%{x}<br>Subárea=%{y}<extra></extra>",
         "legendgroup": "Ciencias sociales",
         "marker": {
          "color": "#B6E880",
          "pattern": {
           "shape": ""
          }
         },
         "name": "Ciencias sociales",
         "offsetgroup": "Ciencias sociales",
         "orientation": "h",
         "showlegend": true,
         "type": "histogram",
         "xaxis": "x",
         "y": [
          "Ingeniería civil",
          "Ingeniería civil",
          "Ingeniería civil",
          "Economía y negocios",
          "Ingeniería civil",
          "Ingeniería civil",
          "Economía y negocios",
          "Ingeniería civil",
          "Ingeniería civil",
          "Ingeniería civil",
          "Ingeniería civil"
         ],
         "yaxis": "y"
        },
        {
         "alignmentgroup": "True",
         "bingroup": "y",
         "hovertemplate": "Area=Otras ciencias naturales<br>count=%{x}<br>Subárea=%{y}<extra></extra>",
         "legendgroup": "Otras ciencias naturales",
         "marker": {
          "color": "#FF97FF",
          "pattern": {
           "shape": ""
          }
         },
         "name": "Otras ciencias naturales",
         "offsetgroup": "Otras ciencias naturales",
         "orientation": "h",
         "showlegend": true,
         "type": "histogram",
         "xaxis": "x",
         "y": [
          "Ingeniería civil"
         ],
         "yaxis": "y"
        },
        {
         "alignmentgroup": "True",
         "bingroup": "y",
         "hovertemplate": "Area=Ciencias médicas y de la salud<br>count=%{x}<br>Subárea=%{y}<extra></extra>",
         "legendgroup": "Ciencias médicas y de la salud",
         "marker": {
          "color": "#FECB52",
          "pattern": {
           "shape": ""
          }
         },
         "name": "Ciencias médicas y de la salud",
         "offsetgroup": "Ciencias médicas y de la salud",
         "orientation": "h",
         "showlegend": true,
         "type": "histogram",
         "xaxis": "x",
         "y": [
          "Ingeniería civil"
         ],
         "yaxis": "y"
        },
        {
         "alignmentgroup": "True",
         "bingroup": "y",
         "hovertemplate": "Area=Ciencias sociales - otras ciencias sociales<br>count=%{x}<br>Subárea=%{y}<extra></extra>",
         "legendgroup": "Ciencias sociales - otras ciencias sociales",
         "marker": {
          "color": "#636efa",
          "pattern": {
           "shape": ""
          }
         },
         "name": "Ciencias sociales - otras ciencias sociales",
         "offsetgroup": "Ciencias sociales - otras ciencias sociales",
         "orientation": "h",
         "showlegend": true,
         "type": "histogram",
         "xaxis": "x",
         "y": [
          "Ingeniería civil"
         ],
         "yaxis": "y"
        },
        {
         "alignmentgroup": "True",
         "bingroup": "y",
         "hovertemplate": "Area=Artes<br>count=%{x}<br>Subárea=%{y}<extra></extra>",
         "legendgroup": "Artes",
         "marker": {
          "color": "#EF553B",
          "pattern": {
           "shape": ""
          }
         },
         "name": "Artes",
         "offsetgroup": "Artes",
         "orientation": "h",
         "showlegend": true,
         "type": "histogram",
         "xaxis": "x",
         "y": [
          "Ingeniería civil"
         ],
         "yaxis": "y"
        },
        {
         "alignmentgroup": "True",
         "bingroup": "y",
         "hovertemplate": "Area=Otras ciencias sociales<br>count=%{x}<br>Subárea=%{y}<extra></extra>",
         "legendgroup": "Otras ciencias sociales",
         "marker": {
          "color": "#00cc96",
          "pattern": {
           "shape": ""
          }
         },
         "name": "Otras ciencias sociales",
         "offsetgroup": "Otras ciencias sociales",
         "orientation": "h",
         "showlegend": true,
         "type": "histogram",
         "xaxis": "x",
         "y": [
          "Ingeniería civil"
         ],
         "yaxis": "y"
        },
        {
         "alignmentgroup": "True",
         "bingroup": "y",
         "hovertemplate": "Area=Ingeniería y tecnología - ingenierías eléctrica, electrónica e informática<br>count=%{x}<br>Subárea=%{y}<extra></extra>",
         "legendgroup": "Ingeniería y tecnología - ingenierías eléctrica, electrónica e informática",
         "marker": {
          "color": "#ab63fa",
          "pattern": {
           "shape": ""
          }
         },
         "name": "Ingeniería y tecnología - ingenierías eléctrica, electrónica e informática",
         "offsetgroup": "Ingeniería y tecnología - ingenierías eléctrica, electrónica e informática",
         "orientation": "h",
         "showlegend": true,
         "type": "histogram",
         "xaxis": "x",
         "y": [
          "Ingeniería civil"
         ],
         "yaxis": "y"
        }
       ],
       "layout": {
        "autosize": true,
        "barmode": "stack",
        "legend": {
         "title": {
          "text": "Area"
         },
         "tracegroupgap": 0
        },
        "template": {
         "data": {
          "bar": [
           {
            "error_x": {
             "color": "#2a3f5f"
            },
            "error_y": {
             "color": "#2a3f5f"
            },
            "marker": {
             "line": {
              "color": "white",
              "width": 0.5
             },
             "pattern": {
              "fillmode": "overlay",
              "size": 10,
              "solidity": 0.2
             }
            },
            "type": "bar"
           }
          ],
          "barpolar": [
           {
            "marker": {
             "line": {
              "color": "white",
              "width": 0.5
             },
             "pattern": {
              "fillmode": "overlay",
              "size": 10,
              "solidity": 0.2
             }
            },
            "type": "barpolar"
           }
          ],
          "carpet": [
           {
            "aaxis": {
             "endlinecolor": "#2a3f5f",
             "gridcolor": "#C8D4E3",
             "linecolor": "#C8D4E3",
             "minorgridcolor": "#C8D4E3",
             "startlinecolor": "#2a3f5f"
            },
            "baxis": {
             "endlinecolor": "#2a3f5f",
             "gridcolor": "#C8D4E3",
             "linecolor": "#C8D4E3",
             "minorgridcolor": "#C8D4E3",
             "startlinecolor": "#2a3f5f"
            },
            "type": "carpet"
           }
          ],
          "choropleth": [
           {
            "colorbar": {
             "outlinewidth": 0,
             "ticks": ""
            },
            "type": "choropleth"
           }
          ],
          "contour": [
           {
            "colorbar": {
             "outlinewidth": 0,
             "ticks": ""
            },
            "colorscale": [
             [
              0,
              "#0d0887"
             ],
             [
              0.1111111111111111,
              "#46039f"
             ],
             [
              0.2222222222222222,
              "#7201a8"
             ],
             [
              0.3333333333333333,
              "#9c179e"
             ],
             [
              0.4444444444444444,
              "#bd3786"
             ],
             [
              0.5555555555555556,
              "#d8576b"
             ],
             [
              0.6666666666666666,
              "#ed7953"
             ],
             [
              0.7777777777777778,
              "#fb9f3a"
             ],
             [
              0.8888888888888888,
              "#fdca26"
             ],
             [
              1,
              "#f0f921"
             ]
            ],
            "type": "contour"
           }
          ],
          "contourcarpet": [
           {
            "colorbar": {
             "outlinewidth": 0,
             "ticks": ""
            },
            "type": "contourcarpet"
           }
          ],
          "heatmap": [
           {
            "colorbar": {
             "outlinewidth": 0,
             "ticks": ""
            },
            "colorscale": [
             [
              0,
              "#0d0887"
             ],
             [
              0.1111111111111111,
              "#46039f"
             ],
             [
              0.2222222222222222,
              "#7201a8"
             ],
             [
              0.3333333333333333,
              "#9c179e"
             ],
             [
              0.4444444444444444,
              "#bd3786"
             ],
             [
              0.5555555555555556,
              "#d8576b"
             ],
             [
              0.6666666666666666,
              "#ed7953"
             ],
             [
              0.7777777777777778,
              "#fb9f3a"
             ],
             [
              0.8888888888888888,
              "#fdca26"
             ],
             [
              1,
              "#f0f921"
             ]
            ],
            "type": "heatmap"
           }
          ],
          "heatmapgl": [
           {
            "colorbar": {
             "outlinewidth": 0,
             "ticks": ""
            },
            "colorscale": [
             [
              0,
              "#0d0887"
             ],
             [
              0.1111111111111111,
              "#46039f"
             ],
             [
              0.2222222222222222,
              "#7201a8"
             ],
             [
              0.3333333333333333,
              "#9c179e"
             ],
             [
              0.4444444444444444,
              "#bd3786"
             ],
             [
              0.5555555555555556,
              "#d8576b"
             ],
             [
              0.6666666666666666,
              "#ed7953"
             ],
             [
              0.7777777777777778,
              "#fb9f3a"
             ],
             [
              0.8888888888888888,
              "#fdca26"
             ],
             [
              1,
              "#f0f921"
             ]
            ],
            "type": "heatmapgl"
           }
          ],
          "histogram": [
           {
            "marker": {
             "pattern": {
              "fillmode": "overlay",
              "size": 10,
              "solidity": 0.2
             }
            },
            "type": "histogram"
           }
          ],
          "histogram2d": [
           {
            "colorbar": {
             "outlinewidth": 0,
             "ticks": ""
            },
            "colorscale": [
             [
              0,
              "#0d0887"
             ],
             [
              0.1111111111111111,
              "#46039f"
             ],
             [
              0.2222222222222222,
              "#7201a8"
             ],
             [
              0.3333333333333333,
              "#9c179e"
             ],
             [
              0.4444444444444444,
              "#bd3786"
             ],
             [
              0.5555555555555556,
              "#d8576b"
             ],
             [
              0.6666666666666666,
              "#ed7953"
             ],
             [
              0.7777777777777778,
              "#fb9f3a"
             ],
             [
              0.8888888888888888,
              "#fdca26"
             ],
             [
              1,
              "#f0f921"
             ]
            ],
            "type": "histogram2d"
           }
          ],
          "histogram2dcontour": [
           {
            "colorbar": {
             "outlinewidth": 0,
             "ticks": ""
            },
            "colorscale": [
             [
              0,
              "#0d0887"
             ],
             [
              0.1111111111111111,
              "#46039f"
             ],
             [
              0.2222222222222222,
              "#7201a8"
             ],
             [
              0.3333333333333333,
              "#9c179e"
             ],
             [
              0.4444444444444444,
              "#bd3786"
             ],
             [
              0.5555555555555556,
              "#d8576b"
             ],
             [
              0.6666666666666666,
              "#ed7953"
             ],
             [
              0.7777777777777778,
              "#fb9f3a"
             ],
             [
              0.8888888888888888,
              "#fdca26"
             ],
             [
              1,
              "#f0f921"
             ]
            ],
            "type": "histogram2dcontour"
           }
          ],
          "mesh3d": [
           {
            "colorbar": {
             "outlinewidth": 0,
             "ticks": ""
            },
            "type": "mesh3d"
           }
          ],
          "parcoords": [
           {
            "line": {
             "colorbar": {
              "outlinewidth": 0,
              "ticks": ""
             }
            },
            "type": "parcoords"
           }
          ],
          "pie": [
           {
            "automargin": true,
            "type": "pie"
           }
          ],
          "scatter": [
           {
            "fillpattern": {
             "fillmode": "overlay",
             "size": 10,
             "solidity": 0.2
            },
            "type": "scatter"
           }
          ],
          "scatter3d": [
           {
            "line": {
             "colorbar": {
              "outlinewidth": 0,
              "ticks": ""
             }
            },
            "marker": {
             "colorbar": {
              "outlinewidth": 0,
              "ticks": ""
             }
            },
            "type": "scatter3d"
           }
          ],
          "scattercarpet": [
           {
            "marker": {
             "colorbar": {
              "outlinewidth": 0,
              "ticks": ""
             }
            },
            "type": "scattercarpet"
           }
          ],
          "scattergeo": [
           {
            "marker": {
             "colorbar": {
              "outlinewidth": 0,
              "ticks": ""
             }
            },
            "type": "scattergeo"
           }
          ],
          "scattergl": [
           {
            "marker": {
             "colorbar": {
              "outlinewidth": 0,
              "ticks": ""
             }
            },
            "type": "scattergl"
           }
          ],
          "scattermapbox": [
           {
            "marker": {
             "colorbar": {
              "outlinewidth": 0,
              "ticks": ""
             }
            },
            "type": "scattermapbox"
           }
          ],
          "scatterpolar": [
           {
            "marker": {
             "colorbar": {
              "outlinewidth": 0,
              "ticks": ""
             }
            },
            "type": "scatterpolar"
           }
          ],
          "scatterpolargl": [
           {
            "marker": {
             "colorbar": {
              "outlinewidth": 0,
              "ticks": ""
             }
            },
            "type": "scatterpolargl"
           }
          ],
          "scatterternary": [
           {
            "marker": {
             "colorbar": {
              "outlinewidth": 0,
              "ticks": ""
             }
            },
            "type": "scatterternary"
           }
          ],
          "surface": [
           {
            "colorbar": {
             "outlinewidth": 0,
             "ticks": ""
            },
            "colorscale": [
             [
              0,
              "#0d0887"
             ],
             [
              0.1111111111111111,
              "#46039f"
             ],
             [
              0.2222222222222222,
              "#7201a8"
             ],
             [
              0.3333333333333333,
              "#9c179e"
             ],
             [
              0.4444444444444444,
              "#bd3786"
             ],
             [
              0.5555555555555556,
              "#d8576b"
             ],
             [
              0.6666666666666666,
              "#ed7953"
             ],
             [
              0.7777777777777778,
              "#fb9f3a"
             ],
             [
              0.8888888888888888,
              "#fdca26"
             ],
             [
              1,
              "#f0f921"
             ]
            ],
            "type": "surface"
           }
          ],
          "table": [
           {
            "cells": {
             "fill": {
              "color": "#EBF0F8"
             },
             "line": {
              "color": "white"
             }
            },
            "header": {
             "fill": {
              "color": "#C8D4E3"
             },
             "line": {
              "color": "white"
             }
            },
            "type": "table"
           }
          ]
         },
         "layout": {
          "annotationdefaults": {
           "arrowcolor": "#2a3f5f",
           "arrowhead": 0,
           "arrowwidth": 1
          },
          "autotypenumbers": "strict",
          "coloraxis": {
           "colorbar": {
            "outlinewidth": 0,
            "ticks": ""
           }
          },
          "colorscale": {
           "diverging": [
            [
             0,
             "#8e0152"
            ],
            [
             0.1,
             "#c51b7d"
            ],
            [
             0.2,
             "#de77ae"
            ],
            [
             0.3,
             "#f1b6da"
            ],
            [
             0.4,
             "#fde0ef"
            ],
            [
             0.5,
             "#f7f7f7"
            ],
            [
             0.6,
             "#e6f5d0"
            ],
            [
             0.7,
             "#b8e186"
            ],
            [
             0.8,
             "#7fbc41"
            ],
            [
             0.9,
             "#4d9221"
            ],
            [
             1,
             "#276419"
            ]
           ],
           "sequential": [
            [
             0,
             "#0d0887"
            ],
            [
             0.1111111111111111,
             "#46039f"
            ],
            [
             0.2222222222222222,
             "#7201a8"
            ],
            [
             0.3333333333333333,
             "#9c179e"
            ],
            [
             0.4444444444444444,
             "#bd3786"
            ],
            [
             0.5555555555555556,
             "#d8576b"
            ],
            [
             0.6666666666666666,
             "#ed7953"
            ],
            [
             0.7777777777777778,
             "#fb9f3a"
            ],
            [
             0.8888888888888888,
             "#fdca26"
            ],
            [
             1,
             "#f0f921"
            ]
           ],
           "sequentialminus": [
            [
             0,
             "#0d0887"
            ],
            [
             0.1111111111111111,
             "#46039f"
            ],
            [
             0.2222222222222222,
             "#7201a8"
            ],
            [
             0.3333333333333333,
             "#9c179e"
            ],
            [
             0.4444444444444444,
             "#bd3786"
            ],
            [
             0.5555555555555556,
             "#d8576b"
            ],
            [
             0.6666666666666666,
             "#ed7953"
            ],
            [
             0.7777777777777778,
             "#fb9f3a"
            ],
            [
             0.8888888888888888,
             "#fdca26"
            ],
            [
             1,
             "#f0f921"
            ]
           ]
          },
          "colorway": [
           "#636efa",
           "#EF553B",
           "#00cc96",
           "#ab63fa",
           "#FFA15A",
           "#19d3f3",
           "#FF6692",
           "#B6E880",
           "#FF97FF",
           "#FECB52"
          ],
          "font": {
           "color": "#2a3f5f"
          },
          "geo": {
           "bgcolor": "white",
           "lakecolor": "white",
           "landcolor": "white",
           "showlakes": true,
           "showland": true,
           "subunitcolor": "#C8D4E3"
          },
          "hoverlabel": {
           "align": "left"
          },
          "hovermode": "closest",
          "mapbox": {
           "style": "light"
          },
          "paper_bgcolor": "white",
          "plot_bgcolor": "white",
          "polar": {
           "angularaxis": {
            "gridcolor": "#EBF0F8",
            "linecolor": "#EBF0F8",
            "ticks": ""
           },
           "bgcolor": "white",
           "radialaxis": {
            "gridcolor": "#EBF0F8",
            "linecolor": "#EBF0F8",
            "ticks": ""
           }
          },
          "scene": {
           "xaxis": {
            "backgroundcolor": "white",
            "gridcolor": "#DFE8F3",
            "gridwidth": 2,
            "linecolor": "#EBF0F8",
            "showbackground": true,
            "ticks": "",
            "zerolinecolor": "#EBF0F8"
           },
           "yaxis": {
            "backgroundcolor": "white",
            "gridcolor": "#DFE8F3",
            "gridwidth": 2,
            "linecolor": "#EBF0F8",
            "showbackground": true,
            "ticks": "",
            "zerolinecolor": "#EBF0F8"
           },
           "zaxis": {
            "backgroundcolor": "white",
            "gridcolor": "#DFE8F3",
            "gridwidth": 2,
            "linecolor": "#EBF0F8",
            "showbackground": true,
            "ticks": "",
            "zerolinecolor": "#EBF0F8"
           }
          },
          "shapedefaults": {
           "line": {
            "color": "#2a3f5f"
           }
          },
          "ternary": {
           "aaxis": {
            "gridcolor": "#DFE8F3",
            "linecolor": "#A2B1C6",
            "ticks": ""
           },
           "baxis": {
            "gridcolor": "#DFE8F3",
            "linecolor": "#A2B1C6",
            "ticks": ""
           },
           "bgcolor": "white",
           "caxis": {
            "gridcolor": "#DFE8F3",
            "linecolor": "#A2B1C6",
            "ticks": ""
           }
          },
          "title": {
           "x": 0.05
          },
          "xaxis": {
           "automargin": true,
           "gridcolor": "#EBF0F8",
           "linecolor": "#EBF0F8",
           "ticks": "",
           "title": {
            "standoff": 15
           },
           "zerolinecolor": "#EBF0F8",
           "zerolinewidth": 2
          },
          "yaxis": {
           "automargin": true,
           "gridcolor": "#EBF0F8",
           "linecolor": "#EBF0F8",
           "ticks": "",
           "title": {
            "standoff": 15
           },
           "zerolinecolor": "#EBF0F8",
           "zerolinewidth": 2
          }
         }
        },
        "title": {
         "text": "Áreas del Conocimiento - OCDE"
        },
        "xaxis": {
         "anchor": "y",
         "autorange": true,
         "domain": [
          0,
          1
         ],
         "range": [
          0,
          42.10526315789474
         ],
         "title": {
          "text": ""
         }
        },
        "yaxis": {
         "anchor": "x",
         "autorange": true,
         "domain": [
          0,
          1
         ],
         "range": [
          -0.5,
          7.5
         ],
         "title": {
          "text": "Subárea"
         },
         "type": "category"
        }
       }
      },
      "image/png": "[encoded data removed]",
      "text/html": [
       "<div>                            <div id=\"00e8a19f-65c7-4f65-9e0f-5eba76524ad5\" class=\"plotly-graph-div\" style=\"height:500px; width:100%;\"></div>            <script type=\"text/javascript\">                require([\"plotly\"], function(Plotly) {                    window.PLOTLYENV=window.PLOTLYENV || {};                                    if (document.getElementById(\"00e8a19f-65c7-4f65-9e0f-5eba76524ad5\")) {                    Plotly.newPlot(                        \"00e8a19f-65c7-4f65-9e0f-5eba76524ad5\",                        [{\"alignmentgroup\":\"True\",\"bingroup\":\"y\",\"hovertemplate\":\"Area=Ingenier\\u00eda y tecnolog\\u00eda<br>count=%{x}<br>Sub\\u00e1rea=%{y}<extra></extra>\",\"legendgroup\":\"Ingenier\\u00eda y tecnolog\\u00eda\",\"marker\":{\"color\":\"#636efa\",\"pattern\":{\"shape\":\"\"}},\"name\":\"Ingenier\\u00eda y tecnolog\\u00eda\",\"offsetgroup\":\"Ingenier\\u00eda y tecnolog\\u00eda\",\"orientation\":\"h\",\"showlegend\":true,\"xaxis\":\"x\",\"y\":[\"Ingenier\\u00eda civil\",\"Ingenier\\u00edas el\\u00e9ctrica, electr\\u00f3nica e inform\\u00e1tica\",\"Ingenier\\u00edas el\\u00e9ctrica, electr\\u00f3nica e inform\\u00e1tica\",\"Ingenier\\u00edas el\\u00e9ctrica, electr\\u00f3nica e inform\\u00e1tica\",\"Ingenier\\u00eda civil\",\"Ingenier\\u00eda civil\",\"Ingenier\\u00eda civil\",\"Ingenier\\u00edas el\\u00e9ctrica, electr\\u00f3nica e inform\\u00e1tica\",\"Ingenier\\u00eda civil\",\"Ingenier\\u00eda qu\\u00edmica\",\"Ingenier\\u00eda qu\\u00edmica\",\"Ingenier\\u00eda qu\\u00edmica\",\"Ingenier\\u00edas el\\u00e9ctrica, electr\\u00f3nica e inform\\u00e1tica\",\"Ingenier\\u00eda qu\\u00edmica\",\"Ingenier\\u00edas el\\u00e9ctrica, electr\\u00f3nica e inform\\u00e1tica\",\"Ingenier\\u00eda civil\",\"Ingenier\\u00eda qu\\u00edmica\",\"Ingenier\\u00eda civil\",\"Ingenier\\u00edas el\\u00e9ctrica, electr\\u00f3nica e inform\\u00e1tica\",\"Ingenier\\u00eda civil\",\"Otras ingenier\\u00edas y tecnolog\\u00edas\",\"Ingenier\\u00eda civil\",\"Ingenier\\u00eda civil\",\"Ingenier\\u00eda civil\",\"Ingenier\\u00edas el\\u00e9ctrica, electr\\u00f3nica e inform\\u00e1tica\",\"Ingenier\\u00eda qu\\u00edmica\",\"Ingenier\\u00eda qu\\u00edmica\",\"Ingenier\\u00edas el\\u00e9ctrica, electr\\u00f3nica e inform\\u00e1tica\",\"Ingenier\\u00edas el\\u00e9ctrica, electr\\u00f3nica e inform\\u00e1tica\",\"Ingenier\\u00eda civil\"],\"yaxis\":\"y\",\"type\":\"histogram\"},{\"alignmentgroup\":\"True\",\"bingroup\":\"y\",\"hovertemplate\":\"Area=Metem\\u00e1ticas<br>count=%{x}<br>Sub\\u00e1rea=%{y}<extra></extra>\",\"legendgroup\":\"Metem\\u00e1ticas\",\"marker\":{\"color\":\"#EF553B\",\"pattern\":{\"shape\":\"\"}},\"name\":\"Metem\\u00e1ticas\",\"offsetgroup\":\"Metem\\u00e1ticas\",\"orientation\":\"h\",\"showlegend\":true,\"xaxis\":\"x\",\"y\":[\"Ingenier\\u00eda civil\",\"Ingenier\\u00eda civil\"],\"yaxis\":\"y\",\"type\":\"histogram\"},{\"alignmentgroup\":\"True\",\"bingroup\":\"y\",\"hovertemplate\":\"Area=Ciencias naturales<br>count=%{x}<br>Sub\\u00e1rea=%{y}<extra></extra>\",\"legendgroup\":\"Ciencias naturales\",\"marker\":{\"color\":\"#00cc96\",\"pattern\":{\"shape\":\"\"}},\"name\":\"Ciencias naturales\",\"offsetgroup\":\"Ciencias naturales\",\"orientation\":\"h\",\"showlegend\":true,\"xaxis\":\"x\",\"y\":[\"Ciencias de la tierra y medioambientales\",\"Ingenier\\u00eda civil\",\"Ingenier\\u00eda civil\",\"Ingenier\\u00eda civil\",\"Ingenier\\u00eda civil\",\"Ingenier\\u00eda civil\",\"Ingenier\\u00eda civil\",\"Ingenier\\u00eda civil\"],\"yaxis\":\"y\",\"type\":\"histogram\"},{\"alignmentgroup\":\"True\",\"bingroup\":\"y\",\"hovertemplate\":\"Area=Arte<br>count=%{x}<br>Sub\\u00e1rea=%{y}<extra></extra>\",\"legendgroup\":\"Arte\",\"marker\":{\"color\":\"#ab63fa\",\"pattern\":{\"shape\":\"\"}},\"name\":\"Arte\",\"offsetgroup\":\"Arte\",\"orientation\":\"h\",\"showlegend\":true,\"xaxis\":\"x\",\"y\":[\"Humanidades\",\"Humanidades\",\"Humanidades\"],\"yaxis\":\"y\",\"type\":\"histogram\"},{\"alignmentgroup\":\"True\",\"bingroup\":\"y\",\"hovertemplate\":\"Area=Humanidades<br>count=%{x}<br>Sub\\u00e1rea=%{y}<extra></extra>\",\"legendgroup\":\"Humanidades\",\"marker\":{\"color\":\"#FFA15A\",\"pattern\":{\"shape\":\"\"}},\"name\":\"Humanidades\",\"offsetgroup\":\"Humanidades\",\"orientation\":\"h\",\"showlegend\":true,\"xaxis\":\"x\",\"y\":[\"Arte\",\"Arte\",\"Ingenier\\u00eda civil\",\"Ingenier\\u00eda civil\"],\"yaxis\":\"y\",\"type\":\"histogram\"},{\"alignmentgroup\":\"True\",\"bingroup\":\"y\",\"hovertemplate\":\"Area=Ciencias f\\u00edsicas<br>count=%{x}<br>Sub\\u00e1rea=%{y}<extra></extra>\",\"legendgroup\":\"Ciencias f\\u00edsicas\",\"marker\":{\"color\":\"#19d3f3\",\"pattern\":{\"shape\":\"\"}},\"name\":\"Ciencias f\\u00edsicas\",\"offsetgroup\":\"Ciencias f\\u00edsicas\",\"orientation\":\"h\",\"showlegend\":true,\"xaxis\":\"x\",\"y\":[\"Ingenier\\u00eda civil\"],\"yaxis\":\"y\",\"type\":\"histogram\"},{\"alignmentgroup\":\"True\",\"bingroup\":\"y\",\"hovertemplate\":\"Area=Psicologia<br>count=%{x}<br>Sub\\u00e1rea=%{y}<extra></extra>\",\"legendgroup\":\"Psicologia\",\"marker\":{\"color\":\"#FF6692\",\"pattern\":{\"shape\":\"\"}},\"name\":\"Psicologia\",\"offsetgroup\":\"Psicologia\",\"orientation\":\"h\",\"showlegend\":true,\"xaxis\":\"x\",\"y\":[\"Ingenier\\u00eda civil\"],\"yaxis\":\"y\",\"type\":\"histogram\"},{\"alignmentgroup\":\"True\",\"bingroup\":\"y\",\"hovertemplate\":\"Area=Ciencias sociales<br>count=%{x}<br>Sub\\u00e1rea=%{y}<extra></extra>\",\"legendgroup\":\"Ciencias sociales\",\"marker\":{\"color\":\"#B6E880\",\"pattern\":{\"shape\":\"\"}},\"name\":\"Ciencias sociales\",\"offsetgroup\":\"Ciencias sociales\",\"orientation\":\"h\",\"showlegend\":true,\"xaxis\":\"x\",\"y\":[\"Ingenier\\u00eda civil\",\"Ingenier\\u00eda civil\",\"Ingenier\\u00eda civil\",\"Econom\\u00eda y negocios\",\"Ingenier\\u00eda civil\",\"Ingenier\\u00eda civil\",\"Econom\\u00eda y negocios\",\"Ingenier\\u00eda civil\",\"Ingenier\\u00eda civil\",\"Ingenier\\u00eda civil\",\"Ingenier\\u00eda civil\"],\"yaxis\":\"y\",\"type\":\"histogram\"},{\"alignmentgroup\":\"True\",\"bingroup\":\"y\",\"hovertemplate\":\"Area=Otras ciencias naturales<br>count=%{x}<br>Sub\\u00e1rea=%{y}<extra></extra>\",\"legendgroup\":\"Otras ciencias naturales\",\"marker\":{\"color\":\"#FF97FF\",\"pattern\":{\"shape\":\"\"}},\"name\":\"Otras ciencias naturales\",\"offsetgroup\":\"Otras ciencias naturales\",\"orientation\":\"h\",\"showlegend\":true,\"xaxis\":\"x\",\"y\":[\"Ingenier\\u00eda civil\"],\"yaxis\":\"y\",\"type\":\"histogram\"},{\"alignmentgroup\":\"True\",\"bingroup\":\"y\",\"hovertemplate\":\"Area=Ciencias m\\u00e9dicas y de la salud<br>count=%{x}<br>Sub\\u00e1rea=%{y}<extra></extra>\",\"legendgroup\":\"Ciencias m\\u00e9dicas y de la salud\",\"marker\":{\"color\":\"#FECB52\",\"pattern\":{\"shape\":\"\"}},\"name\":\"Ciencias m\\u00e9dicas y de la salud\",\"offsetgroup\":\"Ciencias m\\u00e9dicas y de la salud\",\"orientation\":\"h\",\"showlegend\":true,\"xaxis\":\"x\",\"y\":[\"Ingenier\\u00eda civil\"],\"yaxis\":\"y\",\"type\":\"histogram\"},{\"alignmentgroup\":\"True\",\"bingroup\":\"y\",\"hovertemplate\":\"Area=Ciencias sociales - otras ciencias sociales<br>count=%{x}<br>Sub\\u00e1rea=%{y}<extra></extra>\",\"legendgroup\":\"Ciencias sociales - otras ciencias sociales\",\"marker\":{\"color\":\"#636efa\",\"pattern\":{\"shape\":\"\"}},\"name\":\"Ciencias sociales - otras ciencias sociales\",\"offsetgroup\":\"Ciencias sociales - otras ciencias sociales\",\"orientation\":\"h\",\"showlegend\":true,\"xaxis\":\"x\",\"y\":[\"Ingenier\\u00eda civil\"],\"yaxis\":\"y\",\"type\":\"histogram\"},{\"alignmentgroup\":\"True\",\"bingroup\":\"y\",\"hovertemplate\":\"Area=Artes<br>count=%{x}<br>Sub\\u00e1rea=%{y}<extra></extra>\",\"legendgroup\":\"Artes\",\"marker\":{\"color\":\"#EF553B\",\"pattern\":{\"shape\":\"\"}},\"name\":\"Artes\",\"offsetgroup\":\"Artes\",\"orientation\":\"h\",\"showlegend\":true,\"xaxis\":\"x\",\"y\":[\"Ingenier\\u00eda civil\"],\"yaxis\":\"y\",\"type\":\"histogram\"},{\"alignmentgroup\":\"True\",\"bingroup\":\"y\",\"hovertemplate\":\"Area=Otras ciencias sociales<br>count=%{x}<br>Sub\\u00e1rea=%{y}<extra></extra>\",\"legendgroup\":\"Otras ciencias sociales\",\"marker\":{\"color\":\"#00cc96\",\"pattern\":{\"shape\":\"\"}},\"name\":\"Otras ciencias sociales\",\"offsetgroup\":\"Otras ciencias sociales\",\"orientation\":\"h\",\"showlegend\":true,\"xaxis\":\"x\",\"y\":[\"Ingenier\\u00eda civil\"],\"yaxis\":\"y\",\"type\":\"histogram\"},{\"alignmentgroup\":\"True\",\"bingroup\":\"y\",\"hovertemplate\":\"Area=Ingenier\\u00eda y tecnolog\\u00eda - ingenier\\u00edas el\\u00e9ctrica, electr\\u00f3nica e inform\\u00e1tica<br>count=%{x}<br>Sub\\u00e1rea=%{y}<extra></extra>\",\"legendgroup\":\"Ingenier\\u00eda y tecnolog\\u00eda - ingenier\\u00edas el\\u00e9ctrica, electr\\u00f3nica e inform\\u00e1tica\",\"marker\":{\"color\":\"#ab63fa\",\"pattern\":{\"shape\":\"\"}},\"name\":\"Ingenier\\u00eda y tecnolog\\u00eda - ingenier\\u00edas el\\u00e9ctrica, electr\\u00f3nica e inform\\u00e1tica\",\"offsetgroup\":\"Ingenier\\u00eda y tecnolog\\u00eda - ingenier\\u00edas el\\u00e9ctrica, electr\\u00f3nica e inform\\u00e1tica\",\"orientation\":\"h\",\"showlegend\":true,\"xaxis\":\"x\",\"y\":[\"Ingenier\\u00eda civil\"],\"yaxis\":\"y\",\"type\":\"histogram\"}],                        {\"template\":{\"data\":{\"barpolar\":[{\"marker\":{\"line\":{\"color\":\"white\",\"width\":0.5},\"pattern\":{\"fillmode\":\"overlay\",\"size\":10,\"solidity\":0.2}},\"type\":\"barpolar\"}],\"bar\":[{\"error_x\":{\"color\":\"#2a3f5f\"},\"error_y\":{\"color\":\"#2a3f5f\"},\"marker\":{\"line\":{\"color\":\"white\",\"width\":0.5},\"pattern\":{\"fillmode\":\"overlay\",\"size\":10,\"solidity\":0.2}},\"type\":\"bar\"}],\"carpet\":[{\"aaxis\":{\"endlinecolor\":\"#2a3f5f\",\"gridcolor\":\"#C8D4E3\",\"linecolor\":\"#C8D4E3\",\"minorgridcolor\":\"#C8D4E3\",\"startlinecolor\":\"#2a3f5f\"},\"baxis\":{\"endlinecolor\":\"#2a3f5f\",\"gridcolor\":\"#C8D4E3\",\"linecolor\":\"#C8D4E3\",\"minorgridcolor\":\"#C8D4E3\",\"startlinecolor\":\"#2a3f5f\"},\"type\":\"carpet\"}],\"choropleth\":[{\"colorbar\":{\"outlinewidth\":0,\"ticks\":\"\"},\"type\":\"choropleth\"}],\"contourcarpet\":[{\"colorbar\":{\"outlinewidth\":0,\"ticks\":\"\"},\"type\":\"contourcarpet\"}],\"contour\":[{\"colorbar\":{\"outlinewidth\":0,\"ticks\":\"\"},\"colorscale\":[[0.0,\"#0d0887\"],[0.1111111111111111,\"#46039f\"],[0.2222222222222222,\"#7201a8\"],[0.3333333333333333,\"#9c179e\"],[0.4444444444444444,\"#bd3786\"],[0.5555555555555556,\"#d8576b\"],[0.6666666666666666,\"#ed7953\"],[0.7777777777777778,\"#fb9f3a\"],[0.8888888888888888,\"#fdca26\"],[1.0,\"#f0f921\"]],\"type\":\"contour\"}],\"heatmapgl\":[{\"colorbar\":{\"outlinewidth\":0,\"ticks\":\"\"},\"colorscale\":[[0.0,\"#0d0887\"],[0.1111111111111111,\"#46039f\"],[0.2222222222222222,\"#7201a8\"],[0.3333333333333333,\"#9c179e\"],[0.4444444444444444,\"#bd3786\"],[0.5555555555555556,\"#d8576b\"],[0.6666666666666666,\"#ed7953\"],[0.7777777777777778,\"#fb9f3a\"],[0.8888888888888888,\"#fdca26\"],[1.0,\"#f0f921\"]],\"type\":\"heatmapgl\"}],\"heatmap\":[{\"colorbar\":{\"outlinewidth\":0,\"ticks\":\"\"},\"colorscale\":[[0.0,\"#0d0887\"],[0.1111111111111111,\"#46039f\"],[0.2222222222222222,\"#7201a8\"],[0.3333333333333333,\"#9c179e\"],[0.4444444444444444,\"#bd3786\"],[0.5555555555555556,\"#d8576b\"],[0.6666666666666666,\"#ed7953\"],[0.7777777777777778,\"#fb9f3a\"],[0.8888888888888888,\"#fdca26\"],[1.0,\"#f0f921\"]],\"type\":\"heatmap\"}],\"histogram2dcontour\":[{\"colorbar\":{\"outlinewidth\":0,\"ticks\":\"\"},\"colorscale\":[[0.0,\"#0d0887\"],[0.1111111111111111,\"#46039f\"],[0.2222222222222222,\"#7201a8\"],[0.3333333333333333,\"#9c179e\"],[0.4444444444444444,\"#bd3786\"],[0.5555555555555556,\"#d8576b\"],[0.6666666666666666,\"#ed7953\"],[0.7777777777777778,\"#fb9f3a\"],[0.8888888888888888,\"#fdca26\"],[1.0,\"#f0f921\"]],\"type\":\"histogram2dcontour\"}],\"histogram2d\":[{\"colorbar\":{\"outlinewidth\":0,\"ticks\":\"\"},\"colorscale\":[[0.0,\"#0d0887\"],[0.1111111111111111,\"#46039f\"],[0.2222222222222222,\"#7201a8\"],[0.3333333333333333,\"#9c179e\"],[0.4444444444444444,\"#bd3786\"],[0.5555555555555556,\"#d8576b\"],[0.6666666666666666,\"#ed7953\"],[0.7777777777777778,\"#fb9f3a\"],[0.8888888888888888,\"#fdca26\"],[1.0,\"#f0f921\"]],\"type\":\"histogram2d\"}],\"histogram\":[{\"marker\":{\"pattern\":{\"fillmode\":\"overlay\",\"size\":10,\"solidity\":0.2}},\"type\":\"histogram\"}],\"mesh3d\":[{\"colorbar\":{\"outlinewidth\":0,\"ticks\":\"\"},\"type\":\"mesh3d\"}],\"parcoords\":[{\"line\":{\"colorbar\":{\"outlinewidth\":0,\"ticks\":\"\"}},\"type\":\"parcoords\"}],\"pie\":[{\"automargin\":true,\"type\":\"pie\"}],\"scatter3d\":[{\"line\":{\"colorbar\":{\"outlinewidth\":0,\"ticks\":\"\"}},\"marker\":{\"colorbar\":{\"outlinewidth\":0,\"ticks\":\"\"}},\"type\":\"scatter3d\"}],\"scattercarpet\":[{\"marker\":{\"colorbar\":{\"outlinewidth\":0,\"ticks\":\"\"}},\"type\":\"scattercarpet\"}],\"scattergeo\":[{\"marker\":{\"colorbar\":{\"outlinewidth\":0,\"ticks\":\"\"}},\"type\":\"scattergeo\"}],\"scattergl\":[{\"marker\":{\"colorbar\":{\"outlinewidth\":0,\"ticks\":\"\"}},\"type\":\"scattergl\"}],\"scattermapbox\":[{\"marker\":{\"colorbar\":{\"outlinewidth\":0,\"ticks\":\"\"}},\"type\":\"scattermapbox\"}],\"scatterpolargl\":[{\"marker\":{\"colorbar\":{\"outlinewidth\":0,\"ticks\":\"\"}},\"type\":\"scatterpolargl\"}],\"scatterpolar\":[{\"marker\":{\"colorbar\":{\"outlinewidth\":0,\"ticks\":\"\"}},\"type\":\"scatterpolar\"}],\"scatter\":[{\"fillpattern\":{\"fillmode\":\"overlay\",\"size\":10,\"solidity\":0.2},\"type\":\"scatter\"}],\"scatterternary\":[{\"marker\":{\"colorbar\":{\"outlinewidth\":0,\"ticks\":\"\"}},\"type\":\"scatterternary\"}],\"surface\":[{\"colorbar\":{\"outlinewidth\":0,\"ticks\":\"\"},\"colorscale\":[[0.0,\"#0d0887\"],[0.1111111111111111,\"#46039f\"],[0.2222222222222222,\"#7201a8\"],[0.3333333333333333,\"#9c179e\"],[0.4444444444444444,\"#bd3786\"],[0.5555555555555556,\"#d8576b\"],[0.6666666666666666,\"#ed7953\"],[0.7777777777777778,\"#fb9f3a\"],[0.8888888888888888,\"#fdca26\"],[1.0,\"#f0f921\"]],\"type\":\"surface\"}],\"table\":[{\"cells\":{\"fill\":{\"color\":\"#EBF0F8\"},\"line\":{\"color\":\"white\"}},\"header\":{\"fill\":{\"color\":\"#C8D4E3\"},\"line\":{\"color\":\"white\"}},\"type\":\"table\"}]},\"layout\":{\"annotationdefaults\":{\"arrowcolor\":\"#2a3f5f\",\"arrowhead\":0,\"arrowwidth\":1},\"autotypenumbers\":\"strict\",\"coloraxis\":{\"colorbar\":{\"outlinewidth\":0,\"ticks\":\"\"}},\"colorscale\":{\"diverging\":[[0,\"#8e0152\"],[0.1,\"#c51b7d\"],[0.2,\"#de77ae\"],[0.3,\"#f1b6da\"],[0.4,\"#fde0ef\"],[0.5,\"#f7f7f7\"],[0.6,\"#e6f5d0\"],[0.7,\"#b8e186\"],[0.8,\"#7fbc41\"],[0.9,\"#4d9221\"],[1,\"#276419\"]],\"sequential\":[[0.0,\"#0d0887\"],[0.1111111111111111,\"#46039f\"],[0.2222222222222222,\"#7201a8\"],[0.3333333333333333,\"#9c179e\"],[0.4444444444444444,\"#bd3786\"],[0.5555555555555556,\"#d8576b\"],[0.6666666666666666,\"#ed7953\"],[0.7777777777777778,\"#fb9f3a\"],[0.8888888888888888,\"#fdca26\"],[1.0,\"#f0f921\"]],\"sequentialminus\":[[0.0,\"#0d0887\"],[0.1111111111111111,\"#46039f\"],[0.2222222222222222,\"#7201a8\"],[0.3333333333333333,\"#9c179e\"],[0.4444444444444444,\"#bd3786\"],[0.5555555555555556,\"#d8576b\"],[0.6666666666666666,\"#ed7953\"],[0.7777777777777778,\"#fb9f3a\"],[0.8888888888888888,\"#fdca26\"],[1.0,\"#f0f921\"]]},\"colorway\":[\"#636efa\",\"#EF553B\",\"#00cc96\",\"#ab63fa\",\"#FFA15A\",\"#19d3f3\",\"#FF6692\",\"#B6E880\",\"#FF97FF\",\"#FECB52\"],\"font\":{\"color\":\"#2a3f5f\"},\"geo\":{\"bgcolor\":\"white\",\"lakecolor\":\"white\",\"landcolor\":\"white\",\"showlakes\":true,\"showland\":true,\"subunitcolor\":\"#C8D4E3\"},\"hoverlabel\":{\"align\":\"left\"},\"hovermode\":\"closest\",\"mapbox\":{\"style\":\"light\"},\"paper_bgcolor\":\"white\",\"plot_bgcolor\":\"white\",\"polar\":{\"angularaxis\":{\"gridcolor\":\"#EBF0F8\",\"linecolor\":\"#EBF0F8\",\"ticks\":\"\"},\"bgcolor\":\"white\",\"radialaxis\":{\"gridcolor\":\"#EBF0F8\",\"linecolor\":\"#EBF0F8\",\"ticks\":\"\"}},\"scene\":{\"xaxis\":{\"backgroundcolor\":\"white\",\"gridcolor\":\"#DFE8F3\",\"gridwidth\":2,\"linecolor\":\"#EBF0F8\",\"showbackground\":true,\"ticks\":\"\",\"zerolinecolor\":\"#EBF0F8\"},\"yaxis\":{\"backgroundcolor\":\"white\",\"gridcolor\":\"#DFE8F3\",\"gridwidth\":2,\"linecolor\":\"#EBF0F8\",\"showbackground\":true,\"ticks\":\"\",\"zerolinecolor\":\"#EBF0F8\"},\"zaxis\":{\"backgroundcolor\":\"white\",\"gridcolor\":\"#DFE8F3\",\"gridwidth\":2,\"linecolor\":\"#EBF0F8\",\"showbackground\":true,\"ticks\":\"\",\"zerolinecolor\":\"#EBF0F8\"}},\"shapedefaults\":{\"line\":{\"color\":\"#2a3f5f\"}},\"ternary\":{\"aaxis\":{\"gridcolor\":\"#DFE8F3\",\"linecolor\":\"#A2B1C6\",\"ticks\":\"\"},\"baxis\":{\"gridcolor\":\"#DFE8F3\",\"linecolor\":\"#A2B1C6\",\"ticks\":\"\"},\"bgcolor\":\"white\",\"caxis\":{\"gridcolor\":\"#DFE8F3\",\"linecolor\":\"#A2B1C6\",\"ticks\":\"\"}},\"title\":{\"x\":0.05},\"xaxis\":{\"automargin\":true,\"gridcolor\":\"#EBF0F8\",\"linecolor\":\"#EBF0F8\",\"ticks\":\"\",\"title\":{\"standoff\":15},\"zerolinecolor\":\"#EBF0F8\",\"zerolinewidth\":2},\"yaxis\":{\"automargin\":true,\"gridcolor\":\"#EBF0F8\",\"linecolor\":\"#EBF0F8\",\"ticks\":\"\",\"title\":{\"standoff\":15},\"zerolinecolor\":\"#EBF0F8\",\"zerolinewidth\":2}}},\"xaxis\":{\"anchor\":\"y\",\"domain\":[0.0,1.0],\"title\":{\"text\":\"\"}},\"yaxis\":{\"anchor\":\"x\",\"domain\":[0.0,1.0],\"title\":{\"text\":\"Sub\\u00e1rea\"}},\"legend\":{\"title\":{\"text\":\"Area\"},\"tracegroupgap\":0},\"title\":{\"text\":\"\\u00c1reas del Conocimiento - OCDE\"},\"barmode\":\"stack\",\"height\":500},                        {\"responsive\": true}                    ).then(function(){\n",
       "                            \n",
       "var gd = document.getElementById('00e8a19f-65c7-4f65-9e0f-5eba76524ad5');\n",
       "var x = new MutationObserver(function (mutations, observer) {{\n",
       "        var display = window.getComputedStyle(gd).display;\n",
       "        if (!display || display === 'none') {{\n",
       "            console.log([gd, 'removed!']);\n",
       "            Plotly.purge(gd);\n",
       "            observer.disconnect();\n",
       "        }}\n",
       "}});\n",
       "\n",
       "// Listen for the removal of the full notebook cells\n",
       "var notebookContainer = gd.closest('#notebook-container');\n",
       "if (notebookContainer) {{\n",
       "    x.observe(notebookContainer, {childList: true});\n",
       "}}\n",
       "\n",
       "// Listen for the clearing of the current output cell\n",
       "var outputEl = gd.closest('.output');\n",
       "if (outputEl) {{\n",
       "    x.observe(outputEl, {childList: true});\n",
       "}}\n",
       "\n",
       "                        })                };                });            </script>        </div>"
      ]
     },
     "metadata": {},
     "output_type": "display_data"
    }
   ],
   "source": [
    "config = {\n",
    "    'labels': {'ocde': 'Area',\n",
    "               'sub_ocde': 'Subárea',\n",
    "               'count': ''\n",
    "              },\n",
    "     'height': 500,\n",
    "     'title':'Áreas del Conocimiento - OCDE',\n",
    "     'template': 'plotly_white',\n",
    "}\n",
    "\n",
    "g = groups.loc[groups['facultad'] == faculty]\n",
    "if faculty == 'All':\n",
    "    fig = px.histogram(groups, y='sub_ocde', color='ocde', orientation='h', barmode='stack',  **config)\n",
    "    \n",
    "elif faculty in ['Facultad de administración', 'Facultad de ciencias exactas y naturales']:\n",
    "    config['labels']['ocde'] = ''\n",
    "    fig = px.histogram(g, y='ocde', orientation='h', barmode='stack',  **config)\n",
    "else:\n",
    "    fig = px.histogram(g, y='sub_ocde', color='ocde', orientation='h', barmode='stack',  **config)\n",
    "\n",
    "fig.update_layout(xaxis_title='')\n",
    "# fig.update_traces(hoverinfo='none', hovertemplate = '')\n",
    "fig.show()"
   ]
  },
  {
   "cell_type": "code",
   "execution_count": 380,
   "id": "bbc9ac6c-a245-4043-aeac-71d7f64fc91d",
   "metadata": {},
   "outputs": [
    {
     "data": {
      "application/vnd.plotly.v1+json": {
       "config": {
        "plotlyServerURL": "https://plot.ly"
       },
       "data": [
        {
         "alignmentgroup": "True",
         "bingroup": "y",
         "hoverinfo": "none",
         "hovertemplate": "",
         "legendgroup": "",
         "marker": {
          "color": "#636efa",
          "pattern": {
           "shape": ""
          }
         },
         "name": "",
         "offsetgroup": "",
         "orientation": "h",
         "showlegend": false,
         "type": "histogram",
         "xaxis": "x",
         "y": [
          "Desarrollo organizacional económico e industrial",
          "Desarrollo organizacional económico e industrial",
          "Ambiente y biodiversidad",
          "Arte y cultura",
          "Arte y cultura",
          "Hábitat, ciudad y territorio",
          "Tecnologías de la información y comunicaciones",
          "Biotecnología",
          "Tecnologías de la información y comunicaciones",
          "Construcción de ciudadanía e inclusión social",
          "Desarrollo organizacional económico e industrial",
          "Tecnologías de la información y comunicaciones",
          "Tecnologías de la información y comunicaciones",
          "Desarrollo organizacional económico e industrial",
          "Construcción de ciudadanía e inclusión social",
          "Desarrollo organizacional económico e industrial",
          "Tecnologías de la información y comunicaciones",
          "Desarrollo organizacional económico e industrial",
          "Energía",
          "Hábitat, ciudad y territorio",
          "Arte y cultura",
          "Desarrollo organizacional económico e industrial",
          "Desarrollo organizacional económico e industrial",
          "Desarrollo organizacional económico e industrial",
          "Desarrollo organizacional económico e industrial",
          "Tecnologías de la información y comunicaciones",
          "Hábitat, ciudad y territorio",
          "Hábitat, ciudad y territorio",
          "Arte y cultura",
          "Ciencia, tecnología e innovación en tecnologías de la información y las comunicaciones",
          "Energía",
          "Ciencias agrarias y desarrollo rural",
          "Tecnologías de la información y comunicaciones",
          "Energía",
          "Ambiente y biodiversidad",
          "Energía",
          "Tecnologías de la información y comunicaciones",
          "Energía",
          "Energía",
          "Tecnologías de la información y comunicaciones",
          "Desarrollo organizacional económico e industrial",
          "Arte y cultura",
          "Hábitat, ciudad y territorio",
          "Tecnologías de la información y comunicaciones",
          "Ambiente y biodiversidad",
          "Ambiente y biodiversidad",
          "Tecnologías de la información y comunicaciones",
          "Arte y cultura",
          "Hábitat, ciudad y territorio",
          "Desarrollo organizacional económico e industrial",
          "Tecnologías de la información y comunicaciones",
          "Ciencia y tecnología de minerales y materiales",
          "Ciencia y tecnología de minerales y materiales",
          "Hábitat, ciudad y territorio",
          "Hábitat, ciudad y territorio",
          "Hábitat, ciudad y territorio",
          "Tecnologías de la información y comunicaciones",
          "Hábitat, ciudad y territorio",
          "Energía",
          "Ciencia y tecnología de minerales y materiales",
          "Biotecnología",
          "Energía",
          "Ciencia y tecnología de minerales y materiales",
          "Energía",
          "Tecnologías de la información y comunicaciones",
          "Estado, sistemas políticos y jurídicos"
         ],
         "yaxis": "y"
        }
       ],
       "layout": {
        "autosize": true,
        "barmode": "group",
        "legend": {
         "tracegroupgap": 0
        },
        "template": {
         "data": {
          "bar": [
           {
            "error_x": {
             "color": "#2a3f5f"
            },
            "error_y": {
             "color": "#2a3f5f"
            },
            "marker": {
             "line": {
              "color": "white",
              "width": 0.5
             },
             "pattern": {
              "fillmode": "overlay",
              "size": 10,
              "solidity": 0.2
             }
            },
            "type": "bar"
           }
          ],
          "barpolar": [
           {
            "marker": {
             "line": {
              "color": "white",
              "width": 0.5
             },
             "pattern": {
              "fillmode": "overlay",
              "size": 10,
              "solidity": 0.2
             }
            },
            "type": "barpolar"
           }
          ],
          "carpet": [
           {
            "aaxis": {
             "endlinecolor": "#2a3f5f",
             "gridcolor": "#C8D4E3",
             "linecolor": "#C8D4E3",
             "minorgridcolor": "#C8D4E3",
             "startlinecolor": "#2a3f5f"
            },
            "baxis": {
             "endlinecolor": "#2a3f5f",
             "gridcolor": "#C8D4E3",
             "linecolor": "#C8D4E3",
             "minorgridcolor": "#C8D4E3",
             "startlinecolor": "#2a3f5f"
            },
            "type": "carpet"
           }
          ],
          "choropleth": [
           {
            "colorbar": {
             "outlinewidth": 0,
             "ticks": ""
            },
            "type": "choropleth"
           }
          ],
          "contour": [
           {
            "colorbar": {
             "outlinewidth": 0,
             "ticks": ""
            },
            "colorscale": [
             [
              0,
              "#0d0887"
             ],
             [
              0.1111111111111111,
              "#46039f"
             ],
             [
              0.2222222222222222,
              "#7201a8"
             ],
             [
              0.3333333333333333,
              "#9c179e"
             ],
             [
              0.4444444444444444,
              "#bd3786"
             ],
             [
              0.5555555555555556,
              "#d8576b"
             ],
             [
              0.6666666666666666,
              "#ed7953"
             ],
             [
              0.7777777777777778,
              "#fb9f3a"
             ],
             [
              0.8888888888888888,
              "#fdca26"
             ],
             [
              1,
              "#f0f921"
             ]
            ],
            "type": "contour"
           }
          ],
          "contourcarpet": [
           {
            "colorbar": {
             "outlinewidth": 0,
             "ticks": ""
            },
            "type": "contourcarpet"
           }
          ],
          "heatmap": [
           {
            "colorbar": {
             "outlinewidth": 0,
             "ticks": ""
            },
            "colorscale": [
             [
              0,
              "#0d0887"
             ],
             [
              0.1111111111111111,
              "#46039f"
             ],
             [
              0.2222222222222222,
              "#7201a8"
             ],
             [
              0.3333333333333333,
              "#9c179e"
             ],
             [
              0.4444444444444444,
              "#bd3786"
             ],
             [
              0.5555555555555556,
              "#d8576b"
             ],
             [
              0.6666666666666666,
              "#ed7953"
             ],
             [
              0.7777777777777778,
              "#fb9f3a"
             ],
             [
              0.8888888888888888,
              "#fdca26"
             ],
             [
              1,
              "#f0f921"
             ]
            ],
            "type": "heatmap"
           }
          ],
          "heatmapgl": [
           {
            "colorbar": {
             "outlinewidth": 0,
             "ticks": ""
            },
            "colorscale": [
             [
              0,
              "#0d0887"
             ],
             [
              0.1111111111111111,
              "#46039f"
             ],
             [
              0.2222222222222222,
              "#7201a8"
             ],
             [
              0.3333333333333333,
              "#9c179e"
             ],
             [
              0.4444444444444444,
              "#bd3786"
             ],
             [
              0.5555555555555556,
              "#d8576b"
             ],
             [
              0.6666666666666666,
              "#ed7953"
             ],
             [
              0.7777777777777778,
              "#fb9f3a"
             ],
             [
              0.8888888888888888,
              "#fdca26"
             ],
             [
              1,
              "#f0f921"
             ]
            ],
            "type": "heatmapgl"
           }
          ],
          "histogram": [
           {
            "marker": {
             "pattern": {
              "fillmode": "overlay",
              "size": 10,
              "solidity": 0.2
             }
            },
            "type": "histogram"
           }
          ],
          "histogram2d": [
           {
            "colorbar": {
             "outlinewidth": 0,
             "ticks": ""
            },
            "colorscale": [
             [
              0,
              "#0d0887"
             ],
             [
              0.1111111111111111,
              "#46039f"
             ],
             [
              0.2222222222222222,
              "#7201a8"
             ],
             [
              0.3333333333333333,
              "#9c179e"
             ],
             [
              0.4444444444444444,
              "#bd3786"
             ],
             [
              0.5555555555555556,
              "#d8576b"
             ],
             [
              0.6666666666666666,
              "#ed7953"
             ],
             [
              0.7777777777777778,
              "#fb9f3a"
             ],
             [
              0.8888888888888888,
              "#fdca26"
             ],
             [
              1,
              "#f0f921"
             ]
            ],
            "type": "histogram2d"
           }
          ],
          "histogram2dcontour": [
           {
            "colorbar": {
             "outlinewidth": 0,
             "ticks": ""
            },
            "colorscale": [
             [
              0,
              "#0d0887"
             ],
             [
              0.1111111111111111,
              "#46039f"
             ],
             [
              0.2222222222222222,
              "#7201a8"
             ],
             [
              0.3333333333333333,
              "#9c179e"
             ],
             [
              0.4444444444444444,
              "#bd3786"
             ],
             [
              0.5555555555555556,
              "#d8576b"
             ],
             [
              0.6666666666666666,
              "#ed7953"
             ],
             [
              0.7777777777777778,
              "#fb9f3a"
             ],
             [
              0.8888888888888888,
              "#fdca26"
             ],
             [
              1,
              "#f0f921"
             ]
            ],
            "type": "histogram2dcontour"
           }
          ],
          "mesh3d": [
           {
            "colorbar": {
             "outlinewidth": 0,
             "ticks": ""
            },
            "type": "mesh3d"
           }
          ],
          "parcoords": [
           {
            "line": {
             "colorbar": {
              "outlinewidth": 0,
              "ticks": ""
             }
            },
            "type": "parcoords"
           }
          ],
          "pie": [
           {
            "automargin": true,
            "type": "pie"
           }
          ],
          "scatter": [
           {
            "fillpattern": {
             "fillmode": "overlay",
             "size": 10,
             "solidity": 0.2
            },
            "type": "scatter"
           }
          ],
          "scatter3d": [
           {
            "line": {
             "colorbar": {
              "outlinewidth": 0,
              "ticks": ""
             }
            },
            "marker": {
             "colorbar": {
              "outlinewidth": 0,
              "ticks": ""
             }
            },
            "type": "scatter3d"
           }
          ],
          "scattercarpet": [
           {
            "marker": {
             "colorbar": {
              "outlinewidth": 0,
              "ticks": ""
             }
            },
            "type": "scattercarpet"
           }
          ],
          "scattergeo": [
           {
            "marker": {
             "colorbar": {
              "outlinewidth": 0,
              "ticks": ""
             }
            },
            "type": "scattergeo"
           }
          ],
          "scattergl": [
           {
            "marker": {
             "colorbar": {
              "outlinewidth": 0,
              "ticks": ""
             }
            },
            "type": "scattergl"
           }
          ],
          "scattermapbox": [
           {
            "marker": {
             "colorbar": {
              "outlinewidth": 0,
              "ticks": ""
             }
            },
            "type": "scattermapbox"
           }
          ],
          "scatterpolar": [
           {
            "marker": {
             "colorbar": {
              "outlinewidth": 0,
              "ticks": ""
             }
            },
            "type": "scatterpolar"
           }
          ],
          "scatterpolargl": [
           {
            "marker": {
             "colorbar": {
              "outlinewidth": 0,
              "ticks": ""
             }
            },
            "type": "scatterpolargl"
           }
          ],
          "scatterternary": [
           {
            "marker": {
             "colorbar": {
              "outlinewidth": 0,
              "ticks": ""
             }
            },
            "type": "scatterternary"
           }
          ],
          "surface": [
           {
            "colorbar": {
             "outlinewidth": 0,
             "ticks": ""
            },
            "colorscale": [
             [
              0,
              "#0d0887"
             ],
             [
              0.1111111111111111,
              "#46039f"
             ],
             [
              0.2222222222222222,
              "#7201a8"
             ],
             [
              0.3333333333333333,
              "#9c179e"
             ],
             [
              0.4444444444444444,
              "#bd3786"
             ],
             [
              0.5555555555555556,
              "#d8576b"
             ],
             [
              0.6666666666666666,
              "#ed7953"
             ],
             [
              0.7777777777777778,
              "#fb9f3a"
             ],
             [
              0.8888888888888888,
              "#fdca26"
             ],
             [
              1,
              "#f0f921"
             ]
            ],
            "type": "surface"
           }
          ],
          "table": [
           {
            "cells": {
             "fill": {
              "color": "#EBF0F8"
             },
             "line": {
              "color": "white"
             }
            },
            "header": {
             "fill": {
              "color": "#C8D4E3"
             },
             "line": {
              "color": "white"
             }
            },
            "type": "table"
           }
          ]
         },
         "layout": {
          "annotationdefaults": {
           "arrowcolor": "#2a3f5f",
           "arrowhead": 0,
           "arrowwidth": 1
          },
          "autotypenumbers": "strict",
          "coloraxis": {
           "colorbar": {
            "outlinewidth": 0,
            "ticks": ""
           }
          },
          "colorscale": {
           "diverging": [
            [
             0,
             "#8e0152"
            ],
            [
             0.1,
             "#c51b7d"
            ],
            [
             0.2,
             "#de77ae"
            ],
            [
             0.3,
             "#f1b6da"
            ],
            [
             0.4,
             "#fde0ef"
            ],
            [
             0.5,
             "#f7f7f7"
            ],
            [
             0.6,
             "#e6f5d0"
            ],
            [
             0.7,
             "#b8e186"
            ],
            [
             0.8,
             "#7fbc41"
            ],
            [
             0.9,
             "#4d9221"
            ],
            [
             1,
             "#276419"
            ]
           ],
           "sequential": [
            [
             0,
             "#0d0887"
            ],
            [
             0.1111111111111111,
             "#46039f"
            ],
            [
             0.2222222222222222,
             "#7201a8"
            ],
            [
             0.3333333333333333,
             "#9c179e"
            ],
            [
             0.4444444444444444,
             "#bd3786"
            ],
            [
             0.5555555555555556,
             "#d8576b"
            ],
            [
             0.6666666666666666,
             "#ed7953"
            ],
            [
             0.7777777777777778,
             "#fb9f3a"
            ],
            [
             0.8888888888888888,
             "#fdca26"
            ],
            [
             1,
             "#f0f921"
            ]
           ],
           "sequentialminus": [
            [
             0,
             "#0d0887"
            ],
            [
             0.1111111111111111,
             "#46039f"
            ],
            [
             0.2222222222222222,
             "#7201a8"
            ],
            [
             0.3333333333333333,
             "#9c179e"
            ],
            [
             0.4444444444444444,
             "#bd3786"
            ],
            [
             0.5555555555555556,
             "#d8576b"
            ],
            [
             0.6666666666666666,
             "#ed7953"
            ],
            [
             0.7777777777777778,
             "#fb9f3a"
            ],
            [
             0.8888888888888888,
             "#fdca26"
            ],
            [
             1,
             "#f0f921"
            ]
           ]
          },
          "colorway": [
           "#636efa",
           "#EF553B",
           "#00cc96",
           "#ab63fa",
           "#FFA15A",
           "#19d3f3",
           "#FF6692",
           "#B6E880",
           "#FF97FF",
           "#FECB52"
          ],
          "font": {
           "color": "#2a3f5f"
          },
          "geo": {
           "bgcolor": "white",
           "lakecolor": "white",
           "landcolor": "white",
           "showlakes": true,
           "showland": true,
           "subunitcolor": "#C8D4E3"
          },
          "hoverlabel": {
           "align": "left"
          },
          "hovermode": "closest",
          "mapbox": {
           "style": "light"
          },
          "paper_bgcolor": "white",
          "plot_bgcolor": "white",
          "polar": {
           "angularaxis": {
            "gridcolor": "#EBF0F8",
            "linecolor": "#EBF0F8",
            "ticks": ""
           },
           "bgcolor": "white",
           "radialaxis": {
            "gridcolor": "#EBF0F8",
            "linecolor": "#EBF0F8",
            "ticks": ""
           }
          },
          "scene": {
           "xaxis": {
            "backgroundcolor": "white",
            "gridcolor": "#DFE8F3",
            "gridwidth": 2,
            "linecolor": "#EBF0F8",
            "showbackground": true,
            "ticks": "",
            "zerolinecolor": "#EBF0F8"
           },
           "yaxis": {
            "backgroundcolor": "white",
            "gridcolor": "#DFE8F3",
            "gridwidth": 2,
            "linecolor": "#EBF0F8",
            "showbackground": true,
            "ticks": "",
            "zerolinecolor": "#EBF0F8"
           },
           "zaxis": {
            "backgroundcolor": "white",
            "gridcolor": "#DFE8F3",
            "gridwidth": 2,
            "linecolor": "#EBF0F8",
            "showbackground": true,
            "ticks": "",
            "zerolinecolor": "#EBF0F8"
           }
          },
          "shapedefaults": {
           "line": {
            "color": "#2a3f5f"
           }
          },
          "ternary": {
           "aaxis": {
            "gridcolor": "#DFE8F3",
            "linecolor": "#A2B1C6",
            "ticks": ""
           },
           "baxis": {
            "gridcolor": "#DFE8F3",
            "linecolor": "#A2B1C6",
            "ticks": ""
           },
           "bgcolor": "white",
           "caxis": {
            "gridcolor": "#DFE8F3",
            "linecolor": "#A2B1C6",
            "ticks": ""
           }
          },
          "title": {
           "x": 0.05
          },
          "xaxis": {
           "automargin": true,
           "gridcolor": "#EBF0F8",
           "linecolor": "#EBF0F8",
           "ticks": "",
           "title": {
            "standoff": 15
           },
           "zerolinecolor": "#EBF0F8",
           "zerolinewidth": 2
          },
          "yaxis": {
           "automargin": true,
           "gridcolor": "#EBF0F8",
           "linecolor": "#EBF0F8",
           "ticks": "",
           "title": {
            "standoff": 15
           },
           "zerolinecolor": "#EBF0F8",
           "zerolinewidth": 2
          }
         }
        },
        "title": {
         "text": "Agenda de conocimiento"
        },
        "xaxis": {
         "anchor": "y",
         "autorange": true,
         "domain": [
          0,
          1
         ],
         "range": [
          0,
          14.736842105263158
         ],
         "title": {
          "text": ""
         }
        },
        "yaxis": {
         "anchor": "x",
         "autorange": true,
         "domain": [
          0,
          1
         ],
         "range": [
          -0.5,
          11.5
         ],
         "title": {
          "text": ""
         },
         "type": "category"
        }
       }
      },
      "image/png": "[encoded data removed]",
      "text/html": [
       "<div>                            <div id=\"9a27c79e-0134-4e80-a4b4-5e3098e76561\" class=\"plotly-graph-div\" style=\"height:500px; width:100%;\"></div>            <script type=\"text/javascript\">                require([\"plotly\"], function(Plotly) {                    window.PLOTLYENV=window.PLOTLYENV || {};                                    if (document.getElementById(\"9a27c79e-0134-4e80-a4b4-5e3098e76561\")) {                    Plotly.newPlot(                        \"9a27c79e-0134-4e80-a4b4-5e3098e76561\",                        [{\"alignmentgroup\":\"True\",\"bingroup\":\"y\",\"hovertemplate\":\"\",\"legendgroup\":\"\",\"marker\":{\"color\":\"#636efa\",\"pattern\":{\"shape\":\"\"}},\"name\":\"\",\"offsetgroup\":\"\",\"orientation\":\"h\",\"showlegend\":false,\"xaxis\":\"x\",\"y\":[\"Desarrollo organizacional econ\\u00f3mico e industrial\",\"Desarrollo organizacional econ\\u00f3mico e industrial\",\"Ambiente y biodiversidad\",\"Arte y cultura\",\"Arte y cultura\",\"H\\u00e1bitat, ciudad y territorio\",\"Tecnolog\\u00edas de la informaci\\u00f3n y comunicaciones\",\"Biotecnolog\\u00eda\",\"Tecnolog\\u00edas de la informaci\\u00f3n y comunicaciones\",\"Construcci\\u00f3n de ciudadan\\u00eda e inclusi\\u00f3n social\",\"Desarrollo organizacional econ\\u00f3mico e industrial\",\"Tecnolog\\u00edas de la informaci\\u00f3n y comunicaciones\",\"Tecnolog\\u00edas de la informaci\\u00f3n y comunicaciones\",\"Desarrollo organizacional econ\\u00f3mico e industrial\",\"Construcci\\u00f3n de ciudadan\\u00eda e inclusi\\u00f3n social\",\"Desarrollo organizacional econ\\u00f3mico e industrial\",\"Tecnolog\\u00edas de la informaci\\u00f3n y comunicaciones\",\"Desarrollo organizacional econ\\u00f3mico e industrial\",\"Energ\\u00eda\",\"H\\u00e1bitat, ciudad y territorio\",\"Arte y cultura\",\"Desarrollo organizacional econ\\u00f3mico e industrial\",\"Desarrollo organizacional econ\\u00f3mico e industrial\",\"Desarrollo organizacional econ\\u00f3mico e industrial\",\"Desarrollo organizacional econ\\u00f3mico e industrial\",\"Tecnolog\\u00edas de la informaci\\u00f3n y comunicaciones\",\"H\\u00e1bitat, ciudad y territorio\",\"H\\u00e1bitat, ciudad y territorio\",\"Arte y cultura\",\"Ciencia, tecnolog\\u00eda e innovaci\\u00f3n en tecnolog\\u00edas de la informaci\\u00f3n y las comunicaciones\",\"Energ\\u00eda\",\"Ciencias agrarias y desarrollo rural\",\"Tecnolog\\u00edas de la informaci\\u00f3n y comunicaciones\",\"Energ\\u00eda\",\"Ambiente y biodiversidad\",\"Energ\\u00eda\",\"Tecnolog\\u00edas de la informaci\\u00f3n y comunicaciones\",\"Energ\\u00eda\",\"Energ\\u00eda\",\"Tecnolog\\u00edas de la informaci\\u00f3n y comunicaciones\",\"Desarrollo organizacional econ\\u00f3mico e industrial\",\"Arte y cultura\",\"H\\u00e1bitat, ciudad y territorio\",\"Tecnolog\\u00edas de la informaci\\u00f3n y comunicaciones\",\"Ambiente y biodiversidad\",\"Ambiente y biodiversidad\",\"Tecnolog\\u00edas de la informaci\\u00f3n y comunicaciones\",\"Arte y cultura\",\"H\\u00e1bitat, ciudad y territorio\",\"Desarrollo organizacional econ\\u00f3mico e industrial\",\"Tecnolog\\u00edas de la informaci\\u00f3n y comunicaciones\",\"Ciencia y tecnolog\\u00eda de minerales y materiales\",\"Ciencia y tecnolog\\u00eda de minerales y materiales\",\"H\\u00e1bitat, ciudad y territorio\",\"H\\u00e1bitat, ciudad y territorio\",\"H\\u00e1bitat, ciudad y territorio\",\"Tecnolog\\u00edas de la informaci\\u00f3n y comunicaciones\",\"H\\u00e1bitat, ciudad y territorio\",\"Energ\\u00eda\",\"Ciencia y tecnolog\\u00eda de minerales y materiales\",\"Biotecnolog\\u00eda\",\"Energ\\u00eda\",\"Ciencia y tecnolog\\u00eda de minerales y materiales\",\"Energ\\u00eda\",\"Tecnolog\\u00edas de la informaci\\u00f3n y comunicaciones\",\"Estado, sistemas pol\\u00edticos y jur\\u00eddicos\"],\"yaxis\":\"y\",\"type\":\"histogram\",\"hoverinfo\":\"none\"}],                        {\"template\":{\"data\":{\"barpolar\":[{\"marker\":{\"line\":{\"color\":\"white\",\"width\":0.5},\"pattern\":{\"fillmode\":\"overlay\",\"size\":10,\"solidity\":0.2}},\"type\":\"barpolar\"}],\"bar\":[{\"error_x\":{\"color\":\"#2a3f5f\"},\"error_y\":{\"color\":\"#2a3f5f\"},\"marker\":{\"line\":{\"color\":\"white\",\"width\":0.5},\"pattern\":{\"fillmode\":\"overlay\",\"size\":10,\"solidity\":0.2}},\"type\":\"bar\"}],\"carpet\":[{\"aaxis\":{\"endlinecolor\":\"#2a3f5f\",\"gridcolor\":\"#C8D4E3\",\"linecolor\":\"#C8D4E3\",\"minorgridcolor\":\"#C8D4E3\",\"startlinecolor\":\"#2a3f5f\"},\"baxis\":{\"endlinecolor\":\"#2a3f5f\",\"gridcolor\":\"#C8D4E3\",\"linecolor\":\"#C8D4E3\",\"minorgridcolor\":\"#C8D4E3\",\"startlinecolor\":\"#2a3f5f\"},\"type\":\"carpet\"}],\"choropleth\":[{\"colorbar\":{\"outlinewidth\":0,\"ticks\":\"\"},\"type\":\"choropleth\"}],\"contourcarpet\":[{\"colorbar\":{\"outlinewidth\":0,\"ticks\":\"\"},\"type\":\"contourcarpet\"}],\"contour\":[{\"colorbar\":{\"outlinewidth\":0,\"ticks\":\"\"},\"colorscale\":[[0.0,\"#0d0887\"],[0.1111111111111111,\"#46039f\"],[0.2222222222222222,\"#7201a8\"],[0.3333333333333333,\"#9c179e\"],[0.4444444444444444,\"#bd3786\"],[0.5555555555555556,\"#d8576b\"],[0.6666666666666666,\"#ed7953\"],[0.7777777777777778,\"#fb9f3a\"],[0.8888888888888888,\"#fdca26\"],[1.0,\"#f0f921\"]],\"type\":\"contour\"}],\"heatmapgl\":[{\"colorbar\":{\"outlinewidth\":0,\"ticks\":\"\"},\"colorscale\":[[0.0,\"#0d0887\"],[0.1111111111111111,\"#46039f\"],[0.2222222222222222,\"#7201a8\"],[0.3333333333333333,\"#9c179e\"],[0.4444444444444444,\"#bd3786\"],[0.5555555555555556,\"#d8576b\"],[0.6666666666666666,\"#ed7953\"],[0.7777777777777778,\"#fb9f3a\"],[0.8888888888888888,\"#fdca26\"],[1.0,\"#f0f921\"]],\"type\":\"heatmapgl\"}],\"heatmap\":[{\"colorbar\":{\"outlinewidth\":0,\"ticks\":\"\"},\"colorscale\":[[0.0,\"#0d0887\"],[0.1111111111111111,\"#46039f\"],[0.2222222222222222,\"#7201a8\"],[0.3333333333333333,\"#9c179e\"],[0.4444444444444444,\"#bd3786\"],[0.5555555555555556,\"#d8576b\"],[0.6666666666666666,\"#ed7953\"],[0.7777777777777778,\"#fb9f3a\"],[0.8888888888888888,\"#fdca26\"],[1.0,\"#f0f921\"]],\"type\":\"heatmap\"}],\"histogram2dcontour\":[{\"colorbar\":{\"outlinewidth\":0,\"ticks\":\"\"},\"colorscale\":[[0.0,\"#0d0887\"],[0.1111111111111111,\"#46039f\"],[0.2222222222222222,\"#7201a8\"],[0.3333333333333333,\"#9c179e\"],[0.4444444444444444,\"#bd3786\"],[0.5555555555555556,\"#d8576b\"],[0.6666666666666666,\"#ed7953\"],[0.7777777777777778,\"#fb9f3a\"],[0.8888888888888888,\"#fdca26\"],[1.0,\"#f0f921\"]],\"type\":\"histogram2dcontour\"}],\"histogram2d\":[{\"colorbar\":{\"outlinewidth\":0,\"ticks\":\"\"},\"colorscale\":[[0.0,\"#0d0887\"],[0.1111111111111111,\"#46039f\"],[0.2222222222222222,\"#7201a8\"],[0.3333333333333333,\"#9c179e\"],[0.4444444444444444,\"#bd3786\"],[0.5555555555555556,\"#d8576b\"],[0.6666666666666666,\"#ed7953\"],[0.7777777777777778,\"#fb9f3a\"],[0.8888888888888888,\"#fdca26\"],[1.0,\"#f0f921\"]],\"type\":\"histogram2d\"}],\"histogram\":[{\"marker\":{\"pattern\":{\"fillmode\":\"overlay\",\"size\":10,\"solidity\":0.2}},\"type\":\"histogram\"}],\"mesh3d\":[{\"colorbar\":{\"outlinewidth\":0,\"ticks\":\"\"},\"type\":\"mesh3d\"}],\"parcoords\":[{\"line\":{\"colorbar\":{\"outlinewidth\":0,\"ticks\":\"\"}},\"type\":\"parcoords\"}],\"pie\":[{\"automargin\":true,\"type\":\"pie\"}],\"scatter3d\":[{\"line\":{\"colorbar\":{\"outlinewidth\":0,\"ticks\":\"\"}},\"marker\":{\"colorbar\":{\"outlinewidth\":0,\"ticks\":\"\"}},\"type\":\"scatter3d\"}],\"scattercarpet\":[{\"marker\":{\"colorbar\":{\"outlinewidth\":0,\"ticks\":\"\"}},\"type\":\"scattercarpet\"}],\"scattergeo\":[{\"marker\":{\"colorbar\":{\"outlinewidth\":0,\"ticks\":\"\"}},\"type\":\"scattergeo\"}],\"scattergl\":[{\"marker\":{\"colorbar\":{\"outlinewidth\":0,\"ticks\":\"\"}},\"type\":\"scattergl\"}],\"scattermapbox\":[{\"marker\":{\"colorbar\":{\"outlinewidth\":0,\"ticks\":\"\"}},\"type\":\"scattermapbox\"}],\"scatterpolargl\":[{\"marker\":{\"colorbar\":{\"outlinewidth\":0,\"ticks\":\"\"}},\"type\":\"scatterpolargl\"}],\"scatterpolar\":[{\"marker\":{\"colorbar\":{\"outlinewidth\":0,\"ticks\":\"\"}},\"type\":\"scatterpolar\"}],\"scatter\":[{\"fillpattern\":{\"fillmode\":\"overlay\",\"size\":10,\"solidity\":0.2},\"type\":\"scatter\"}],\"scatterternary\":[{\"marker\":{\"colorbar\":{\"outlinewidth\":0,\"ticks\":\"\"}},\"type\":\"scatterternary\"}],\"surface\":[{\"colorbar\":{\"outlinewidth\":0,\"ticks\":\"\"},\"colorscale\":[[0.0,\"#0d0887\"],[0.1111111111111111,\"#46039f\"],[0.2222222222222222,\"#7201a8\"],[0.3333333333333333,\"#9c179e\"],[0.4444444444444444,\"#bd3786\"],[0.5555555555555556,\"#d8576b\"],[0.6666666666666666,\"#ed7953\"],[0.7777777777777778,\"#fb9f3a\"],[0.8888888888888888,\"#fdca26\"],[1.0,\"#f0f921\"]],\"type\":\"surface\"}],\"table\":[{\"cells\":{\"fill\":{\"color\":\"#EBF0F8\"},\"line\":{\"color\":\"white\"}},\"header\":{\"fill\":{\"color\":\"#C8D4E3\"},\"line\":{\"color\":\"white\"}},\"type\":\"table\"}]},\"layout\":{\"annotationdefaults\":{\"arrowcolor\":\"#2a3f5f\",\"arrowhead\":0,\"arrowwidth\":1},\"autotypenumbers\":\"strict\",\"coloraxis\":{\"colorbar\":{\"outlinewidth\":0,\"ticks\":\"\"}},\"colorscale\":{\"diverging\":[[0,\"#8e0152\"],[0.1,\"#c51b7d\"],[0.2,\"#de77ae\"],[0.3,\"#f1b6da\"],[0.4,\"#fde0ef\"],[0.5,\"#f7f7f7\"],[0.6,\"#e6f5d0\"],[0.7,\"#b8e186\"],[0.8,\"#7fbc41\"],[0.9,\"#4d9221\"],[1,\"#276419\"]],\"sequential\":[[0.0,\"#0d0887\"],[0.1111111111111111,\"#46039f\"],[0.2222222222222222,\"#7201a8\"],[0.3333333333333333,\"#9c179e\"],[0.4444444444444444,\"#bd3786\"],[0.5555555555555556,\"#d8576b\"],[0.6666666666666666,\"#ed7953\"],[0.7777777777777778,\"#fb9f3a\"],[0.8888888888888888,\"#fdca26\"],[1.0,\"#f0f921\"]],\"sequentialminus\":[[0.0,\"#0d0887\"],[0.1111111111111111,\"#46039f\"],[0.2222222222222222,\"#7201a8\"],[0.3333333333333333,\"#9c179e\"],[0.4444444444444444,\"#bd3786\"],[0.5555555555555556,\"#d8576b\"],[0.6666666666666666,\"#ed7953\"],[0.7777777777777778,\"#fb9f3a\"],[0.8888888888888888,\"#fdca26\"],[1.0,\"#f0f921\"]]},\"colorway\":[\"#636efa\",\"#EF553B\",\"#00cc96\",\"#ab63fa\",\"#FFA15A\",\"#19d3f3\",\"#FF6692\",\"#B6E880\",\"#FF97FF\",\"#FECB52\"],\"font\":{\"color\":\"#2a3f5f\"},\"geo\":{\"bgcolor\":\"white\",\"lakecolor\":\"white\",\"landcolor\":\"white\",\"showlakes\":true,\"showland\":true,\"subunitcolor\":\"#C8D4E3\"},\"hoverlabel\":{\"align\":\"left\"},\"hovermode\":\"closest\",\"mapbox\":{\"style\":\"light\"},\"paper_bgcolor\":\"white\",\"plot_bgcolor\":\"white\",\"polar\":{\"angularaxis\":{\"gridcolor\":\"#EBF0F8\",\"linecolor\":\"#EBF0F8\",\"ticks\":\"\"},\"bgcolor\":\"white\",\"radialaxis\":{\"gridcolor\":\"#EBF0F8\",\"linecolor\":\"#EBF0F8\",\"ticks\":\"\"}},\"scene\":{\"xaxis\":{\"backgroundcolor\":\"white\",\"gridcolor\":\"#DFE8F3\",\"gridwidth\":2,\"linecolor\":\"#EBF0F8\",\"showbackground\":true,\"ticks\":\"\",\"zerolinecolor\":\"#EBF0F8\"},\"yaxis\":{\"backgroundcolor\":\"white\",\"gridcolor\":\"#DFE8F3\",\"gridwidth\":2,\"linecolor\":\"#EBF0F8\",\"showbackground\":true,\"ticks\":\"\",\"zerolinecolor\":\"#EBF0F8\"},\"zaxis\":{\"backgroundcolor\":\"white\",\"gridcolor\":\"#DFE8F3\",\"gridwidth\":2,\"linecolor\":\"#EBF0F8\",\"showbackground\":true,\"ticks\":\"\",\"zerolinecolor\":\"#EBF0F8\"}},\"shapedefaults\":{\"line\":{\"color\":\"#2a3f5f\"}},\"ternary\":{\"aaxis\":{\"gridcolor\":\"#DFE8F3\",\"linecolor\":\"#A2B1C6\",\"ticks\":\"\"},\"baxis\":{\"gridcolor\":\"#DFE8F3\",\"linecolor\":\"#A2B1C6\",\"ticks\":\"\"},\"bgcolor\":\"white\",\"caxis\":{\"gridcolor\":\"#DFE8F3\",\"linecolor\":\"#A2B1C6\",\"ticks\":\"\"}},\"title\":{\"x\":0.05},\"xaxis\":{\"automargin\":true,\"gridcolor\":\"#EBF0F8\",\"linecolor\":\"#EBF0F8\",\"ticks\":\"\",\"title\":{\"standoff\":15},\"zerolinecolor\":\"#EBF0F8\",\"zerolinewidth\":2},\"yaxis\":{\"automargin\":true,\"gridcolor\":\"#EBF0F8\",\"linecolor\":\"#EBF0F8\",\"ticks\":\"\",\"title\":{\"standoff\":15},\"zerolinecolor\":\"#EBF0F8\",\"zerolinewidth\":2}}},\"xaxis\":{\"anchor\":\"y\",\"domain\":[0.0,1.0],\"title\":{\"text\":\"\"}},\"yaxis\":{\"anchor\":\"x\",\"domain\":[0.0,1.0],\"title\":{\"text\":\"\"}},\"legend\":{\"tracegroupgap\":0},\"title\":{\"text\":\"Agenda de conocimiento\"},\"barmode\":\"group\",\"height\":500},                        {\"responsive\": true}                    ).then(function(){\n",
       "                            \n",
       "var gd = document.getElementById('9a27c79e-0134-4e80-a4b4-5e3098e76561');\n",
       "var x = new MutationObserver(function (mutations, observer) {{\n",
       "        var display = window.getComputedStyle(gd).display;\n",
       "        if (!display || display === 'none') {{\n",
       "            console.log([gd, 'removed!']);\n",
       "            Plotly.purge(gd);\n",
       "            observer.disconnect();\n",
       "        }}\n",
       "}});\n",
       "\n",
       "// Listen for the removal of the full notebook cells\n",
       "var notebookContainer = gd.closest('#notebook-container');\n",
       "if (notebookContainer) {{\n",
       "    x.observe(notebookContainer, {childList: true});\n",
       "}}\n",
       "\n",
       "// Listen for the clearing of the current output cell\n",
       "var outputEl = gd.closest('.output');\n",
       "if (outputEl) {{\n",
       "    x.observe(outputEl, {childList: true});\n",
       "}}\n",
       "\n",
       "                        })                };                });            </script>        </div>"
      ]
     },
     "metadata": {},
     "output_type": "display_data"
    }
   ],
   "source": [
    "config = {\n",
    "    'labels': {'knowledge': '',\n",
    "               'sub_ocde': 'Subáreas',\n",
    "               'count': ''\n",
    "              },\n",
    "     'height': 500,\n",
    "     'title':'Agenda de conocimiento',\n",
    "     'template': 'plotly_white',\n",
    "}\n",
    "\n",
    "if faculty != 'All':\n",
    "    g = groups.loc[groups['facultad'] == faculty]\n",
    "else:\n",
    "    g = groups\n",
    "\n",
    "fig = px.histogram(g, y='knowledge', orientation='h', barmode='group', **config)\n",
    "fig.update_layout(xaxis_title='')\n",
    "fig.update_traces(hoverinfo='none', hovertemplate = '')\n",
    "fig.show()"
   ]
  },
  {
   "cell_type": "code",
   "execution_count": 381,
   "id": "660b6972-f6f7-4248-938b-2ad04b7d9e47",
   "metadata": {},
   "outputs": [
    {
     "data": {
      "application/vnd.plotly.v1+json": {
       "config": {
        "plotlyServerURL": "https://plot.ly"
       },
       "data": [
        {
         "alignmentgroup": "True",
         "bingroup": "y",
         "hoverinfo": "none",
         "hovertemplate": "",
         "legendgroup": "",
         "marker": {
          "color": "#636efa",
          "pattern": {
           "shape": ""
          }
         },
         "name": "",
         "offsetgroup": "",
         "orientation": "h",
         "showlegend": false,
         "type": "histogram",
         "xaxis": "x",
         "y": [
          "Departamento de matemáticas",
          "Departamento de matemáticas",
          "Escuela de arquitectura y urbanismo",
          "Escuela de arquitectura y urbanismo",
          "Escuela de arquitectura y urbanismo",
          "Escuela de arquitectura y urbanismo",
          "Departamento de física y química",
          "Departamento de física y química",
          "Departamento de matemáticas",
          "Departamento de ciencias humanas",
          "Departamento de administración",
          "Departamento de ingeniería eléctrica, electrónica y computación",
          "Departamento de ingeniería eléctrica, electrónica y computación",
          "Departamento de administración",
          "Departamento de administración",
          "Departamento de ingeniería industrial",
          "Departamento de física y química",
          "Departamento de informática y computación",
          "Departamento de ingeniería eléctrica, electrónica y computación",
          "Departamento de ciencias humanas",
          "Departamento de ciencias humanas",
          "Departamento de ingeniería industrial",
          "Departamento de administración",
          "Departamento de administración",
          "Departamento de administración",
          "Departamento de informática y computación",
          "Departamento de administración",
          "Departamento de ingeniería civil",
          "Departamento de ciencias humanas",
          "Departamento de ingeniería industrial",
          "Departamento de ingeniería eléctrica, electrónica y computación",
          "Departamento de física y química",
          "Departamento de ingeniería química",
          "Departamento de ingeniería química",
          "Departamento de ingeniería química",
          "Departamento de ingeniería eléctrica, electrónica y computación",
          "Departamento de matemáticas",
          "Departamento de ingeniería química",
          "Departamento de ingeniería eléctrica, electrónica y computación",
          "Departamento de matemáticas",
          "Departamento de administración",
          "Escuela de arquitectura y urbanismo",
          "Escuela de arquitectura y urbanismo",
          "Departamento de informática y computación",
          "Departamento de ingeniería química",
          "Departamento de ingeniería civil",
          "Departamento de ingeniería eléctrica, electrónica y computación",
          "Departamento de ciencias humanas",
          "Departamento de ingeniería civil",
          "Departamento de ingeniería industrial",
          "Departamento de matemáticas",
          "Departamento de física y química",
          "Departamento de física y química",
          "Departamento de ingeniería civil",
          "Departamento de ingeniería civil",
          "Departamento de ingeniería civil",
          "Departamento de matemáticas",
          "Departamento de ciencias humanas",
          "Departamento de ingeniería eléctrica, electrónica y computación",
          "Departamento de ingeniería química",
          "Departamento de ingeniería química",
          "Departamento de ingeniería eléctrica, electrónica y computación",
          "Departamento de física y química",
          "Departamento de ingeniería eléctrica, electrónica y computación",
          "Departamento de informática y computación",
          "Departamento de ciencias humanas"
         ],
         "yaxis": "y"
        }
       ],
       "layout": {
        "autosize": true,
        "barmode": "group",
        "legend": {
         "tracegroupgap": 0
        },
        "template": {
         "data": {
          "bar": [
           {
            "error_x": {
             "color": "#2a3f5f"
            },
            "error_y": {
             "color": "#2a3f5f"
            },
            "marker": {
             "line": {
              "color": "white",
              "width": 0.5
             },
             "pattern": {
              "fillmode": "overlay",
              "size": 10,
              "solidity": 0.2
             }
            },
            "type": "bar"
           }
          ],
          "barpolar": [
           {
            "marker": {
             "line": {
              "color": "white",
              "width": 0.5
             },
             "pattern": {
              "fillmode": "overlay",
              "size": 10,
              "solidity": 0.2
             }
            },
            "type": "barpolar"
           }
          ],
          "carpet": [
           {
            "aaxis": {
             "endlinecolor": "#2a3f5f",
             "gridcolor": "#C8D4E3",
             "linecolor": "#C8D4E3",
             "minorgridcolor": "#C8D4E3",
             "startlinecolor": "#2a3f5f"
            },
            "baxis": {
             "endlinecolor": "#2a3f5f",
             "gridcolor": "#C8D4E3",
             "linecolor": "#C8D4E3",
             "minorgridcolor": "#C8D4E3",
             "startlinecolor": "#2a3f5f"
            },
            "type": "carpet"
           }
          ],
          "choropleth": [
           {
            "colorbar": {
             "outlinewidth": 0,
             "ticks": ""
            },
            "type": "choropleth"
           }
          ],
          "contour": [
           {
            "colorbar": {
             "outlinewidth": 0,
             "ticks": ""
            },
            "colorscale": [
             [
              0,
              "#0d0887"
             ],
             [
              0.1111111111111111,
              "#46039f"
             ],
             [
              0.2222222222222222,
              "#7201a8"
             ],
             [
              0.3333333333333333,
              "#9c179e"
             ],
             [
              0.4444444444444444,
              "#bd3786"
             ],
             [
              0.5555555555555556,
              "#d8576b"
             ],
             [
              0.6666666666666666,
              "#ed7953"
             ],
             [
              0.7777777777777778,
              "#fb9f3a"
             ],
             [
              0.8888888888888888,
              "#fdca26"
             ],
             [
              1,
              "#f0f921"
             ]
            ],
            "type": "contour"
           }
          ],
          "contourcarpet": [
           {
            "colorbar": {
             "outlinewidth": 0,
             "ticks": ""
            },
            "type": "contourcarpet"
           }
          ],
          "heatmap": [
           {
            "colorbar": {
             "outlinewidth": 0,
             "ticks": ""
            },
            "colorscale": [
             [
              0,
              "#0d0887"
             ],
             [
              0.1111111111111111,
              "#46039f"
             ],
             [
              0.2222222222222222,
              "#7201a8"
             ],
             [
              0.3333333333333333,
              "#9c179e"
             ],
             [
              0.4444444444444444,
              "#bd3786"
             ],
             [
              0.5555555555555556,
              "#d8576b"
             ],
             [
              0.6666666666666666,
              "#ed7953"
             ],
             [
              0.7777777777777778,
              "#fb9f3a"
             ],
             [
              0.8888888888888888,
              "#fdca26"
             ],
             [
              1,
              "#f0f921"
             ]
            ],
            "type": "heatmap"
           }
          ],
          "heatmapgl": [
           {
            "colorbar": {
             "outlinewidth": 0,
             "ticks": ""
            },
            "colorscale": [
             [
              0,
              "#0d0887"
             ],
             [
              0.1111111111111111,
              "#46039f"
             ],
             [
              0.2222222222222222,
              "#7201a8"
             ],
             [
              0.3333333333333333,
              "#9c179e"
             ],
             [
              0.4444444444444444,
              "#bd3786"
             ],
             [
              0.5555555555555556,
              "#d8576b"
             ],
             [
              0.6666666666666666,
              "#ed7953"
             ],
             [
              0.7777777777777778,
              "#fb9f3a"
             ],
             [
              0.8888888888888888,
              "#fdca26"
             ],
             [
              1,
              "#f0f921"
             ]
            ],
            "type": "heatmapgl"
           }
          ],
          "histogram": [
           {
            "marker": {
             "pattern": {
              "fillmode": "overlay",
              "size": 10,
              "solidity": 0.2
             }
            },
            "type": "histogram"
           }
          ],
          "histogram2d": [
           {
            "colorbar": {
             "outlinewidth": 0,
             "ticks": ""
            },
            "colorscale": [
             [
              0,
              "#0d0887"
             ],
             [
              0.1111111111111111,
              "#46039f"
             ],
             [
              0.2222222222222222,
              "#7201a8"
             ],
             [
              0.3333333333333333,
              "#9c179e"
             ],
             [
              0.4444444444444444,
              "#bd3786"
             ],
             [
              0.5555555555555556,
              "#d8576b"
             ],
             [
              0.6666666666666666,
              "#ed7953"
             ],
             [
              0.7777777777777778,
              "#fb9f3a"
             ],
             [
              0.8888888888888888,
              "#fdca26"
             ],
             [
              1,
              "#f0f921"
             ]
            ],
            "type": "histogram2d"
           }
          ],
          "histogram2dcontour": [
           {
            "colorbar": {
             "outlinewidth": 0,
             "ticks": ""
            },
            "colorscale": [
             [
              0,
              "#0d0887"
             ],
             [
              0.1111111111111111,
              "#46039f"
             ],
             [
              0.2222222222222222,
              "#7201a8"
             ],
             [
              0.3333333333333333,
              "#9c179e"
             ],
             [
              0.4444444444444444,
              "#bd3786"
             ],
             [
              0.5555555555555556,
              "#d8576b"
             ],
             [
              0.6666666666666666,
              "#ed7953"
             ],
             [
              0.7777777777777778,
              "#fb9f3a"
             ],
             [
              0.8888888888888888,
              "#fdca26"
             ],
             [
              1,
              "#f0f921"
             ]
            ],
            "type": "histogram2dcontour"
           }
          ],
          "mesh3d": [
           {
            "colorbar": {
             "outlinewidth": 0,
             "ticks": ""
            },
            "type": "mesh3d"
           }
          ],
          "parcoords": [
           {
            "line": {
             "colorbar": {
              "outlinewidth": 0,
              "ticks": ""
             }
            },
            "type": "parcoords"
           }
          ],
          "pie": [
           {
            "automargin": true,
            "type": "pie"
           }
          ],
          "scatter": [
           {
            "fillpattern": {
             "fillmode": "overlay",
             "size": 10,
             "solidity": 0.2
            },
            "type": "scatter"
           }
          ],
          "scatter3d": [
           {
            "line": {
             "colorbar": {
              "outlinewidth": 0,
              "ticks": ""
             }
            },
            "marker": {
             "colorbar": {
              "outlinewidth": 0,
              "ticks": ""
             }
            },
            "type": "scatter3d"
           }
          ],
          "scattercarpet": [
           {
            "marker": {
             "colorbar": {
              "outlinewidth": 0,
              "ticks": ""
             }
            },
            "type": "scattercarpet"
           }
          ],
          "scattergeo": [
           {
            "marker": {
             "colorbar": {
              "outlinewidth": 0,
              "ticks": ""
             }
            },
            "type": "scattergeo"
           }
          ],
          "scattergl": [
           {
            "marker": {
             "colorbar": {
              "outlinewidth": 0,
              "ticks": ""
             }
            },
            "type": "scattergl"
           }
          ],
          "scattermapbox": [
           {
            "marker": {
             "colorbar": {
              "outlinewidth": 0,
              "ticks": ""
             }
            },
            "type": "scattermapbox"
           }
          ],
          "scatterpolar": [
           {
            "marker": {
             "colorbar": {
              "outlinewidth": 0,
              "ticks": ""
             }
            },
            "type": "scatterpolar"
           }
          ],
          "scatterpolargl": [
           {
            "marker": {
             "colorbar": {
              "outlinewidth": 0,
              "ticks": ""
             }
            },
            "type": "scatterpolargl"
           }
          ],
          "scatterternary": [
           {
            "marker": {
             "colorbar": {
              "outlinewidth": 0,
              "ticks": ""
             }
            },
            "type": "scatterternary"
           }
          ],
          "surface": [
           {
            "colorbar": {
             "outlinewidth": 0,
             "ticks": ""
            },
            "colorscale": [
             [
              0,
              "#0d0887"
             ],
             [
              0.1111111111111111,
              "#46039f"
             ],
             [
              0.2222222222222222,
              "#7201a8"
             ],
             [
              0.3333333333333333,
              "#9c179e"
             ],
             [
              0.4444444444444444,
              "#bd3786"
             ],
             [
              0.5555555555555556,
              "#d8576b"
             ],
             [
              0.6666666666666666,
              "#ed7953"
             ],
             [
              0.7777777777777778,
              "#fb9f3a"
             ],
             [
              0.8888888888888888,
              "#fdca26"
             ],
             [
              1,
              "#f0f921"
             ]
            ],
            "type": "surface"
           }
          ],
          "table": [
           {
            "cells": {
             "fill": {
              "color": "#EBF0F8"
             },
             "line": {
              "color": "white"
             }
            },
            "header": {
             "fill": {
              "color": "#C8D4E3"
             },
             "line": {
              "color": "white"
             }
            },
            "type": "table"
           }
          ]
         },
         "layout": {
          "annotationdefaults": {
           "arrowcolor": "#2a3f5f",
           "arrowhead": 0,
           "arrowwidth": 1
          },
          "autotypenumbers": "strict",
          "coloraxis": {
           "colorbar": {
            "outlinewidth": 0,
            "ticks": ""
           }
          },
          "colorscale": {
           "diverging": [
            [
             0,
             "#8e0152"
            ],
            [
             0.1,
             "#c51b7d"
            ],
            [
             0.2,
             "#de77ae"
            ],
            [
             0.3,
             "#f1b6da"
            ],
            [
             0.4,
             "#fde0ef"
            ],
            [
             0.5,
             "#f7f7f7"
            ],
            [
             0.6,
             "#e6f5d0"
            ],
            [
             0.7,
             "#b8e186"
            ],
            [
             0.8,
             "#7fbc41"
            ],
            [
             0.9,
             "#4d9221"
            ],
            [
             1,
             "#276419"
            ]
           ],
           "sequential": [
            [
             0,
             "#0d0887"
            ],
            [
             0.1111111111111111,
             "#46039f"
            ],
            [
             0.2222222222222222,
             "#7201a8"
            ],
            [
             0.3333333333333333,
             "#9c179e"
            ],
            [
             0.4444444444444444,
             "#bd3786"
            ],
            [
             0.5555555555555556,
             "#d8576b"
            ],
            [
             0.6666666666666666,
             "#ed7953"
            ],
            [
             0.7777777777777778,
             "#fb9f3a"
            ],
            [
             0.8888888888888888,
             "#fdca26"
            ],
            [
             1,
             "#f0f921"
            ]
           ],
           "sequentialminus": [
            [
             0,
             "#0d0887"
            ],
            [
             0.1111111111111111,
             "#46039f"
            ],
            [
             0.2222222222222222,
             "#7201a8"
            ],
            [
             0.3333333333333333,
             "#9c179e"
            ],
            [
             0.4444444444444444,
             "#bd3786"
            ],
            [
             0.5555555555555556,
             "#d8576b"
            ],
            [
             0.6666666666666666,
             "#ed7953"
            ],
            [
             0.7777777777777778,
             "#fb9f3a"
            ],
            [
             0.8888888888888888,
             "#fdca26"
            ],
            [
             1,
             "#f0f921"
            ]
           ]
          },
          "colorway": [
           "#636efa",
           "#EF553B",
           "#00cc96",
           "#ab63fa",
           "#FFA15A",
           "#19d3f3",
           "#FF6692",
           "#B6E880",
           "#FF97FF",
           "#FECB52"
          ],
          "font": {
           "color": "#2a3f5f"
          },
          "geo": {
           "bgcolor": "white",
           "lakecolor": "white",
           "landcolor": "white",
           "showlakes": true,
           "showland": true,
           "subunitcolor": "#C8D4E3"
          },
          "hoverlabel": {
           "align": "left"
          },
          "hovermode": "closest",
          "mapbox": {
           "style": "light"
          },
          "paper_bgcolor": "white",
          "plot_bgcolor": "white",
          "polar": {
           "angularaxis": {
            "gridcolor": "#EBF0F8",
            "linecolor": "#EBF0F8",
            "ticks": ""
           },
           "bgcolor": "white",
           "radialaxis": {
            "gridcolor": "#EBF0F8",
            "linecolor": "#EBF0F8",
            "ticks": ""
           }
          },
          "scene": {
           "xaxis": {
            "backgroundcolor": "white",
            "gridcolor": "#DFE8F3",
            "gridwidth": 2,
            "linecolor": "#EBF0F8",
            "showbackground": true,
            "ticks": "",
            "zerolinecolor": "#EBF0F8"
           },
           "yaxis": {
            "backgroundcolor": "white",
            "gridcolor": "#DFE8F3",
            "gridwidth": 2,
            "linecolor": "#EBF0F8",
            "showbackground": true,
            "ticks": "",
            "zerolinecolor": "#EBF0F8"
           },
           "zaxis": {
            "backgroundcolor": "white",
            "gridcolor": "#DFE8F3",
            "gridwidth": 2,
            "linecolor": "#EBF0F8",
            "showbackground": true,
            "ticks": "",
            "zerolinecolor": "#EBF0F8"
           }
          },
          "shapedefaults": {
           "line": {
            "color": "#2a3f5f"
           }
          },
          "ternary": {
           "aaxis": {
            "gridcolor": "#DFE8F3",
            "linecolor": "#A2B1C6",
            "ticks": ""
           },
           "baxis": {
            "gridcolor": "#DFE8F3",
            "linecolor": "#A2B1C6",
            "ticks": ""
           },
           "bgcolor": "white",
           "caxis": {
            "gridcolor": "#DFE8F3",
            "linecolor": "#A2B1C6",
            "ticks": ""
           }
          },
          "title": {
           "x": 0.05
          },
          "xaxis": {
           "automargin": true,
           "gridcolor": "#EBF0F8",
           "linecolor": "#EBF0F8",
           "ticks": "",
           "title": {
            "standoff": 15
           },
           "zerolinecolor": "#EBF0F8",
           "zerolinewidth": 2
          },
          "yaxis": {
           "automargin": true,
           "gridcolor": "#EBF0F8",
           "linecolor": "#EBF0F8",
           "ticks": "",
           "title": {
            "standoff": 15
           },
           "zerolinecolor": "#EBF0F8",
           "zerolinewidth": 2
          }
         }
        },
        "title": {
         "text": "Departamentos"
        },
        "xaxis": {
         "anchor": "y",
         "autorange": true,
         "domain": [
          0,
          1
         ],
         "range": [
          0,
          10.526315789473685
         ],
         "title": {
          "text": ""
         }
        },
        "yaxis": {
         "anchor": "x",
         "autorange": true,
         "domain": [
          0,
          1
         ],
         "range": [
          -0.5,
          9.5
         ],
         "title": {
          "text": ""
         },
         "type": "category"
        }
       }
      },
      "image/png": "[encoded data removed]",
      "text/html": [
       "<div>                            <div id=\"8a9c4f20-f46c-4ed9-8d54-0a60521122cc\" class=\"plotly-graph-div\" style=\"height:500px; width:100%;\"></div>            <script type=\"text/javascript\">                require([\"plotly\"], function(Plotly) {                    window.PLOTLYENV=window.PLOTLYENV || {};                                    if (document.getElementById(\"8a9c4f20-f46c-4ed9-8d54-0a60521122cc\")) {                    Plotly.newPlot(                        \"8a9c4f20-f46c-4ed9-8d54-0a60521122cc\",                        [{\"alignmentgroup\":\"True\",\"bingroup\":\"y\",\"hovertemplate\":\"\",\"legendgroup\":\"\",\"marker\":{\"color\":\"#636efa\",\"pattern\":{\"shape\":\"\"}},\"name\":\"\",\"offsetgroup\":\"\",\"orientation\":\"h\",\"showlegend\":false,\"xaxis\":\"x\",\"y\":[\"Departamento de matem\\u00e1ticas\",\"Departamento de matem\\u00e1ticas\",\"Escuela de arquitectura y urbanismo\",\"Escuela de arquitectura y urbanismo\",\"Escuela de arquitectura y urbanismo\",\"Escuela de arquitectura y urbanismo\",\"Departamento de f\\u00edsica y qu\\u00edmica\",\"Departamento de f\\u00edsica y qu\\u00edmica\",\"Departamento de matem\\u00e1ticas\",\"Departamento de ciencias humanas\",\"Departamento de administraci\\u00f3n\",\"Departamento de ingenier\\u00eda el\\u00e9ctrica, electr\\u00f3nica y computaci\\u00f3n\",\"Departamento de ingenier\\u00eda el\\u00e9ctrica, electr\\u00f3nica y computaci\\u00f3n\",\"Departamento de administraci\\u00f3n\",\"Departamento de administraci\\u00f3n\",\"Departamento de ingenier\\u00eda industrial\",\"Departamento de f\\u00edsica y qu\\u00edmica\",\"Departamento de inform\\u00e1tica y computaci\\u00f3n\",\"Departamento de ingenier\\u00eda el\\u00e9ctrica, electr\\u00f3nica y computaci\\u00f3n\",\"Departamento de ciencias humanas\",\"Departamento de ciencias humanas\",\"Departamento de ingenier\\u00eda industrial\",\"Departamento de administraci\\u00f3n\",\"Departamento de administraci\\u00f3n\",\"Departamento de administraci\\u00f3n\",\"Departamento de inform\\u00e1tica y computaci\\u00f3n\",\"Departamento de administraci\\u00f3n\",\"Departamento de ingenier\\u00eda civil\",\"Departamento de ciencias humanas\",\"Departamento de ingenier\\u00eda industrial\",\"Departamento de ingenier\\u00eda el\\u00e9ctrica, electr\\u00f3nica y computaci\\u00f3n\",\"Departamento de f\\u00edsica y qu\\u00edmica\",\"Departamento de ingenier\\u00eda qu\\u00edmica\",\"Departamento de ingenier\\u00eda qu\\u00edmica\",\"Departamento de ingenier\\u00eda qu\\u00edmica\",\"Departamento de ingenier\\u00eda el\\u00e9ctrica, electr\\u00f3nica y computaci\\u00f3n\",\"Departamento de matem\\u00e1ticas\",\"Departamento de ingenier\\u00eda qu\\u00edmica\",\"Departamento de ingenier\\u00eda el\\u00e9ctrica, electr\\u00f3nica y computaci\\u00f3n\",\"Departamento de matem\\u00e1ticas\",\"Departamento de administraci\\u00f3n\",\"Escuela de arquitectura y urbanismo\",\"Escuela de arquitectura y urbanismo\",\"Departamento de inform\\u00e1tica y computaci\\u00f3n\",\"Departamento de ingenier\\u00eda qu\\u00edmica\",\"Departamento de ingenier\\u00eda civil\",\"Departamento de ingenier\\u00eda el\\u00e9ctrica, electr\\u00f3nica y computaci\\u00f3n\",\"Departamento de ciencias humanas\",\"Departamento de ingenier\\u00eda civil\",\"Departamento de ingenier\\u00eda industrial\",\"Departamento de matem\\u00e1ticas\",\"Departamento de f\\u00edsica y qu\\u00edmica\",\"Departamento de f\\u00edsica y qu\\u00edmica\",\"Departamento de ingenier\\u00eda civil\",\"Departamento de ingenier\\u00eda civil\",\"Departamento de ingenier\\u00eda civil\",\"Departamento de matem\\u00e1ticas\",\"Departamento de ciencias humanas\",\"Departamento de ingenier\\u00eda el\\u00e9ctrica, electr\\u00f3nica y computaci\\u00f3n\",\"Departamento de ingenier\\u00eda qu\\u00edmica\",\"Departamento de ingenier\\u00eda qu\\u00edmica\",\"Departamento de ingenier\\u00eda el\\u00e9ctrica, electr\\u00f3nica y computaci\\u00f3n\",\"Departamento de f\\u00edsica y qu\\u00edmica\",\"Departamento de ingenier\\u00eda el\\u00e9ctrica, electr\\u00f3nica y computaci\\u00f3n\",\"Departamento de inform\\u00e1tica y computaci\\u00f3n\",\"Departamento de ciencias humanas\"],\"yaxis\":\"y\",\"type\":\"histogram\",\"hoverinfo\":\"none\"}],                        {\"template\":{\"data\":{\"barpolar\":[{\"marker\":{\"line\":{\"color\":\"white\",\"width\":0.5},\"pattern\":{\"fillmode\":\"overlay\",\"size\":10,\"solidity\":0.2}},\"type\":\"barpolar\"}],\"bar\":[{\"error_x\":{\"color\":\"#2a3f5f\"},\"error_y\":{\"color\":\"#2a3f5f\"},\"marker\":{\"line\":{\"color\":\"white\",\"width\":0.5},\"pattern\":{\"fillmode\":\"overlay\",\"size\":10,\"solidity\":0.2}},\"type\":\"bar\"}],\"carpet\":[{\"aaxis\":{\"endlinecolor\":\"#2a3f5f\",\"gridcolor\":\"#C8D4E3\",\"linecolor\":\"#C8D4E3\",\"minorgridcolor\":\"#C8D4E3\",\"startlinecolor\":\"#2a3f5f\"},\"baxis\":{\"endlinecolor\":\"#2a3f5f\",\"gridcolor\":\"#C8D4E3\",\"linecolor\":\"#C8D4E3\",\"minorgridcolor\":\"#C8D4E3\",\"startlinecolor\":\"#2a3f5f\"},\"type\":\"carpet\"}],\"choropleth\":[{\"colorbar\":{\"outlinewidth\":0,\"ticks\":\"\"},\"type\":\"choropleth\"}],\"contourcarpet\":[{\"colorbar\":{\"outlinewidth\":0,\"ticks\":\"\"},\"type\":\"contourcarpet\"}],\"contour\":[{\"colorbar\":{\"outlinewidth\":0,\"ticks\":\"\"},\"colorscale\":[[0.0,\"#0d0887\"],[0.1111111111111111,\"#46039f\"],[0.2222222222222222,\"#7201a8\"],[0.3333333333333333,\"#9c179e\"],[0.4444444444444444,\"#bd3786\"],[0.5555555555555556,\"#d8576b\"],[0.6666666666666666,\"#ed7953\"],[0.7777777777777778,\"#fb9f3a\"],[0.8888888888888888,\"#fdca26\"],[1.0,\"#f0f921\"]],\"type\":\"contour\"}],\"heatmapgl\":[{\"colorbar\":{\"outlinewidth\":0,\"ticks\":\"\"},\"colorscale\":[[0.0,\"#0d0887\"],[0.1111111111111111,\"#46039f\"],[0.2222222222222222,\"#7201a8\"],[0.3333333333333333,\"#9c179e\"],[0.4444444444444444,\"#bd3786\"],[0.5555555555555556,\"#d8576b\"],[0.6666666666666666,\"#ed7953\"],[0.7777777777777778,\"#fb9f3a\"],[0.8888888888888888,\"#fdca26\"],[1.0,\"#f0f921\"]],\"type\":\"heatmapgl\"}],\"heatmap\":[{\"colorbar\":{\"outlinewidth\":0,\"ticks\":\"\"},\"colorscale\":[[0.0,\"#0d0887\"],[0.1111111111111111,\"#46039f\"],[0.2222222222222222,\"#7201a8\"],[0.3333333333333333,\"#9c179e\"],[0.4444444444444444,\"#bd3786\"],[0.5555555555555556,\"#d8576b\"],[0.6666666666666666,\"#ed7953\"],[0.7777777777777778,\"#fb9f3a\"],[0.8888888888888888,\"#fdca26\"],[1.0,\"#f0f921\"]],\"type\":\"heatmap\"}],\"histogram2dcontour\":[{\"colorbar\":{\"outlinewidth\":0,\"ticks\":\"\"},\"colorscale\":[[0.0,\"#0d0887\"],[0.1111111111111111,\"#46039f\"],[0.2222222222222222,\"#7201a8\"],[0.3333333333333333,\"#9c179e\"],[0.4444444444444444,\"#bd3786\"],[0.5555555555555556,\"#d8576b\"],[0.6666666666666666,\"#ed7953\"],[0.7777777777777778,\"#fb9f3a\"],[0.8888888888888888,\"#fdca26\"],[1.0,\"#f0f921\"]],\"type\":\"histogram2dcontour\"}],\"histogram2d\":[{\"colorbar\":{\"outlinewidth\":0,\"ticks\":\"\"},\"colorscale\":[[0.0,\"#0d0887\"],[0.1111111111111111,\"#46039f\"],[0.2222222222222222,\"#7201a8\"],[0.3333333333333333,\"#9c179e\"],[0.4444444444444444,\"#bd3786\"],[0.5555555555555556,\"#d8576b\"],[0.6666666666666666,\"#ed7953\"],[0.7777777777777778,\"#fb9f3a\"],[0.8888888888888888,\"#fdca26\"],[1.0,\"#f0f921\"]],\"type\":\"histogram2d\"}],\"histogram\":[{\"marker\":{\"pattern\":{\"fillmode\":\"overlay\",\"size\":10,\"solidity\":0.2}},\"type\":\"histogram\"}],\"mesh3d\":[{\"colorbar\":{\"outlinewidth\":0,\"ticks\":\"\"},\"type\":\"mesh3d\"}],\"parcoords\":[{\"line\":{\"colorbar\":{\"outlinewidth\":0,\"ticks\":\"\"}},\"type\":\"parcoords\"}],\"pie\":[{\"automargin\":true,\"type\":\"pie\"}],\"scatter3d\":[{\"line\":{\"colorbar\":{\"outlinewidth\":0,\"ticks\":\"\"}},\"marker\":{\"colorbar\":{\"outlinewidth\":0,\"ticks\":\"\"}},\"type\":\"scatter3d\"}],\"scattercarpet\":[{\"marker\":{\"colorbar\":{\"outlinewidth\":0,\"ticks\":\"\"}},\"type\":\"scattercarpet\"}],\"scattergeo\":[{\"marker\":{\"colorbar\":{\"outlinewidth\":0,\"ticks\":\"\"}},\"type\":\"scattergeo\"}],\"scattergl\":[{\"marker\":{\"colorbar\":{\"outlinewidth\":0,\"ticks\":\"\"}},\"type\":\"scattergl\"}],\"scattermapbox\":[{\"marker\":{\"colorbar\":{\"outlinewidth\":0,\"ticks\":\"\"}},\"type\":\"scattermapbox\"}],\"scatterpolargl\":[{\"marker\":{\"colorbar\":{\"outlinewidth\":0,\"ticks\":\"\"}},\"type\":\"scatterpolargl\"}],\"scatterpolar\":[{\"marker\":{\"colorbar\":{\"outlinewidth\":0,\"ticks\":\"\"}},\"type\":\"scatterpolar\"}],\"scatter\":[{\"fillpattern\":{\"fillmode\":\"overlay\",\"size\":10,\"solidity\":0.2},\"type\":\"scatter\"}],\"scatterternary\":[{\"marker\":{\"colorbar\":{\"outlinewidth\":0,\"ticks\":\"\"}},\"type\":\"scatterternary\"}],\"surface\":[{\"colorbar\":{\"outlinewidth\":0,\"ticks\":\"\"},\"colorscale\":[[0.0,\"#0d0887\"],[0.1111111111111111,\"#46039f\"],[0.2222222222222222,\"#7201a8\"],[0.3333333333333333,\"#9c179e\"],[0.4444444444444444,\"#bd3786\"],[0.5555555555555556,\"#d8576b\"],[0.6666666666666666,\"#ed7953\"],[0.7777777777777778,\"#fb9f3a\"],[0.8888888888888888,\"#fdca26\"],[1.0,\"#f0f921\"]],\"type\":\"surface\"}],\"table\":[{\"cells\":{\"fill\":{\"color\":\"#EBF0F8\"},\"line\":{\"color\":\"white\"}},\"header\":{\"fill\":{\"color\":\"#C8D4E3\"},\"line\":{\"color\":\"white\"}},\"type\":\"table\"}]},\"layout\":{\"annotationdefaults\":{\"arrowcolor\":\"#2a3f5f\",\"arrowhead\":0,\"arrowwidth\":1},\"autotypenumbers\":\"strict\",\"coloraxis\":{\"colorbar\":{\"outlinewidth\":0,\"ticks\":\"\"}},\"colorscale\":{\"diverging\":[[0,\"#8e0152\"],[0.1,\"#c51b7d\"],[0.2,\"#de77ae\"],[0.3,\"#f1b6da\"],[0.4,\"#fde0ef\"],[0.5,\"#f7f7f7\"],[0.6,\"#e6f5d0\"],[0.7,\"#b8e186\"],[0.8,\"#7fbc41\"],[0.9,\"#4d9221\"],[1,\"#276419\"]],\"sequential\":[[0.0,\"#0d0887\"],[0.1111111111111111,\"#46039f\"],[0.2222222222222222,\"#7201a8\"],[0.3333333333333333,\"#9c179e\"],[0.4444444444444444,\"#bd3786\"],[0.5555555555555556,\"#d8576b\"],[0.6666666666666666,\"#ed7953\"],[0.7777777777777778,\"#fb9f3a\"],[0.8888888888888888,\"#fdca26\"],[1.0,\"#f0f921\"]],\"sequentialminus\":[[0.0,\"#0d0887\"],[0.1111111111111111,\"#46039f\"],[0.2222222222222222,\"#7201a8\"],[0.3333333333333333,\"#9c179e\"],[0.4444444444444444,\"#bd3786\"],[0.5555555555555556,\"#d8576b\"],[0.6666666666666666,\"#ed7953\"],[0.7777777777777778,\"#fb9f3a\"],[0.8888888888888888,\"#fdca26\"],[1.0,\"#f0f921\"]]},\"colorway\":[\"#636efa\",\"#EF553B\",\"#00cc96\",\"#ab63fa\",\"#FFA15A\",\"#19d3f3\",\"#FF6692\",\"#B6E880\",\"#FF97FF\",\"#FECB52\"],\"font\":{\"color\":\"#2a3f5f\"},\"geo\":{\"bgcolor\":\"white\",\"lakecolor\":\"white\",\"landcolor\":\"white\",\"showlakes\":true,\"showland\":true,\"subunitcolor\":\"#C8D4E3\"},\"hoverlabel\":{\"align\":\"left\"},\"hovermode\":\"closest\",\"mapbox\":{\"style\":\"light\"},\"paper_bgcolor\":\"white\",\"plot_bgcolor\":\"white\",\"polar\":{\"angularaxis\":{\"gridcolor\":\"#EBF0F8\",\"linecolor\":\"#EBF0F8\",\"ticks\":\"\"},\"bgcolor\":\"white\",\"radialaxis\":{\"gridcolor\":\"#EBF0F8\",\"linecolor\":\"#EBF0F8\",\"ticks\":\"\"}},\"scene\":{\"xaxis\":{\"backgroundcolor\":\"white\",\"gridcolor\":\"#DFE8F3\",\"gridwidth\":2,\"linecolor\":\"#EBF0F8\",\"showbackground\":true,\"ticks\":\"\",\"zerolinecolor\":\"#EBF0F8\"},\"yaxis\":{\"backgroundcolor\":\"white\",\"gridcolor\":\"#DFE8F3\",\"gridwidth\":2,\"linecolor\":\"#EBF0F8\",\"showbackground\":true,\"ticks\":\"\",\"zerolinecolor\":\"#EBF0F8\"},\"zaxis\":{\"backgroundcolor\":\"white\",\"gridcolor\":\"#DFE8F3\",\"gridwidth\":2,\"linecolor\":\"#EBF0F8\",\"showbackground\":true,\"ticks\":\"\",\"zerolinecolor\":\"#EBF0F8\"}},\"shapedefaults\":{\"line\":{\"color\":\"#2a3f5f\"}},\"ternary\":{\"aaxis\":{\"gridcolor\":\"#DFE8F3\",\"linecolor\":\"#A2B1C6\",\"ticks\":\"\"},\"baxis\":{\"gridcolor\":\"#DFE8F3\",\"linecolor\":\"#A2B1C6\",\"ticks\":\"\"},\"bgcolor\":\"white\",\"caxis\":{\"gridcolor\":\"#DFE8F3\",\"linecolor\":\"#A2B1C6\",\"ticks\":\"\"}},\"title\":{\"x\":0.05},\"xaxis\":{\"automargin\":true,\"gridcolor\":\"#EBF0F8\",\"linecolor\":\"#EBF0F8\",\"ticks\":\"\",\"title\":{\"standoff\":15},\"zerolinecolor\":\"#EBF0F8\",\"zerolinewidth\":2},\"yaxis\":{\"automargin\":true,\"gridcolor\":\"#EBF0F8\",\"linecolor\":\"#EBF0F8\",\"ticks\":\"\",\"title\":{\"standoff\":15},\"zerolinecolor\":\"#EBF0F8\",\"zerolinewidth\":2}}},\"xaxis\":{\"anchor\":\"y\",\"domain\":[0.0,1.0],\"title\":{\"text\":\"\"}},\"yaxis\":{\"anchor\":\"x\",\"domain\":[0.0,1.0],\"title\":{\"text\":\"\"}},\"legend\":{\"tracegroupgap\":0},\"title\":{\"text\":\"Departamentos\"},\"barmode\":\"group\",\"height\":500},                        {\"responsive\": true}                    ).then(function(){\n",
       "                            \n",
       "var gd = document.getElementById('8a9c4f20-f46c-4ed9-8d54-0a60521122cc');\n",
       "var x = new MutationObserver(function (mutations, observer) {{\n",
       "        var display = window.getComputedStyle(gd).display;\n",
       "        if (!display || display === 'none') {{\n",
       "            console.log([gd, 'removed!']);\n",
       "            Plotly.purge(gd);\n",
       "            observer.disconnect();\n",
       "        }}\n",
       "}});\n",
       "\n",
       "// Listen for the removal of the full notebook cells\n",
       "var notebookContainer = gd.closest('#notebook-container');\n",
       "if (notebookContainer) {{\n",
       "    x.observe(notebookContainer, {childList: true});\n",
       "}}\n",
       "\n",
       "// Listen for the clearing of the current output cell\n",
       "var outputEl = gd.closest('.output');\n",
       "if (outputEl) {{\n",
       "    x.observe(outputEl, {childList: true});\n",
       "}}\n",
       "\n",
       "                        })                };                });            </script>        </div>"
      ]
     },
     "metadata": {},
     "output_type": "display_data"
    }
   ],
   "source": [
    "config = {\n",
    "    'labels': {'departamento': '',\n",
    "               'sub_ocde': 'Subáreas',\n",
    "               'count': ''\n",
    "              },\n",
    "     'height': 500,\n",
    "     'title':'Departamentos',\n",
    "     'template': 'plotly_white',\n",
    "}\n",
    "\n",
    "if faculty != 'All':\n",
    "    g = groups.loc[groups['facultad'] == faculty]\n",
    "else:\n",
    "    g = groups\n",
    "\n",
    "fig = px.histogram(g, y='departamento', orientation='h', barmode='group', **config)\n",
    "fig.update_layout(xaxis_title='')\n",
    "fig.update_traces(hoverinfo='none', hovertemplate = '')\n",
    "fig.show()"
   ]
  },
  {
   "cell_type": "code",
   "execution_count": 392,
   "id": "1a09737b-e992-45db-88e5-2e4467c63159",
   "metadata": {},
   "outputs": [
    {
     "data": {
      "application/vnd.plotly.v1+json": {
       "config": {
        "plotlyServerURL": "https://plot.ly"
       },
       "data": [
        {
         "alignmentgroup": "True",
         "bingroup": "y",
         "hoverinfo": "none",
         "hovertemplate": "",
         "legendgroup": "",
         "marker": {
          "color": "#636efa",
          "pattern": {
           "shape": ""
          }
         },
         "name": "",
         "offsetgroup": "",
         "orientation": "h",
         "showlegend": false,
         "type": "histogram",
         "xaxis": "x",
         "y": [
          "Facultad de ciencias exactas y naturales",
          "Facultad de ciencias exactas y naturales",
          "Facultad de ingeniería y arquitectura",
          "Facultad de ingeniería y arquitectura",
          "Facultad de ingeniería y arquitectura",
          "Facultad de ingeniería y arquitectura",
          "Facultad de ciencias exactas y naturales",
          "Facultad de ciencias exactas y naturales",
          "Facultad de ciencias exactas y naturales",
          "Facultad de administración",
          "Facultad de administración",
          "Facultad de ingeniería y arquitectura",
          "Facultad de ingeniería y arquitectura",
          "Facultad de administración",
          "Facultad de administración",
          "Facultad de ingeniería y arquitectura",
          "Facultad de ciencias exactas y naturales",
          "Facultad de administración",
          "Facultad de ingeniería y arquitectura",
          "Facultad de administración",
          "Facultad de administración",
          "Facultad de ingeniería y arquitectura",
          "Facultad de administración",
          "Facultad de administración",
          "Facultad de administración",
          "Facultad de administración",
          "Facultad de administración",
          "Facultad de ingeniería y arquitectura",
          "Facultad de administración",
          "Facultad de ingeniería y arquitectura",
          "Facultad de ingeniería y arquitectura",
          "Facultad de ciencias exactas y naturales",
          "Facultad de ingeniería y arquitectura",
          "Facultad de ingeniería y arquitectura",
          "Facultad de ingeniería y arquitectura",
          "Facultad de ingeniería y arquitectura",
          "Facultad de ciencias exactas y naturales",
          "Facultad de ingeniería y arquitectura",
          "Facultad de ingeniería y arquitectura",
          "Facultad de ciencias exactas y naturales",
          "Facultad de administración",
          "Facultad de ingeniería y arquitectura",
          "Facultad de ingeniería y arquitectura",
          "Facultad de administración",
          "Facultad de ingeniería y arquitectura",
          "Facultad de ingeniería y arquitectura",
          "Facultad de ingeniería y arquitectura",
          "Facultad de administración",
          "Facultad de ingeniería y arquitectura",
          "Facultad de ingeniería y arquitectura",
          "Facultad de ciencias exactas y naturales",
          "Facultad de ciencias exactas y naturales",
          "Facultad de ciencias exactas y naturales",
          "Facultad de ingeniería y arquitectura",
          "Facultad de ingeniería y arquitectura",
          "Facultad de ingeniería y arquitectura",
          "Facultad de ciencias exactas y naturales",
          "Facultad de administración",
          "Facultad de ingeniería y arquitectura",
          "Facultad de ingeniería y arquitectura",
          "Facultad de ingeniería y arquitectura",
          "Facultad de ingeniería y arquitectura",
          "Facultad de ciencias exactas y naturales",
          "Facultad de ingeniería y arquitectura",
          "Facultad de administración",
          "Facultad de administración"
         ],
         "yaxis": "y"
        }
       ],
       "layout": {
        "autosize": true,
        "barmode": "group",
        "legend": {
         "tracegroupgap": 0
        },
        "template": {
         "data": {
          "bar": [
           {
            "error_x": {
             "color": "#2a3f5f"
            },
            "error_y": {
             "color": "#2a3f5f"
            },
            "marker": {
             "line": {
              "color": "white",
              "width": 0.5
             },
             "pattern": {
              "fillmode": "overlay",
              "size": 10,
              "solidity": 0.2
             }
            },
            "type": "bar"
           }
          ],
          "barpolar": [
           {
            "marker": {
             "line": {
              "color": "white",
              "width": 0.5
             },
             "pattern": {
              "fillmode": "overlay",
              "size": 10,
              "solidity": 0.2
             }
            },
            "type": "barpolar"
           }
          ],
          "carpet": [
           {
            "aaxis": {
             "endlinecolor": "#2a3f5f",
             "gridcolor": "#C8D4E3",
             "linecolor": "#C8D4E3",
             "minorgridcolor": "#C8D4E3",
             "startlinecolor": "#2a3f5f"
            },
            "baxis": {
             "endlinecolor": "#2a3f5f",
             "gridcolor": "#C8D4E3",
             "linecolor": "#C8D4E3",
             "minorgridcolor": "#C8D4E3",
             "startlinecolor": "#2a3f5f"
            },
            "type": "carpet"
           }
          ],
          "choropleth": [
           {
            "colorbar": {
             "outlinewidth": 0,
             "ticks": ""
            },
            "type": "choropleth"
           }
          ],
          "contour": [
           {
            "colorbar": {
             "outlinewidth": 0,
             "ticks": ""
            },
            "colorscale": [
             [
              0,
              "#0d0887"
             ],
             [
              0.1111111111111111,
              "#46039f"
             ],
             [
              0.2222222222222222,
              "#7201a8"
             ],
             [
              0.3333333333333333,
              "#9c179e"
             ],
             [
              0.4444444444444444,
              "#bd3786"
             ],
             [
              0.5555555555555556,
              "#d8576b"
             ],
             [
              0.6666666666666666,
              "#ed7953"
             ],
             [
              0.7777777777777778,
              "#fb9f3a"
             ],
             [
              0.8888888888888888,
              "#fdca26"
             ],
             [
              1,
              "#f0f921"
             ]
            ],
            "type": "contour"
           }
          ],
          "contourcarpet": [
           {
            "colorbar": {
             "outlinewidth": 0,
             "ticks": ""
            },
            "type": "contourcarpet"
           }
          ],
          "heatmap": [
           {
            "colorbar": {
             "outlinewidth": 0,
             "ticks": ""
            },
            "colorscale": [
             [
              0,
              "#0d0887"
             ],
             [
              0.1111111111111111,
              "#46039f"
             ],
             [
              0.2222222222222222,
              "#7201a8"
             ],
             [
              0.3333333333333333,
              "#9c179e"
             ],
             [
              0.4444444444444444,
              "#bd3786"
             ],
             [
              0.5555555555555556,
              "#d8576b"
             ],
             [
              0.6666666666666666,
              "#ed7953"
             ],
             [
              0.7777777777777778,
              "#fb9f3a"
             ],
             [
              0.8888888888888888,
              "#fdca26"
             ],
             [
              1,
              "#f0f921"
             ]
            ],
            "type": "heatmap"
           }
          ],
          "heatmapgl": [
           {
            "colorbar": {
             "outlinewidth": 0,
             "ticks": ""
            },
            "colorscale": [
             [
              0,
              "#0d0887"
             ],
             [
              0.1111111111111111,
              "#46039f"
             ],
             [
              0.2222222222222222,
              "#7201a8"
             ],
             [
              0.3333333333333333,
              "#9c179e"
             ],
             [
              0.4444444444444444,
              "#bd3786"
             ],
             [
              0.5555555555555556,
              "#d8576b"
             ],
             [
              0.6666666666666666,
              "#ed7953"
             ],
             [
              0.7777777777777778,
              "#fb9f3a"
             ],
             [
              0.8888888888888888,
              "#fdca26"
             ],
             [
              1,
              "#f0f921"
             ]
            ],
            "type": "heatmapgl"
           }
          ],
          "histogram": [
           {
            "marker": {
             "pattern": {
              "fillmode": "overlay",
              "size": 10,
              "solidity": 0.2
             }
            },
            "type": "histogram"
           }
          ],
          "histogram2d": [
           {
            "colorbar": {
             "outlinewidth": 0,
             "ticks": ""
            },
            "colorscale": [
             [
              0,
              "#0d0887"
             ],
             [
              0.1111111111111111,
              "#46039f"
             ],
             [
              0.2222222222222222,
              "#7201a8"
             ],
             [
              0.3333333333333333,
              "#9c179e"
             ],
             [
              0.4444444444444444,
              "#bd3786"
             ],
             [
              0.5555555555555556,
              "#d8576b"
             ],
             [
              0.6666666666666666,
              "#ed7953"
             ],
             [
              0.7777777777777778,
              "#fb9f3a"
             ],
             [
              0.8888888888888888,
              "#fdca26"
             ],
             [
              1,
              "#f0f921"
             ]
            ],
            "type": "histogram2d"
           }
          ],
          "histogram2dcontour": [
           {
            "colorbar": {
             "outlinewidth": 0,
             "ticks": ""
            },
            "colorscale": [
             [
              0,
              "#0d0887"
             ],
             [
              0.1111111111111111,
              "#46039f"
             ],
             [
              0.2222222222222222,
              "#7201a8"
             ],
             [
              0.3333333333333333,
              "#9c179e"
             ],
             [
              0.4444444444444444,
              "#bd3786"
             ],
             [
              0.5555555555555556,
              "#d8576b"
             ],
             [
              0.6666666666666666,
              "#ed7953"
             ],
             [
              0.7777777777777778,
              "#fb9f3a"
             ],
             [
              0.8888888888888888,
              "#fdca26"
             ],
             [
              1,
              "#f0f921"
             ]
            ],
            "type": "histogram2dcontour"
           }
          ],
          "mesh3d": [
           {
            "colorbar": {
             "outlinewidth": 0,
             "ticks": ""
            },
            "type": "mesh3d"
           }
          ],
          "parcoords": [
           {
            "line": {
             "colorbar": {
              "outlinewidth": 0,
              "ticks": ""
             }
            },
            "type": "parcoords"
           }
          ],
          "pie": [
           {
            "automargin": true,
            "type": "pie"
           }
          ],
          "scatter": [
           {
            "fillpattern": {
             "fillmode": "overlay",
             "size": 10,
             "solidity": 0.2
            },
            "type": "scatter"
           }
          ],
          "scatter3d": [
           {
            "line": {
             "colorbar": {
              "outlinewidth": 0,
              "ticks": ""
             }
            },
            "marker": {
             "colorbar": {
              "outlinewidth": 0,
              "ticks": ""
             }
            },
            "type": "scatter3d"
           }
          ],
          "scattercarpet": [
           {
            "marker": {
             "colorbar": {
              "outlinewidth": 0,
              "ticks": ""
             }
            },
            "type": "scattercarpet"
           }
          ],
          "scattergeo": [
           {
            "marker": {
             "colorbar": {
              "outlinewidth": 0,
              "ticks": ""
             }
            },
            "type": "scattergeo"
           }
          ],
          "scattergl": [
           {
            "marker": {
             "colorbar": {
              "outlinewidth": 0,
              "ticks": ""
             }
            },
            "type": "scattergl"
           }
          ],
          "scattermapbox": [
           {
            "marker": {
             "colorbar": {
              "outlinewidth": 0,
              "ticks": ""
             }
            },
            "type": "scattermapbox"
           }
          ],
          "scatterpolar": [
           {
            "marker": {
             "colorbar": {
              "outlinewidth": 0,
              "ticks": ""
             }
            },
            "type": "scatterpolar"
           }
          ],
          "scatterpolargl": [
           {
            "marker": {
             "colorbar": {
              "outlinewidth": 0,
              "ticks": ""
             }
            },
            "type": "scatterpolargl"
           }
          ],
          "scatterternary": [
           {
            "marker": {
             "colorbar": {
              "outlinewidth": 0,
              "ticks": ""
             }
            },
            "type": "scatterternary"
           }
          ],
          "surface": [
           {
            "colorbar": {
             "outlinewidth": 0,
             "ticks": ""
            },
            "colorscale": [
             [
              0,
              "#0d0887"
             ],
             [
              0.1111111111111111,
              "#46039f"
             ],
             [
              0.2222222222222222,
              "#7201a8"
             ],
             [
              0.3333333333333333,
              "#9c179e"
             ],
             [
              0.4444444444444444,
              "#bd3786"
             ],
             [
              0.5555555555555556,
              "#d8576b"
             ],
             [
              0.6666666666666666,
              "#ed7953"
             ],
             [
              0.7777777777777778,
              "#fb9f3a"
             ],
             [
              0.8888888888888888,
              "#fdca26"
             ],
             [
              1,
              "#f0f921"
             ]
            ],
            "type": "surface"
           }
          ],
          "table": [
           {
            "cells": {
             "fill": {
              "color": "#EBF0F8"
             },
             "line": {
              "color": "white"
             }
            },
            "header": {
             "fill": {
              "color": "#C8D4E3"
             },
             "line": {
              "color": "white"
             }
            },
            "type": "table"
           }
          ]
         },
         "layout": {
          "annotationdefaults": {
           "arrowcolor": "#2a3f5f",
           "arrowhead": 0,
           "arrowwidth": 1
          },
          "autotypenumbers": "strict",
          "coloraxis": {
           "colorbar": {
            "outlinewidth": 0,
            "ticks": ""
           }
          },
          "colorscale": {
           "diverging": [
            [
             0,
             "#8e0152"
            ],
            [
             0.1,
             "#c51b7d"
            ],
            [
             0.2,
             "#de77ae"
            ],
            [
             0.3,
             "#f1b6da"
            ],
            [
             0.4,
             "#fde0ef"
            ],
            [
             0.5,
             "#f7f7f7"
            ],
            [
             0.6,
             "#e6f5d0"
            ],
            [
             0.7,
             "#b8e186"
            ],
            [
             0.8,
             "#7fbc41"
            ],
            [
             0.9,
             "#4d9221"
            ],
            [
             1,
             "#276419"
            ]
           ],
           "sequential": [
            [
             0,
             "#0d0887"
            ],
            [
             0.1111111111111111,
             "#46039f"
            ],
            [
             0.2222222222222222,
             "#7201a8"
            ],
            [
             0.3333333333333333,
             "#9c179e"
            ],
            [
             0.4444444444444444,
             "#bd3786"
            ],
            [
             0.5555555555555556,
             "#d8576b"
            ],
            [
             0.6666666666666666,
             "#ed7953"
            ],
            [
             0.7777777777777778,
             "#fb9f3a"
            ],
            [
             0.8888888888888888,
             "#fdca26"
            ],
            [
             1,
             "#f0f921"
            ]
           ],
           "sequentialminus": [
            [
             0,
             "#0d0887"
            ],
            [
             0.1111111111111111,
             "#46039f"
            ],
            [
             0.2222222222222222,
             "#7201a8"
            ],
            [
             0.3333333333333333,
             "#9c179e"
            ],
            [
             0.4444444444444444,
             "#bd3786"
            ],
            [
             0.5555555555555556,
             "#d8576b"
            ],
            [
             0.6666666666666666,
             "#ed7953"
            ],
            [
             0.7777777777777778,
             "#fb9f3a"
            ],
            [
             0.8888888888888888,
             "#fdca26"
            ],
            [
             1,
             "#f0f921"
            ]
           ]
          },
          "colorway": [
           "#636efa",
           "#EF553B",
           "#00cc96",
           "#ab63fa",
           "#FFA15A",
           "#19d3f3",
           "#FF6692",
           "#B6E880",
           "#FF97FF",
           "#FECB52"
          ],
          "font": {
           "color": "#2a3f5f"
          },
          "geo": {
           "bgcolor": "white",
           "lakecolor": "white",
           "landcolor": "white",
           "showlakes": true,
           "showland": true,
           "subunitcolor": "#C8D4E3"
          },
          "hoverlabel": {
           "align": "left"
          },
          "hovermode": "closest",
          "mapbox": {
           "style": "light"
          },
          "paper_bgcolor": "white",
          "plot_bgcolor": "white",
          "polar": {
           "angularaxis": {
            "gridcolor": "#EBF0F8",
            "linecolor": "#EBF0F8",
            "ticks": ""
           },
           "bgcolor": "white",
           "radialaxis": {
            "gridcolor": "#EBF0F8",
            "linecolor": "#EBF0F8",
            "ticks": ""
           }
          },
          "scene": {
           "xaxis": {
            "backgroundcolor": "white",
            "gridcolor": "#DFE8F3",
            "gridwidth": 2,
            "linecolor": "#EBF0F8",
            "showbackground": true,
            "ticks": "",
            "zerolinecolor": "#EBF0F8"
           },
           "yaxis": {
            "backgroundcolor": "white",
            "gridcolor": "#DFE8F3",
            "gridwidth": 2,
            "linecolor": "#EBF0F8",
            "showbackground": true,
            "ticks": "",
            "zerolinecolor": "#EBF0F8"
           },
           "zaxis": {
            "backgroundcolor": "white",
            "gridcolor": "#DFE8F3",
            "gridwidth": 2,
            "linecolor": "#EBF0F8",
            "showbackground": true,
            "ticks": "",
            "zerolinecolor": "#EBF0F8"
           }
          },
          "shapedefaults": {
           "line": {
            "color": "#2a3f5f"
           }
          },
          "ternary": {
           "aaxis": {
            "gridcolor": "#DFE8F3",
            "linecolor": "#A2B1C6",
            "ticks": ""
           },
           "baxis": {
            "gridcolor": "#DFE8F3",
            "linecolor": "#A2B1C6",
            "ticks": ""
           },
           "bgcolor": "white",
           "caxis": {
            "gridcolor": "#DFE8F3",
            "linecolor": "#A2B1C6",
            "ticks": ""
           }
          },
          "title": {
           "x": 0.05
          },
          "xaxis": {
           "automargin": true,
           "gridcolor": "#EBF0F8",
           "linecolor": "#EBF0F8",
           "ticks": "",
           "title": {
            "standoff": 15
           },
           "zerolinecolor": "#EBF0F8",
           "zerolinewidth": 2
          },
          "yaxis": {
           "automargin": true,
           "gridcolor": "#EBF0F8",
           "linecolor": "#EBF0F8",
           "ticks": "",
           "title": {
            "standoff": 15
           },
           "zerolinecolor": "#EBF0F8",
           "zerolinewidth": 2
          }
         }
        },
        "title": {
         "text": "Facultad"
        },
        "xaxis": {
         "anchor": "y",
         "autorange": true,
         "domain": [
          0,
          1
         ],
         "range": [
          0,
          34.73684210526316
         ],
         "title": {
          "text": ""
         }
        },
        "yaxis": {
         "anchor": "x",
         "autorange": true,
         "domain": [
          0,
          1
         ],
         "range": [
          -0.5,
          2.5
         ],
         "title": {
          "text": ""
         },
         "type": "category"
        }
       }
      },
      "image/png": "[encoded data removed]",
      "text/html": [
       "<div>                            <div id=\"56b9ac5f-794b-4bad-9490-f722b4b5c18f\" class=\"plotly-graph-div\" style=\"height:200px; width:100%;\"></div>            <script type=\"text/javascript\">                require([\"plotly\"], function(Plotly) {                    window.PLOTLYENV=window.PLOTLYENV || {};                                    if (document.getElementById(\"56b9ac5f-794b-4bad-9490-f722b4b5c18f\")) {                    Plotly.newPlot(                        \"56b9ac5f-794b-4bad-9490-f722b4b5c18f\",                        [{\"alignmentgroup\":\"True\",\"bingroup\":\"y\",\"hovertemplate\":\"\",\"legendgroup\":\"\",\"marker\":{\"color\":\"#636efa\",\"pattern\":{\"shape\":\"\"}},\"name\":\"\",\"offsetgroup\":\"\",\"orientation\":\"h\",\"showlegend\":false,\"xaxis\":\"x\",\"y\":[\"Facultad de ciencias exactas y naturales\",\"Facultad de ciencias exactas y naturales\",\"Facultad de ingenier\\u00eda y arquitectura\",\"Facultad de ingenier\\u00eda y arquitectura\",\"Facultad de ingenier\\u00eda y arquitectura\",\"Facultad de ingenier\\u00eda y arquitectura\",\"Facultad de ciencias exactas y naturales\",\"Facultad de ciencias exactas y naturales\",\"Facultad de ciencias exactas y naturales\",\"Facultad de administraci\\u00f3n\",\"Facultad de administraci\\u00f3n\",\"Facultad de ingenier\\u00eda y arquitectura\",\"Facultad de ingenier\\u00eda y arquitectura\",\"Facultad de administraci\\u00f3n\",\"Facultad de administraci\\u00f3n\",\"Facultad de ingenier\\u00eda y arquitectura\",\"Facultad de ciencias exactas y naturales\",\"Facultad de administraci\\u00f3n\",\"Facultad de ingenier\\u00eda y arquitectura\",\"Facultad de administraci\\u00f3n\",\"Facultad de administraci\\u00f3n\",\"Facultad de ingenier\\u00eda y arquitectura\",\"Facultad de administraci\\u00f3n\",\"Facultad de administraci\\u00f3n\",\"Facultad de administraci\\u00f3n\",\"Facultad de administraci\\u00f3n\",\"Facultad de administraci\\u00f3n\",\"Facultad de ingenier\\u00eda y arquitectura\",\"Facultad de administraci\\u00f3n\",\"Facultad de ingenier\\u00eda y arquitectura\",\"Facultad de ingenier\\u00eda y arquitectura\",\"Facultad de ciencias exactas y naturales\",\"Facultad de ingenier\\u00eda y arquitectura\",\"Facultad de ingenier\\u00eda y arquitectura\",\"Facultad de ingenier\\u00eda y arquitectura\",\"Facultad de ingenier\\u00eda y arquitectura\",\"Facultad de ciencias exactas y naturales\",\"Facultad de ingenier\\u00eda y arquitectura\",\"Facultad de ingenier\\u00eda y arquitectura\",\"Facultad de ciencias exactas y naturales\",\"Facultad de administraci\\u00f3n\",\"Facultad de ingenier\\u00eda y arquitectura\",\"Facultad de ingenier\\u00eda y arquitectura\",\"Facultad de administraci\\u00f3n\",\"Facultad de ingenier\\u00eda y arquitectura\",\"Facultad de ingenier\\u00eda y arquitectura\",\"Facultad de ingenier\\u00eda y arquitectura\",\"Facultad de administraci\\u00f3n\",\"Facultad de ingenier\\u00eda y arquitectura\",\"Facultad de ingenier\\u00eda y arquitectura\",\"Facultad de ciencias exactas y naturales\",\"Facultad de ciencias exactas y naturales\",\"Facultad de ciencias exactas y naturales\",\"Facultad de ingenier\\u00eda y arquitectura\",\"Facultad de ingenier\\u00eda y arquitectura\",\"Facultad de ingenier\\u00eda y arquitectura\",\"Facultad de ciencias exactas y naturales\",\"Facultad de administraci\\u00f3n\",\"Facultad de ingenier\\u00eda y arquitectura\",\"Facultad de ingenier\\u00eda y arquitectura\",\"Facultad de ingenier\\u00eda y arquitectura\",\"Facultad de ingenier\\u00eda y arquitectura\",\"Facultad de ciencias exactas y naturales\",\"Facultad de ingenier\\u00eda y arquitectura\",\"Facultad de administraci\\u00f3n\",\"Facultad de administraci\\u00f3n\"],\"yaxis\":\"y\",\"type\":\"histogram\",\"hoverinfo\":\"none\"}],                        {\"template\":{\"data\":{\"barpolar\":[{\"marker\":{\"line\":{\"color\":\"white\",\"width\":0.5},\"pattern\":{\"fillmode\":\"overlay\",\"size\":10,\"solidity\":0.2}},\"type\":\"barpolar\"}],\"bar\":[{\"error_x\":{\"color\":\"#2a3f5f\"},\"error_y\":{\"color\":\"#2a3f5f\"},\"marker\":{\"line\":{\"color\":\"white\",\"width\":0.5},\"pattern\":{\"fillmode\":\"overlay\",\"size\":10,\"solidity\":0.2}},\"type\":\"bar\"}],\"carpet\":[{\"aaxis\":{\"endlinecolor\":\"#2a3f5f\",\"gridcolor\":\"#C8D4E3\",\"linecolor\":\"#C8D4E3\",\"minorgridcolor\":\"#C8D4E3\",\"startlinecolor\":\"#2a3f5f\"},\"baxis\":{\"endlinecolor\":\"#2a3f5f\",\"gridcolor\":\"#C8D4E3\",\"linecolor\":\"#C8D4E3\",\"minorgridcolor\":\"#C8D4E3\",\"startlinecolor\":\"#2a3f5f\"},\"type\":\"carpet\"}],\"choropleth\":[{\"colorbar\":{\"outlinewidth\":0,\"ticks\":\"\"},\"type\":\"choropleth\"}],\"contourcarpet\":[{\"colorbar\":{\"outlinewidth\":0,\"ticks\":\"\"},\"type\":\"contourcarpet\"}],\"contour\":[{\"colorbar\":{\"outlinewidth\":0,\"ticks\":\"\"},\"colorscale\":[[0.0,\"#0d0887\"],[0.1111111111111111,\"#46039f\"],[0.2222222222222222,\"#7201a8\"],[0.3333333333333333,\"#9c179e\"],[0.4444444444444444,\"#bd3786\"],[0.5555555555555556,\"#d8576b\"],[0.6666666666666666,\"#ed7953\"],[0.7777777777777778,\"#fb9f3a\"],[0.8888888888888888,\"#fdca26\"],[1.0,\"#f0f921\"]],\"type\":\"contour\"}],\"heatmapgl\":[{\"colorbar\":{\"outlinewidth\":0,\"ticks\":\"\"},\"colorscale\":[[0.0,\"#0d0887\"],[0.1111111111111111,\"#46039f\"],[0.2222222222222222,\"#7201a8\"],[0.3333333333333333,\"#9c179e\"],[0.4444444444444444,\"#bd3786\"],[0.5555555555555556,\"#d8576b\"],[0.6666666666666666,\"#ed7953\"],[0.7777777777777778,\"#fb9f3a\"],[0.8888888888888888,\"#fdca26\"],[1.0,\"#f0f921\"]],\"type\":\"heatmapgl\"}],\"heatmap\":[{\"colorbar\":{\"outlinewidth\":0,\"ticks\":\"\"},\"colorscale\":[[0.0,\"#0d0887\"],[0.1111111111111111,\"#46039f\"],[0.2222222222222222,\"#7201a8\"],[0.3333333333333333,\"#9c179e\"],[0.4444444444444444,\"#bd3786\"],[0.5555555555555556,\"#d8576b\"],[0.6666666666666666,\"#ed7953\"],[0.7777777777777778,\"#fb9f3a\"],[0.8888888888888888,\"#fdca26\"],[1.0,\"#f0f921\"]],\"type\":\"heatmap\"}],\"histogram2dcontour\":[{\"colorbar\":{\"outlinewidth\":0,\"ticks\":\"\"},\"colorscale\":[[0.0,\"#0d0887\"],[0.1111111111111111,\"#46039f\"],[0.2222222222222222,\"#7201a8\"],[0.3333333333333333,\"#9c179e\"],[0.4444444444444444,\"#bd3786\"],[0.5555555555555556,\"#d8576b\"],[0.6666666666666666,\"#ed7953\"],[0.7777777777777778,\"#fb9f3a\"],[0.8888888888888888,\"#fdca26\"],[1.0,\"#f0f921\"]],\"type\":\"histogram2dcontour\"}],\"histogram2d\":[{\"colorbar\":{\"outlinewidth\":0,\"ticks\":\"\"},\"colorscale\":[[0.0,\"#0d0887\"],[0.1111111111111111,\"#46039f\"],[0.2222222222222222,\"#7201a8\"],[0.3333333333333333,\"#9c179e\"],[0.4444444444444444,\"#bd3786\"],[0.5555555555555556,\"#d8576b\"],[0.6666666666666666,\"#ed7953\"],[0.7777777777777778,\"#fb9f3a\"],[0.8888888888888888,\"#fdca26\"],[1.0,\"#f0f921\"]],\"type\":\"histogram2d\"}],\"histogram\":[{\"marker\":{\"pattern\":{\"fillmode\":\"overlay\",\"size\":10,\"solidity\":0.2}},\"type\":\"histogram\"}],\"mesh3d\":[{\"colorbar\":{\"outlinewidth\":0,\"ticks\":\"\"},\"type\":\"mesh3d\"}],\"parcoords\":[{\"line\":{\"colorbar\":{\"outlinewidth\":0,\"ticks\":\"\"}},\"type\":\"parcoords\"}],\"pie\":[{\"automargin\":true,\"type\":\"pie\"}],\"scatter3d\":[{\"line\":{\"colorbar\":{\"outlinewidth\":0,\"ticks\":\"\"}},\"marker\":{\"colorbar\":{\"outlinewidth\":0,\"ticks\":\"\"}},\"type\":\"scatter3d\"}],\"scattercarpet\":[{\"marker\":{\"colorbar\":{\"outlinewidth\":0,\"ticks\":\"\"}},\"type\":\"scattercarpet\"}],\"scattergeo\":[{\"marker\":{\"colorbar\":{\"outlinewidth\":0,\"ticks\":\"\"}},\"type\":\"scattergeo\"}],\"scattergl\":[{\"marker\":{\"colorbar\":{\"outlinewidth\":0,\"ticks\":\"\"}},\"type\":\"scattergl\"}],\"scattermapbox\":[{\"marker\":{\"colorbar\":{\"outlinewidth\":0,\"ticks\":\"\"}},\"type\":\"scattermapbox\"}],\"scatterpolargl\":[{\"marker\":{\"colorbar\":{\"outlinewidth\":0,\"ticks\":\"\"}},\"type\":\"scatterpolargl\"}],\"scatterpolar\":[{\"marker\":{\"colorbar\":{\"outlinewidth\":0,\"ticks\":\"\"}},\"type\":\"scatterpolar\"}],\"scatter\":[{\"fillpattern\":{\"fillmode\":\"overlay\",\"size\":10,\"solidity\":0.2},\"type\":\"scatter\"}],\"scatterternary\":[{\"marker\":{\"colorbar\":{\"outlinewidth\":0,\"ticks\":\"\"}},\"type\":\"scatterternary\"}],\"surface\":[{\"colorbar\":{\"outlinewidth\":0,\"ticks\":\"\"},\"colorscale\":[[0.0,\"#0d0887\"],[0.1111111111111111,\"#46039f\"],[0.2222222222222222,\"#7201a8\"],[0.3333333333333333,\"#9c179e\"],[0.4444444444444444,\"#bd3786\"],[0.5555555555555556,\"#d8576b\"],[0.6666666666666666,\"#ed7953\"],[0.7777777777777778,\"#fb9f3a\"],[0.8888888888888888,\"#fdca26\"],[1.0,\"#f0f921\"]],\"type\":\"surface\"}],\"table\":[{\"cells\":{\"fill\":{\"color\":\"#EBF0F8\"},\"line\":{\"color\":\"white\"}},\"header\":{\"fill\":{\"color\":\"#C8D4E3\"},\"line\":{\"color\":\"white\"}},\"type\":\"table\"}]},\"layout\":{\"annotationdefaults\":{\"arrowcolor\":\"#2a3f5f\",\"arrowhead\":0,\"arrowwidth\":1},\"autotypenumbers\":\"strict\",\"coloraxis\":{\"colorbar\":{\"outlinewidth\":0,\"ticks\":\"\"}},\"colorscale\":{\"diverging\":[[0,\"#8e0152\"],[0.1,\"#c51b7d\"],[0.2,\"#de77ae\"],[0.3,\"#f1b6da\"],[0.4,\"#fde0ef\"],[0.5,\"#f7f7f7\"],[0.6,\"#e6f5d0\"],[0.7,\"#b8e186\"],[0.8,\"#7fbc41\"],[0.9,\"#4d9221\"],[1,\"#276419\"]],\"sequential\":[[0.0,\"#0d0887\"],[0.1111111111111111,\"#46039f\"],[0.2222222222222222,\"#7201a8\"],[0.3333333333333333,\"#9c179e\"],[0.4444444444444444,\"#bd3786\"],[0.5555555555555556,\"#d8576b\"],[0.6666666666666666,\"#ed7953\"],[0.7777777777777778,\"#fb9f3a\"],[0.8888888888888888,\"#fdca26\"],[1.0,\"#f0f921\"]],\"sequentialminus\":[[0.0,\"#0d0887\"],[0.1111111111111111,\"#46039f\"],[0.2222222222222222,\"#7201a8\"],[0.3333333333333333,\"#9c179e\"],[0.4444444444444444,\"#bd3786\"],[0.5555555555555556,\"#d8576b\"],[0.6666666666666666,\"#ed7953\"],[0.7777777777777778,\"#fb9f3a\"],[0.8888888888888888,\"#fdca26\"],[1.0,\"#f0f921\"]]},\"colorway\":[\"#636efa\",\"#EF553B\",\"#00cc96\",\"#ab63fa\",\"#FFA15A\",\"#19d3f3\",\"#FF6692\",\"#B6E880\",\"#FF97FF\",\"#FECB52\"],\"font\":{\"color\":\"#2a3f5f\"},\"geo\":{\"bgcolor\":\"white\",\"lakecolor\":\"white\",\"landcolor\":\"white\",\"showlakes\":true,\"showland\":true,\"subunitcolor\":\"#C8D4E3\"},\"hoverlabel\":{\"align\":\"left\"},\"hovermode\":\"closest\",\"mapbox\":{\"style\":\"light\"},\"paper_bgcolor\":\"white\",\"plot_bgcolor\":\"white\",\"polar\":{\"angularaxis\":{\"gridcolor\":\"#EBF0F8\",\"linecolor\":\"#EBF0F8\",\"ticks\":\"\"},\"bgcolor\":\"white\",\"radialaxis\":{\"gridcolor\":\"#EBF0F8\",\"linecolor\":\"#EBF0F8\",\"ticks\":\"\"}},\"scene\":{\"xaxis\":{\"backgroundcolor\":\"white\",\"gridcolor\":\"#DFE8F3\",\"gridwidth\":2,\"linecolor\":\"#EBF0F8\",\"showbackground\":true,\"ticks\":\"\",\"zerolinecolor\":\"#EBF0F8\"},\"yaxis\":{\"backgroundcolor\":\"white\",\"gridcolor\":\"#DFE8F3\",\"gridwidth\":2,\"linecolor\":\"#EBF0F8\",\"showbackground\":true,\"ticks\":\"\",\"zerolinecolor\":\"#EBF0F8\"},\"zaxis\":{\"backgroundcolor\":\"white\",\"gridcolor\":\"#DFE8F3\",\"gridwidth\":2,\"linecolor\":\"#EBF0F8\",\"showbackground\":true,\"ticks\":\"\",\"zerolinecolor\":\"#EBF0F8\"}},\"shapedefaults\":{\"line\":{\"color\":\"#2a3f5f\"}},\"ternary\":{\"aaxis\":{\"gridcolor\":\"#DFE8F3\",\"linecolor\":\"#A2B1C6\",\"ticks\":\"\"},\"baxis\":{\"gridcolor\":\"#DFE8F3\",\"linecolor\":\"#A2B1C6\",\"ticks\":\"\"},\"bgcolor\":\"white\",\"caxis\":{\"gridcolor\":\"#DFE8F3\",\"linecolor\":\"#A2B1C6\",\"ticks\":\"\"}},\"title\":{\"x\":0.05},\"xaxis\":{\"automargin\":true,\"gridcolor\":\"#EBF0F8\",\"linecolor\":\"#EBF0F8\",\"ticks\":\"\",\"title\":{\"standoff\":15},\"zerolinecolor\":\"#EBF0F8\",\"zerolinewidth\":2},\"yaxis\":{\"automargin\":true,\"gridcolor\":\"#EBF0F8\",\"linecolor\":\"#EBF0F8\",\"ticks\":\"\",\"title\":{\"standoff\":15},\"zerolinecolor\":\"#EBF0F8\",\"zerolinewidth\":2}}},\"xaxis\":{\"anchor\":\"y\",\"domain\":[0.0,1.0],\"title\":{\"text\":\"\"}},\"yaxis\":{\"anchor\":\"x\",\"domain\":[0.0,1.0],\"title\":{\"text\":\"\"}},\"legend\":{\"tracegroupgap\":0},\"title\":{\"text\":\"Facultad\"},\"barmode\":\"group\",\"height\":200},                        {\"responsive\": true}                    ).then(function(){\n",
       "                            \n",
       "var gd = document.getElementById('56b9ac5f-794b-4bad-9490-f722b4b5c18f');\n",
       "var x = new MutationObserver(function (mutations, observer) {{\n",
       "        var display = window.getComputedStyle(gd).display;\n",
       "        if (!display || display === 'none') {{\n",
       "            console.log([gd, 'removed!']);\n",
       "            Plotly.purge(gd);\n",
       "            observer.disconnect();\n",
       "        }}\n",
       "}});\n",
       "\n",
       "// Listen for the removal of the full notebook cells\n",
       "var notebookContainer = gd.closest('#notebook-container');\n",
       "if (notebookContainer) {{\n",
       "    x.observe(notebookContainer, {childList: true});\n",
       "}}\n",
       "\n",
       "// Listen for the clearing of the current output cell\n",
       "var outputEl = gd.closest('.output');\n",
       "if (outputEl) {{\n",
       "    x.observe(outputEl, {childList: true});\n",
       "}}\n",
       "\n",
       "                        })                };                });            </script>        </div>"
      ]
     },
     "metadata": {},
     "output_type": "display_data"
    }
   ],
   "source": [
    "config = {\n",
    "    'labels': {'facultad': '',\n",
    "               'sub_ocde': 'Subáreas',\n",
    "               'count': ''\n",
    "              },\n",
    "     'height': 200,\n",
    "     'title':'Facultad',\n",
    "     'template': 'plotly_white',\n",
    "}\n",
    "\n",
    "if faculty != 'All':\n",
    "    g = groups.loc[groups['facultad'] == faculty]\n",
    "else:\n",
    "    g = groups\n",
    "\n",
    "if np.unique(g['facultad']).size > 1:\n",
    "    fig = px.histogram(g, y='facultad', orientation='h', barmode='group', **config)\n",
    "    fig.update_layout(xaxis_title='')\n",
    "    fig.update_traces(hoverinfo='none', hovertemplate = '')\n",
    "    fig.show()"
   ]
  },
  {
   "cell_type": "code",
   "execution_count": 383,
   "id": "1860e625-a53c-4be8-ae06-83b9dd859a25",
   "metadata": {},
   "outputs": [
    {
     "data": {
      "text/plain": [
       "3"
      ]
     },
     "execution_count": 383,
     "metadata": {},
     "output_type": "execute_result"
    }
   ],
   "source": [
    "np.unique(g['facultad']).size"
   ]
  },
  {
   "cell_type": "code",
   "execution_count": null,
   "id": "50cb402a-9126-48fe-896e-fa89484bbee6",
   "metadata": {},
   "outputs": [],
   "source": []
  }
 ],
 "metadata": {
  "kernelspec": {
   "display_name": "Python 3 (ipykernel)",
   "language": "python",
   "name": "python3"
  },
  "language_info": {
   "codemirror_mode": {
    "name": "ipython",
    "version": 3
   },
   "file_extension": ".py",
   "mimetype": "text/x-python",
   "name": "python",
   "nbconvert_exporter": "python",
   "pygments_lexer": "ipython3",
   "version": "3.10.5"
  }
 },
 "nbformat": 4,
 "nbformat_minor": 5
}
