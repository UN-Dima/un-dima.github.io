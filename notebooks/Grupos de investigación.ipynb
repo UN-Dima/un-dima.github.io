{
 "cells": [
  {
   "cell_type": "code",
   "execution_count": null,
   "id": "7f5a7cfc-aba1-4df6-a976-2822bbf56ac6",
   "metadata": {},
   "outputs": [],
   "source": [
    "Categoría (Conv 833 de Colciencias 2018 #2019"
   ]
  },
  {
   "cell_type": "code",
   "execution_count": 1,
   "id": "f87bfd5a-fb8a-4c3a-917a-488e198ebc9b",
   "metadata": {},
   "outputs": [],
   "source": [
    "import pandas as pd\n",
    "import numpy as np\n",
    "import json\n",
    "import plotly.express as px\n",
    "from ipywidgets import interact\n",
    "from custom_plots import plot_categories\n",
    "import plotly.graph_objects as go"
   ]
  },
  {
   "cell_type": "markdown",
   "id": "ce34c478-16eb-49bd-9937-f0f2bb29e1c8",
   "metadata": {},
   "source": [
    "# Grupos de investigación"
   ]
  },
  {
   "cell_type": "markdown",
   "id": "98eb6cbd-de7b-4df2-85a6-1b04f67aca23",
   "metadata": {},
   "source": [
    "## Input database\n",
    "Crear un Dataframe a partir de las diferetes hojas del arcivo excel original."
   ]
  },
  {
   "cell_type": "code",
   "execution_count": 2,
   "id": "1c4ec029-c580-4410-b4fc-c55078b283b0",
   "metadata": {},
   "outputs": [
    {
     "data": {
      "text/html": [
       "<div>\n",
       "<style scoped>\n",
       "    .dataframe tbody tr th:only-of-type {\n",
       "        vertical-align: middle;\n",
       "    }\n",
       "\n",
       "    .dataframe tbody tr th {\n",
       "        vertical-align: top;\n",
       "    }\n",
       "\n",
       "    .dataframe thead th {\n",
       "        text-align: right;\n",
       "    }\n",
       "</style>\n",
       "<table border=\"1\" class=\"dataframe\">\n",
       "  <thead>\n",
       "    <tr style=\"text-align: right;\">\n",
       "      <th></th>\n",
       "      <th>Código Hermes</th>\n",
       "      <th>Código Colciencias</th>\n",
       "      <th>Nombre del grupo</th>\n",
       "      <th>Lider colciencias</th>\n",
       "      <th>Lider Hermes</th>\n",
       "      <th>Integrantes Hermes</th>\n",
       "      <th>Integrantes Colciencias</th>\n",
       "      <th>Categoría (Conv 693 de Colciencias 2014)</th>\n",
       "      <th>Categoría (Conv 737 de Colciencias 2015)</th>\n",
       "      <th>Categoría (Conv 781 de Colciencias 2017)</th>\n",
       "      <th>...</th>\n",
       "      <th>Area_OCDE</th>\n",
       "      <th>Agenda del Conocimiento</th>\n",
       "      <th>Sede</th>\n",
       "      <th>Facultad</th>\n",
       "      <th>Departamento</th>\n",
       "      <th>Correo</th>\n",
       "      <th>Sedes_Int</th>\n",
       "      <th>Lider Colciencias</th>\n",
       "      <th>Categoría (Conv 737 de Colciencias 2015)</th>\n",
       "      <th>Categoría (Conv 833 de Colciencias 2019)</th>\n",
       "    </tr>\n",
       "  </thead>\n",
       "  <tbody>\n",
       "    <tr>\n",
       "      <th>0</th>\n",
       "      <td>615.0</td>\n",
       "      <td>COL0007909</td>\n",
       "      <td>CONTROL Y PROCESAMIENTO DIGITAL DE SEÑALES</td>\n",
       "      <td>CASTELLANOS DOMINGUEZ CESAR GERMAN</td>\n",
       "      <td>CASTELLANOS DOMINGUEZ CESAR GERMAN</td>\n",
       "      <td>ALBERTO SEPULVEDA GIRALDO</td>\n",
       "      <td>https://scienti.minciencias.gov.co/gruplac/jsp...</td>\n",
       "      <td>A1</td>\n",
       "      <td>A1</td>\n",
       "      <td>A1</td>\n",
       "      <td>...</td>\n",
       "      <td>Ingeniería y Tecnología</td>\n",
       "      <td>Tecnologías de la Información y Comunicaciones</td>\n",
       "      <td>MANIZALES</td>\n",
       "      <td>4- FACULTAD DE INGENIERÍA Y ARQUITECTURA</td>\n",
       "      <td>4- DEPARTAMENTO DE INGENIERÍA ELÉCTRICA, ELECT...</td>\n",
       "      <td>cgcastellanosd@unal.edu.co</td>\n",
       "      <td>Bogotá, Manizales.</td>\n",
       "      <td>NaN</td>\n",
       "      <td>NaN</td>\n",
       "      <td>NaN</td>\n",
       "    </tr>\n",
       "    <tr>\n",
       "      <th>1</th>\n",
       "      <td>615.0</td>\n",
       "      <td>COL0007909</td>\n",
       "      <td>CONTROL Y PROCESAMIENTO DIGITAL DE SEÑALES</td>\n",
       "      <td>CASTELLANOS DOMINGUEZ CESAR GERMAN</td>\n",
       "      <td>CASTELLANOS DOMINGUEZ CESAR GERMAN</td>\n",
       "      <td>ALEJANDRO GIRALDO ORTIZ</td>\n",
       "      <td>https://scienti.minciencias.gov.co/gruplac/jsp...</td>\n",
       "      <td>A1</td>\n",
       "      <td>A1</td>\n",
       "      <td>A1</td>\n",
       "      <td>...</td>\n",
       "      <td>Ingeniería y Tecnología</td>\n",
       "      <td>Tecnologías de la Información y Comunicaciones</td>\n",
       "      <td>MANIZALES</td>\n",
       "      <td>4- FACULTAD DE INGENIERÍA Y ARQUITECTURA</td>\n",
       "      <td>4- DEPARTAMENTO DE INGENIERÍA ELÉCTRICA, ELECT...</td>\n",
       "      <td>cgcastellanosd@unal.edu.co</td>\n",
       "      <td>Bogotá, Manizales.</td>\n",
       "      <td>NaN</td>\n",
       "      <td>NaN</td>\n",
       "      <td>NaN</td>\n",
       "    </tr>\n",
       "    <tr>\n",
       "      <th>2</th>\n",
       "      <td>615.0</td>\n",
       "      <td>COL0007909</td>\n",
       "      <td>CONTROL Y PROCESAMIENTO DIGITAL DE SEÑALES</td>\n",
       "      <td>CASTELLANOS DOMINGUEZ CESAR GERMAN</td>\n",
       "      <td>CASTELLANOS DOMINGUEZ CESAR GERMAN</td>\n",
       "      <td>ANDERSON ALBERTO RUALES TORRES</td>\n",
       "      <td>https://scienti.minciencias.gov.co/gruplac/jsp...</td>\n",
       "      <td>A1</td>\n",
       "      <td>A1</td>\n",
       "      <td>A1</td>\n",
       "      <td>...</td>\n",
       "      <td>Ingeniería y Tecnología</td>\n",
       "      <td>Tecnologías de la Información y Comunicaciones</td>\n",
       "      <td>MANIZALES</td>\n",
       "      <td>4- FACULTAD DE INGENIERÍA Y ARQUITECTURA</td>\n",
       "      <td>4- DEPARTAMENTO DE INGENIERÍA ELÉCTRICA, ELECT...</td>\n",
       "      <td>cgcastellanosd@unal.edu.co</td>\n",
       "      <td>Bogotá, Manizales.</td>\n",
       "      <td>NaN</td>\n",
       "      <td>NaN</td>\n",
       "      <td>NaN</td>\n",
       "    </tr>\n",
       "    <tr>\n",
       "      <th>3</th>\n",
       "      <td>615.0</td>\n",
       "      <td>COL0007909</td>\n",
       "      <td>CONTROL Y PROCESAMIENTO DIGITAL DE SEÑALES</td>\n",
       "      <td>CASTELLANOS DOMINGUEZ CESAR GERMAN</td>\n",
       "      <td>CASTELLANOS DOMINGUEZ CESAR GERMAN</td>\n",
       "      <td>ANDRES DAVID TOBAR RODRIGUEZ</td>\n",
       "      <td>https://scienti.minciencias.gov.co/gruplac/jsp...</td>\n",
       "      <td>A1</td>\n",
       "      <td>A1</td>\n",
       "      <td>A1</td>\n",
       "      <td>...</td>\n",
       "      <td>Ingeniería y Tecnología</td>\n",
       "      <td>Tecnologías de la Información y Comunicaciones</td>\n",
       "      <td>MANIZALES</td>\n",
       "      <td>4- FACULTAD DE INGENIERÍA Y ARQUITECTURA</td>\n",
       "      <td>4- DEPARTAMENTO DE INGENIERÍA ELÉCTRICA, ELECT...</td>\n",
       "      <td>cgcastellanosd@unal.edu.co</td>\n",
       "      <td>Bogotá, Manizales.</td>\n",
       "      <td>NaN</td>\n",
       "      <td>NaN</td>\n",
       "      <td>NaN</td>\n",
       "    </tr>\n",
       "    <tr>\n",
       "      <th>4</th>\n",
       "      <td>615.0</td>\n",
       "      <td>COL0007909</td>\n",
       "      <td>CONTROL Y PROCESAMIENTO DIGITAL DE SEÑALES</td>\n",
       "      <td>CASTELLANOS DOMINGUEZ CESAR GERMAN</td>\n",
       "      <td>CASTELLANOS DOMINGUEZ CESAR GERMAN</td>\n",
       "      <td>ANDRES EDUARDO CASTRO OSPINA</td>\n",
       "      <td>https://scienti.minciencias.gov.co/gruplac/jsp...</td>\n",
       "      <td>A1</td>\n",
       "      <td>A1</td>\n",
       "      <td>A1</td>\n",
       "      <td>...</td>\n",
       "      <td>Ingeniería y Tecnología</td>\n",
       "      <td>Tecnologías de la Información y Comunicaciones</td>\n",
       "      <td>MANIZALES</td>\n",
       "      <td>4- FACULTAD DE INGENIERÍA Y ARQUITECTURA</td>\n",
       "      <td>4- DEPARTAMENTO DE INGENIERÍA ELÉCTRICA, ELECT...</td>\n",
       "      <td>cgcastellanosd@unal.edu.co</td>\n",
       "      <td>Bogotá, Manizales.</td>\n",
       "      <td>NaN</td>\n",
       "      <td>NaN</td>\n",
       "      <td>NaN</td>\n",
       "    </tr>\n",
       "  </tbody>\n",
       "</table>\n",
       "<p>5 rows × 26 columns</p>\n",
       "</div>"
      ],
      "text/plain": [
       "   Código Hermes Código Colciencias  \\\n",
       "0          615.0         COL0007909   \n",
       "1          615.0         COL0007909   \n",
       "2          615.0         COL0007909   \n",
       "3          615.0         COL0007909   \n",
       "4          615.0         COL0007909   \n",
       "\n",
       "                             Nombre del grupo  \\\n",
       "0  CONTROL Y PROCESAMIENTO DIGITAL DE SEÑALES   \n",
       "1  CONTROL Y PROCESAMIENTO DIGITAL DE SEÑALES   \n",
       "2  CONTROL Y PROCESAMIENTO DIGITAL DE SEÑALES   \n",
       "3  CONTROL Y PROCESAMIENTO DIGITAL DE SEÑALES   \n",
       "4  CONTROL Y PROCESAMIENTO DIGITAL DE SEÑALES   \n",
       "\n",
       "                    Lider colciencias                        Lider Hermes  \\\n",
       "0  CASTELLANOS DOMINGUEZ CESAR GERMAN  CASTELLANOS DOMINGUEZ CESAR GERMAN   \n",
       "1  CASTELLANOS DOMINGUEZ CESAR GERMAN  CASTELLANOS DOMINGUEZ CESAR GERMAN   \n",
       "2  CASTELLANOS DOMINGUEZ CESAR GERMAN  CASTELLANOS DOMINGUEZ CESAR GERMAN   \n",
       "3  CASTELLANOS DOMINGUEZ CESAR GERMAN  CASTELLANOS DOMINGUEZ CESAR GERMAN   \n",
       "4  CASTELLANOS DOMINGUEZ CESAR GERMAN  CASTELLANOS DOMINGUEZ CESAR GERMAN   \n",
       "\n",
       "               Integrantes Hermes  \\\n",
       "0       ALBERTO SEPULVEDA GIRALDO   \n",
       "1         ALEJANDRO GIRALDO ORTIZ   \n",
       "2  ANDERSON ALBERTO RUALES TORRES   \n",
       "3    ANDRES DAVID TOBAR RODRIGUEZ   \n",
       "4    ANDRES EDUARDO CASTRO OSPINA   \n",
       "\n",
       "                             Integrantes Colciencias  \\\n",
       "0  https://scienti.minciencias.gov.co/gruplac/jsp...   \n",
       "1  https://scienti.minciencias.gov.co/gruplac/jsp...   \n",
       "2  https://scienti.minciencias.gov.co/gruplac/jsp...   \n",
       "3  https://scienti.minciencias.gov.co/gruplac/jsp...   \n",
       "4  https://scienti.minciencias.gov.co/gruplac/jsp...   \n",
       "\n",
       "  Categoría (Conv 693 de Colciencias 2014)  \\\n",
       "0                                       A1   \n",
       "1                                       A1   \n",
       "2                                       A1   \n",
       "3                                       A1   \n",
       "4                                       A1   \n",
       "\n",
       "  Categoría (Conv 737 de Colciencias 2015)  \\\n",
       "0                                       A1   \n",
       "1                                       A1   \n",
       "2                                       A1   \n",
       "3                                       A1   \n",
       "4                                       A1   \n",
       "\n",
       "  Categoría (Conv 781 de Colciencias 2017)  ...                Area_OCDE  \\\n",
       "0                                       A1  ...  Ingeniería y Tecnología   \n",
       "1                                       A1  ...  Ingeniería y Tecnología   \n",
       "2                                       A1  ...  Ingeniería y Tecnología   \n",
       "3                                       A1  ...  Ingeniería y Tecnología   \n",
       "4                                       A1  ...  Ingeniería y Tecnología   \n",
       "\n",
       "                          Agenda del Conocimiento       Sede  \\\n",
       "0  Tecnologías de la Información y Comunicaciones  MANIZALES   \n",
       "1  Tecnologías de la Información y Comunicaciones  MANIZALES   \n",
       "2  Tecnologías de la Información y Comunicaciones  MANIZALES   \n",
       "3  Tecnologías de la Información y Comunicaciones  MANIZALES   \n",
       "4  Tecnologías de la Información y Comunicaciones  MANIZALES   \n",
       "\n",
       "                                   Facultad  \\\n",
       "0  4- FACULTAD DE INGENIERÍA Y ARQUITECTURA   \n",
       "1  4- FACULTAD DE INGENIERÍA Y ARQUITECTURA   \n",
       "2  4- FACULTAD DE INGENIERÍA Y ARQUITECTURA   \n",
       "3  4- FACULTAD DE INGENIERÍA Y ARQUITECTURA   \n",
       "4  4- FACULTAD DE INGENIERÍA Y ARQUITECTURA   \n",
       "\n",
       "                                        Departamento  \\\n",
       "0  4- DEPARTAMENTO DE INGENIERÍA ELÉCTRICA, ELECT...   \n",
       "1  4- DEPARTAMENTO DE INGENIERÍA ELÉCTRICA, ELECT...   \n",
       "2  4- DEPARTAMENTO DE INGENIERÍA ELÉCTRICA, ELECT...   \n",
       "3  4- DEPARTAMENTO DE INGENIERÍA ELÉCTRICA, ELECT...   \n",
       "4  4- DEPARTAMENTO DE INGENIERÍA ELÉCTRICA, ELECT...   \n",
       "\n",
       "                       Correo           Sedes_Int Lider Colciencias  \\\n",
       "0  cgcastellanosd@unal.edu.co  Bogotá, Manizales.               NaN   \n",
       "1  cgcastellanosd@unal.edu.co  Bogotá, Manizales.               NaN   \n",
       "2  cgcastellanosd@unal.edu.co  Bogotá, Manizales.               NaN   \n",
       "3  cgcastellanosd@unal.edu.co  Bogotá, Manizales.               NaN   \n",
       "4  cgcastellanosd@unal.edu.co  Bogotá, Manizales.               NaN   \n",
       "\n",
       "  Categoría (Conv 737 de Colciencias 2015)   \\\n",
       "0                                       NaN   \n",
       "1                                       NaN   \n",
       "2                                       NaN   \n",
       "3                                       NaN   \n",
       "4                                       NaN   \n",
       "\n",
       "  Categoría (Conv 833 de Colciencias 2019)  \n",
       "0                                      NaN  \n",
       "1                                      NaN  \n",
       "2                                      NaN  \n",
       "3                                      NaN  \n",
       "4                                      NaN  \n",
       "\n",
       "[5 rows x 26 columns]"
      ]
     },
     "execution_count": 2,
     "metadata": {},
     "output_type": "execute_result"
    }
   ],
   "source": [
    "filenames = ['../databases/FIA.csv', '../databases/FA.csv', '../databases/FCEN.csv']\n",
    "\n",
    "df = pd.concat([pd.read_csv(f) for f in filenames])\n",
    "for col in df.columns:\n",
    "    df[col] = df[col].fillna(method='ffill')\n",
    "    \n",
    "df.head()"
   ]
  },
  {
   "cell_type": "code",
   "execution_count": 3,
   "id": "bcfae02d-1531-49f8-9207-fcfdb024eafc",
   "metadata": {},
   "outputs": [
    {
     "data": {
      "text/plain": [
       "Index(['Código Hermes', 'Código Colciencias', 'Nombre del grupo',\n",
       "       'Lider colciencias', 'Lider Hermes', 'Integrantes Hermes',\n",
       "       'Integrantes Colciencias', 'Categoría (Conv 693 de Colciencias 2014)',\n",
       "       'Categoría (Conv 737 de Colciencias 2015)',\n",
       "       'Categoría (Conv 781 de Colciencias 2017)',\n",
       "       'Categoría (Conv 833 de Colciencias 2018)',\n",
       "       'Categoría (Conv 894 de Colciencias 2021)', 'Año de conformación',\n",
       "       'Mes ', 'Lineas de Investigación', 'Area_Conocimiento_OCDE',\n",
       "       'Area_OCDE', 'Agenda del Conocimiento', 'Sede', 'Facultad',\n",
       "       'Departamento', 'Correo', 'Sedes_Int', 'Lider Colciencias',\n",
       "       'Categoría (Conv 737 de Colciencias 2015) ',\n",
       "       'Categoría (Conv 833 de Colciencias 2019)'],\n",
       "      dtype='object')"
      ]
     },
     "execution_count": 3,
     "metadata": {},
     "output_type": "execute_result"
    }
   ],
   "source": [
    "df.columns"
   ]
  },
  {
   "cell_type": "markdown",
   "id": "e2c713e6-3dcb-4b84-bb3a-ce56ff830eb0",
   "metadata": {},
   "source": [
    "## Getters\n",
    "\n",
    "Funciones básicas de consulta que reciven como entrada el nombre del grupo. "
   ]
  },
  {
   "cell_type": "code",
   "execution_count": 109,
   "id": "a9f50a55-5a66-4464-8727-789b228129e6",
   "metadata": {},
   "outputs": [],
   "source": [
    "get_name = lambda df,g:df[df['Nombre del grupo'] == g]['Nombre del grupo'].tolist()[0]\n",
    "get_members = lambda df,g:df[df['Nombre del grupo'] == g]\n",
    "# get_line = lambda df,g:df[df['Nombre del grupo'] == g]['Lineas de Investigación'].tolist()[0]\n",
    "get_sub_OCDE = lambda df,g:df[df['Nombre del grupo'] == g]['Area_Conocimiento_OCDE'].tolist()[0]\n",
    "get_OCDE = lambda df,g:df[df['Nombre del grupo'] == g]['Area_OCDE'].tolist()[0]\n",
    "get_know = lambda df,g:df[df['Nombre del grupo'] == g]['Agenda del Conocimiento'].tolist()[0]\n",
    "get_facultad = lambda df,g:df[df['Nombre del grupo'] == g]['Facultad'].tolist()[0]\n",
    "get_departamento = lambda df,g:df[df['Nombre del grupo'] == g]['Departamento'].tolist()[0]\n",
    "get_categoria = lambda df,g:df[df['Nombre del grupo'] == g]['Categoría (Conv 781 de Colciencias 2017)'].tolist()[0]\n",
    "get_lider = lambda df,g:df[df['Nombre del grupo'] == g]['Lider colciencias'].tolist()[0]"
   ]
  },
  {
   "cell_type": "markdown",
   "id": "eae5e804-bce8-4b01-ad40-670890e17132",
   "metadata": {},
   "source": [
    "## Limpiar base de datos"
   ]
  },
  {
   "cell_type": "markdown",
   "id": "98507651-b0ed-479a-8cea-d00cc2aed682",
   "metadata": {},
   "source": [
    "El identificador de cada grupo es el mismo nombre del grupo.  \n",
    "La base de datos ```groups``` contiene la información ordenada por grupo de investigación."
   ]
  },
  {
   "cell_type": "code",
   "execution_count": 110,
   "id": "5adf8da8-ade7-4eea-bd07-5522643a31e2",
   "metadata": {
    "tags": []
   },
   "outputs": [],
   "source": [
    "ids = np.unique(df['Nombre del grupo'].tolist())"
   ]
  },
  {
   "cell_type": "code",
   "execution_count": 112,
   "id": "0dcd37d9-b5e6-4cfe-a532-e700db9c792b",
   "metadata": {},
   "outputs": [
    {
     "data": {
      "text/plain": [
       "'Hola Mundo'"
      ]
     },
     "execution_count": 112,
     "metadata": {},
     "output_type": "execute_result"
    }
   ],
   "source": [
    "'hola mundo'.title()"
   ]
  },
  {
   "cell_type": "code",
   "execution_count": 113,
   "id": "ae9bf038-6560-40c1-80e6-7e7635a75a19",
   "metadata": {},
   "outputs": [
    {
     "data": {
      "text/html": [
       "<div>\n",
       "<style scoped>\n",
       "    .dataframe tbody tr th:only-of-type {\n",
       "        vertical-align: middle;\n",
       "    }\n",
       "\n",
       "    .dataframe tbody tr th {\n",
       "        vertical-align: top;\n",
       "    }\n",
       "\n",
       "    .dataframe thead th {\n",
       "        text-align: right;\n",
       "    }\n",
       "</style>\n",
       "<table border=\"1\" class=\"dataframe\">\n",
       "  <thead>\n",
       "    <tr style=\"text-align: right;\">\n",
       "      <th></th>\n",
       "      <th>members</th>\n",
       "      <th>name</th>\n",
       "      <th>sub_ocde</th>\n",
       "      <th>ocde</th>\n",
       "      <th>knowledge</th>\n",
       "      <th>facultad</th>\n",
       "      <th>departamento</th>\n",
       "      <th>categoria</th>\n",
       "      <th>lider</th>\n",
       "    </tr>\n",
       "  </thead>\n",
       "  <tbody>\n",
       "    <tr>\n",
       "      <th>0</th>\n",
       "      <td>11</td>\n",
       "      <td>Abc dynamics</td>\n",
       "      <td>Ingeniería civil</td>\n",
       "      <td>Ingeniería y tecnología</td>\n",
       "      <td>Desarrollo organizacional económico e industrial</td>\n",
       "      <td>Facultad de ciencias exactas y naturales</td>\n",
       "      <td>Departamento de matemáticas</td>\n",
       "      <td>A</td>\n",
       "      <td>Luis Ricardo Vasquez Varela</td>\n",
       "    </tr>\n",
       "    <tr>\n",
       "      <th>1</th>\n",
       "      <td>13</td>\n",
       "      <td>Analisis matematico am</td>\n",
       "      <td>Ingeniería civil</td>\n",
       "      <td>Metemáticas</td>\n",
       "      <td>Desarrollo organizacional económico e industrial</td>\n",
       "      <td>Facultad de ciencias exactas y naturales</td>\n",
       "      <td>Departamento de matemáticas</td>\n",
       "      <td>A</td>\n",
       "      <td>Luis Ricardo Vasquez Varela</td>\n",
       "    </tr>\n",
       "    <tr>\n",
       "      <th>2</th>\n",
       "      <td>4</td>\n",
       "      <td>Arquitectura medio ambiente y sostenibilidad</td>\n",
       "      <td>Ciencias de la tierra y medioambientales</td>\n",
       "      <td>Ciencias naturales</td>\n",
       "      <td>Ambiente y biodiversidad</td>\n",
       "      <td>Facultad de ingeniería y arquitectura</td>\n",
       "      <td>Escuela de arquitectura y urbanismo</td>\n",
       "      <td>C</td>\n",
       "      <td>Agredo Cardona Gustavo Adolfo</td>\n",
       "    </tr>\n",
       "    <tr>\n",
       "      <th>3</th>\n",
       "      <td>1</td>\n",
       "      <td>Arquitectura y ciudad: ciencia y cultura</td>\n",
       "      <td>Humanidades</td>\n",
       "      <td>Arte</td>\n",
       "      <td>Arte y cultura</td>\n",
       "      <td>Facultad de ingeniería y arquitectura</td>\n",
       "      <td>Escuela de arquitectura y urbanismo</td>\n",
       "      <td>C</td>\n",
       "      <td>Ocampo Hurtado Juan Gabriel</td>\n",
       "    </tr>\n",
       "    <tr>\n",
       "      <th>4</th>\n",
       "      <td>1</td>\n",
       "      <td>Arquitectura, ciudad y territorio</td>\n",
       "      <td>Humanidades</td>\n",
       "      <td>Arte</td>\n",
       "      <td>Arte y cultura</td>\n",
       "      <td>Facultad de ingeniería y arquitectura</td>\n",
       "      <td>Escuela de arquitectura y urbanismo</td>\n",
       "      <td>C</td>\n",
       "      <td>Llanos Chaparro Isabel</td>\n",
       "    </tr>\n",
       "  </tbody>\n",
       "</table>\n",
       "</div>"
      ],
      "text/plain": [
       "   members                                          name  \\\n",
       "0       11                                  Abc dynamics   \n",
       "1       13                        Analisis matematico am   \n",
       "2        4  Arquitectura medio ambiente y sostenibilidad   \n",
       "3        1      Arquitectura y ciudad: ciencia y cultura   \n",
       "4        1             Arquitectura, ciudad y territorio   \n",
       "\n",
       "                                   sub_ocde                     ocde  \\\n",
       "0                          Ingeniería civil  Ingeniería y tecnología   \n",
       "1                          Ingeniería civil              Metemáticas   \n",
       "2  Ciencias de la tierra y medioambientales       Ciencias naturales   \n",
       "3                               Humanidades                     Arte   \n",
       "4                               Humanidades                     Arte   \n",
       "\n",
       "                                          knowledge  \\\n",
       "0  Desarrollo organizacional económico e industrial   \n",
       "1  Desarrollo organizacional económico e industrial   \n",
       "2                          Ambiente y biodiversidad   \n",
       "3                                    Arte y cultura   \n",
       "4                                    Arte y cultura   \n",
       "\n",
       "                                   facultad  \\\n",
       "0  Facultad de ciencias exactas y naturales   \n",
       "1  Facultad de ciencias exactas y naturales   \n",
       "2     Facultad de ingeniería y arquitectura   \n",
       "3     Facultad de ingeniería y arquitectura   \n",
       "4     Facultad de ingeniería y arquitectura   \n",
       "\n",
       "                          departamento categoria  \\\n",
       "0          Departamento de matemáticas         A   \n",
       "1          Departamento de matemáticas         A   \n",
       "2  Escuela de arquitectura y urbanismo         C   \n",
       "3  Escuela de arquitectura y urbanismo         C   \n",
       "4  Escuela de arquitectura y urbanismo         C   \n",
       "\n",
       "                           lider  \n",
       "0    Luis Ricardo Vasquez Varela  \n",
       "1    Luis Ricardo Vasquez Varela  \n",
       "2  Agredo Cardona Gustavo Adolfo  \n",
       "3   Ocampo Hurtado Juan Gabriel   \n",
       "4       Llanos Chaparro Isabel    "
      ]
     },
     "execution_count": 113,
     "metadata": {},
     "output_type": "execute_result"
    }
   ],
   "source": [
    "groups = {}\n",
    "for group in ids:\n",
    "    groups.setdefault('members', []).append(len(get_members(df, group)))\n",
    "    groups.setdefault('name', []).append(get_name(df, group).capitalize())\n",
    "    # groups.setdefault('line', []).append(get_line(df, group).capitalize())\n",
    "    groups.setdefault('sub_ocde', []).append(get_sub_OCDE(df, group).capitalize())\n",
    "    groups.setdefault('ocde', []).append(get_OCDE(df, group).capitalize())\n",
    "    groups.setdefault('knowledge', []).append(get_know(df, group).capitalize())\n",
    "    groups.setdefault('facultad', []).append(get_facultad(df, group).replace('4- ', '').capitalize())\n",
    "    groups.setdefault('departamento', []).append(get_departamento(df, group).replace('4- ', '').capitalize())\n",
    "    groups.setdefault('categoria', []).append(get_categoria(df, group).capitalize())\n",
    "    groups.setdefault('lider', []).append(get_lider(df, group).title())\n",
    "\n",
    "groups = pd.DataFrame.from_dict(groups)\n",
    "groups['knowledge'].replace('Cyt de minerales y materiales', 'Ciencia y tecnología de minerales y materiales', inplace=True)\n",
    "# groups['facultad'].replace('4- ', '', inplace=True)\n",
    "groups.head()"
   ]
  },
  {
   "cell_type": "markdown",
   "id": "ff1d1c06-1dfa-47a2-9093-ec0181113fe2",
   "metadata": {},
   "source": [
    "Información general que involucra a todos los grupos"
   ]
  },
  {
   "cell_type": "code",
   "execution_count": 6,
   "id": "af3cba49-b110-4944-98e5-7fd8d1e7ff5e",
   "metadata": {
    "tags": []
   },
   "outputs": [],
   "source": [
    "data = {\n",
    "    'grupos': np.unique(df['Nombre del grupo'].tolist()).tolist(),\n",
    "    'facultades': np.unique(groups['facultad'].tolist()).tolist(),\n",
    "    'departamentos': np.unique(groups['departamento'].tolist()).tolist(),\n",
    "    'Sedes de intervención': list(set([sede.strip(' ,.') for sede in ','.join(np.unique(df['Sedes_Int']).tolist()).split(',')])),\n",
    "}"
   ]
  },
  {
   "cell_type": "markdown",
   "id": "6a295590-b525-42a4-a5ed-89fa26b69b32",
   "metadata": {},
   "source": [
    "# Visualizations"
   ]
  },
  {
   "cell_type": "markdown",
   "id": "a88e0f42-0aac-440d-b275-4112cc57d5f1",
   "metadata": {},
   "source": [
    "## Facultades"
   ]
  },
  {
   "cell_type": "code",
   "execution_count": 11,
   "id": "7f21f6a6-0a63-43ee-8c48-4020b82ce8d6",
   "metadata": {},
   "outputs": [
    {
     "data": {
      "application/vnd.plotly.v1+json": {
       "config": {
        "plotlyServerURL": "https://plot.ly"
       },
       "data": [
        {
         "hoverinfo": "text",
         "marker": {
          "color": "#636efa"
         },
         "orientation": "h",
         "text": [
          "33"
         ],
         "textposition": "auto",
         "type": "bar",
         "x": [
          33
         ],
         "xaxis": "x",
         "y": [
          "Facultad de ingeniería y arquitectura"
         ],
         "yaxis": "y"
        },
        {
         "hoverinfo": "text",
         "marker": {
          "color": "#636efa"
         },
         "orientation": "h",
         "text": [
          "19"
         ],
         "textposition": "auto",
         "type": "bar",
         "x": [
          19
         ],
         "xaxis": "x2",
         "y": [
          "Facultad de administración"
         ],
         "yaxis": "y2"
        },
        {
         "hoverinfo": "text",
         "marker": {
          "color": "#636efa"
         },
         "orientation": "h",
         "text": [
          "14"
         ],
         "textposition": "auto",
         "type": "bar",
         "x": [
          14
         ],
         "xaxis": "x3",
         "y": [
          "Facultad de ciencias exactas y naturales"
         ],
         "yaxis": "y3"
        }
       ],
       "layout": {
        "annotations": [
         {
          "align": "left",
          "font": {
           "size": 12
          },
          "showarrow": false,
          "text": "Facultad de ingeniería y arquitectura",
          "x": 0,
          "xanchor": "left",
          "xref": "paper",
          "y": 0.9999999999999999,
          "yanchor": "bottom",
          "yref": "paper"
         },
         {
          "align": "left",
          "font": {
           "size": 12
          },
          "showarrow": false,
          "text": "Facultad de administración",
          "x": 0,
          "xanchor": "left",
          "xref": "paper",
          "y": 0.6166666666666666,
          "yanchor": "bottom",
          "yref": "paper"
         },
         {
          "align": "left",
          "font": {
           "size": 12
          },
          "showarrow": false,
          "text": "Facultad de ciencias exactas y naturales",
          "x": 0,
          "xanchor": "left",
          "xref": "paper",
          "y": 0.2333333333333333,
          "yanchor": "bottom",
          "yref": "paper"
         }
        ],
        "height": 200,
        "margin": {
         "b": 1,
         "l": 0,
         "r": 0,
         "t": 20
        },
        "plot_bgcolor": "#fff",
        "showlegend": false,
        "template": {
         "data": {
          "bar": [
           {
            "error_x": {
             "color": "#2a3f5f"
            },
            "error_y": {
             "color": "#2a3f5f"
            },
            "marker": {
             "line": {
              "color": "#E5ECF6",
              "width": 0.5
             },
             "pattern": {
              "fillmode": "overlay",
              "size": 10,
              "solidity": 0.2
             }
            },
            "type": "bar"
           }
          ],
          "barpolar": [
           {
            "marker": {
             "line": {
              "color": "#E5ECF6",
              "width": 0.5
             },
             "pattern": {
              "fillmode": "overlay",
              "size": 10,
              "solidity": 0.2
             }
            },
            "type": "barpolar"
           }
          ],
          "carpet": [
           {
            "aaxis": {
             "endlinecolor": "#2a3f5f",
             "gridcolor": "white",
             "linecolor": "white",
             "minorgridcolor": "white",
             "startlinecolor": "#2a3f5f"
            },
            "baxis": {
             "endlinecolor": "#2a3f5f",
             "gridcolor": "white",
             "linecolor": "white",
             "minorgridcolor": "white",
             "startlinecolor": "#2a3f5f"
            },
            "type": "carpet"
           }
          ],
          "choropleth": [
           {
            "colorbar": {
             "outlinewidth": 0,
             "ticks": ""
            },
            "type": "choropleth"
           }
          ],
          "contour": [
           {
            "colorbar": {
             "outlinewidth": 0,
             "ticks": ""
            },
            "colorscale": [
             [
              0,
              "#0d0887"
             ],
             [
              0.1111111111111111,
              "#46039f"
             ],
             [
              0.2222222222222222,
              "#7201a8"
             ],
             [
              0.3333333333333333,
              "#9c179e"
             ],
             [
              0.4444444444444444,
              "#bd3786"
             ],
             [
              0.5555555555555556,
              "#d8576b"
             ],
             [
              0.6666666666666666,
              "#ed7953"
             ],
             [
              0.7777777777777778,
              "#fb9f3a"
             ],
             [
              0.8888888888888888,
              "#fdca26"
             ],
             [
              1,
              "#f0f921"
             ]
            ],
            "type": "contour"
           }
          ],
          "contourcarpet": [
           {
            "colorbar": {
             "outlinewidth": 0,
             "ticks": ""
            },
            "type": "contourcarpet"
           }
          ],
          "heatmap": [
           {
            "colorbar": {
             "outlinewidth": 0,
             "ticks": ""
            },
            "colorscale": [
             [
              0,
              "#0d0887"
             ],
             [
              0.1111111111111111,
              "#46039f"
             ],
             [
              0.2222222222222222,
              "#7201a8"
             ],
             [
              0.3333333333333333,
              "#9c179e"
             ],
             [
              0.4444444444444444,
              "#bd3786"
             ],
             [
              0.5555555555555556,
              "#d8576b"
             ],
             [
              0.6666666666666666,
              "#ed7953"
             ],
             [
              0.7777777777777778,
              "#fb9f3a"
             ],
             [
              0.8888888888888888,
              "#fdca26"
             ],
             [
              1,
              "#f0f921"
             ]
            ],
            "type": "heatmap"
           }
          ],
          "heatmapgl": [
           {
            "colorbar": {
             "outlinewidth": 0,
             "ticks": ""
            },
            "colorscale": [
             [
              0,
              "#0d0887"
             ],
             [
              0.1111111111111111,
              "#46039f"
             ],
             [
              0.2222222222222222,
              "#7201a8"
             ],
             [
              0.3333333333333333,
              "#9c179e"
             ],
             [
              0.4444444444444444,
              "#bd3786"
             ],
             [
              0.5555555555555556,
              "#d8576b"
             ],
             [
              0.6666666666666666,
              "#ed7953"
             ],
             [
              0.7777777777777778,
              "#fb9f3a"
             ],
             [
              0.8888888888888888,
              "#fdca26"
             ],
             [
              1,
              "#f0f921"
             ]
            ],
            "type": "heatmapgl"
           }
          ],
          "histogram": [
           {
            "marker": {
             "pattern": {
              "fillmode": "overlay",
              "size": 10,
              "solidity": 0.2
             }
            },
            "type": "histogram"
           }
          ],
          "histogram2d": [
           {
            "colorbar": {
             "outlinewidth": 0,
             "ticks": ""
            },
            "colorscale": [
             [
              0,
              "#0d0887"
             ],
             [
              0.1111111111111111,
              "#46039f"
             ],
             [
              0.2222222222222222,
              "#7201a8"
             ],
             [
              0.3333333333333333,
              "#9c179e"
             ],
             [
              0.4444444444444444,
              "#bd3786"
             ],
             [
              0.5555555555555556,
              "#d8576b"
             ],
             [
              0.6666666666666666,
              "#ed7953"
             ],
             [
              0.7777777777777778,
              "#fb9f3a"
             ],
             [
              0.8888888888888888,
              "#fdca26"
             ],
             [
              1,
              "#f0f921"
             ]
            ],
            "type": "histogram2d"
           }
          ],
          "histogram2dcontour": [
           {
            "colorbar": {
             "outlinewidth": 0,
             "ticks": ""
            },
            "colorscale": [
             [
              0,
              "#0d0887"
             ],
             [
              0.1111111111111111,
              "#46039f"
             ],
             [
              0.2222222222222222,
              "#7201a8"
             ],
             [
              0.3333333333333333,
              "#9c179e"
             ],
             [
              0.4444444444444444,
              "#bd3786"
             ],
             [
              0.5555555555555556,
              "#d8576b"
             ],
             [
              0.6666666666666666,
              "#ed7953"
             ],
             [
              0.7777777777777778,
              "#fb9f3a"
             ],
             [
              0.8888888888888888,
              "#fdca26"
             ],
             [
              1,
              "#f0f921"
             ]
            ],
            "type": "histogram2dcontour"
           }
          ],
          "mesh3d": [
           {
            "colorbar": {
             "outlinewidth": 0,
             "ticks": ""
            },
            "type": "mesh3d"
           }
          ],
          "parcoords": [
           {
            "line": {
             "colorbar": {
              "outlinewidth": 0,
              "ticks": ""
             }
            },
            "type": "parcoords"
           }
          ],
          "pie": [
           {
            "automargin": true,
            "type": "pie"
           }
          ],
          "scatter": [
           {
            "fillpattern": {
             "fillmode": "overlay",
             "size": 10,
             "solidity": 0.2
            },
            "type": "scatter"
           }
          ],
          "scatter3d": [
           {
            "line": {
             "colorbar": {
              "outlinewidth": 0,
              "ticks": ""
             }
            },
            "marker": {
             "colorbar": {
              "outlinewidth": 0,
              "ticks": ""
             }
            },
            "type": "scatter3d"
           }
          ],
          "scattercarpet": [
           {
            "marker": {
             "colorbar": {
              "outlinewidth": 0,
              "ticks": ""
             }
            },
            "type": "scattercarpet"
           }
          ],
          "scattergeo": [
           {
            "marker": {
             "colorbar": {
              "outlinewidth": 0,
              "ticks": ""
             }
            },
            "type": "scattergeo"
           }
          ],
          "scattergl": [
           {
            "marker": {
             "colorbar": {
              "outlinewidth": 0,
              "ticks": ""
             }
            },
            "type": "scattergl"
           }
          ],
          "scattermapbox": [
           {
            "marker": {
             "colorbar": {
              "outlinewidth": 0,
              "ticks": ""
             }
            },
            "type": "scattermapbox"
           }
          ],
          "scatterpolar": [
           {
            "marker": {
             "colorbar": {
              "outlinewidth": 0,
              "ticks": ""
             }
            },
            "type": "scatterpolar"
           }
          ],
          "scatterpolargl": [
           {
            "marker": {
             "colorbar": {
              "outlinewidth": 0,
              "ticks": ""
             }
            },
            "type": "scatterpolargl"
           }
          ],
          "scatterternary": [
           {
            "marker": {
             "colorbar": {
              "outlinewidth": 0,
              "ticks": ""
             }
            },
            "type": "scatterternary"
           }
          ],
          "surface": [
           {
            "colorbar": {
             "outlinewidth": 0,
             "ticks": ""
            },
            "colorscale": [
             [
              0,
              "#0d0887"
             ],
             [
              0.1111111111111111,
              "#46039f"
             ],
             [
              0.2222222222222222,
              "#7201a8"
             ],
             [
              0.3333333333333333,
              "#9c179e"
             ],
             [
              0.4444444444444444,
              "#bd3786"
             ],
             [
              0.5555555555555556,
              "#d8576b"
             ],
             [
              0.6666666666666666,
              "#ed7953"
             ],
             [
              0.7777777777777778,
              "#fb9f3a"
             ],
             [
              0.8888888888888888,
              "#fdca26"
             ],
             [
              1,
              "#f0f921"
             ]
            ],
            "type": "surface"
           }
          ],
          "table": [
           {
            "cells": {
             "fill": {
              "color": "#EBF0F8"
             },
             "line": {
              "color": "white"
             }
            },
            "header": {
             "fill": {
              "color": "#C8D4E3"
             },
             "line": {
              "color": "white"
             }
            },
            "type": "table"
           }
          ]
         },
         "layout": {
          "annotationdefaults": {
           "arrowcolor": "#2a3f5f",
           "arrowhead": 0,
           "arrowwidth": 1
          },
          "autotypenumbers": "strict",
          "coloraxis": {
           "colorbar": {
            "outlinewidth": 0,
            "ticks": ""
           }
          },
          "colorscale": {
           "diverging": [
            [
             0,
             "#8e0152"
            ],
            [
             0.1,
             "#c51b7d"
            ],
            [
             0.2,
             "#de77ae"
            ],
            [
             0.3,
             "#f1b6da"
            ],
            [
             0.4,
             "#fde0ef"
            ],
            [
             0.5,
             "#f7f7f7"
            ],
            [
             0.6,
             "#e6f5d0"
            ],
            [
             0.7,
             "#b8e186"
            ],
            [
             0.8,
             "#7fbc41"
            ],
            [
             0.9,
             "#4d9221"
            ],
            [
             1,
             "#276419"
            ]
           ],
           "sequential": [
            [
             0,
             "#0d0887"
            ],
            [
             0.1111111111111111,
             "#46039f"
            ],
            [
             0.2222222222222222,
             "#7201a8"
            ],
            [
             0.3333333333333333,
             "#9c179e"
            ],
            [
             0.4444444444444444,
             "#bd3786"
            ],
            [
             0.5555555555555556,
             "#d8576b"
            ],
            [
             0.6666666666666666,
             "#ed7953"
            ],
            [
             0.7777777777777778,
             "#fb9f3a"
            ],
            [
             0.8888888888888888,
             "#fdca26"
            ],
            [
             1,
             "#f0f921"
            ]
           ],
           "sequentialminus": [
            [
             0,
             "#0d0887"
            ],
            [
             0.1111111111111111,
             "#46039f"
            ],
            [
             0.2222222222222222,
             "#7201a8"
            ],
            [
             0.3333333333333333,
             "#9c179e"
            ],
            [
             0.4444444444444444,
             "#bd3786"
            ],
            [
             0.5555555555555556,
             "#d8576b"
            ],
            [
             0.6666666666666666,
             "#ed7953"
            ],
            [
             0.7777777777777778,
             "#fb9f3a"
            ],
            [
             0.8888888888888888,
             "#fdca26"
            ],
            [
             1,
             "#f0f921"
            ]
           ]
          },
          "colorway": [
           "#636efa",
           "#EF553B",
           "#00cc96",
           "#ab63fa",
           "#FFA15A",
           "#19d3f3",
           "#FF6692",
           "#B6E880",
           "#FF97FF",
           "#FECB52"
          ],
          "font": {
           "color": "#2a3f5f"
          },
          "geo": {
           "bgcolor": "white",
           "lakecolor": "white",
           "landcolor": "#E5ECF6",
           "showlakes": true,
           "showland": true,
           "subunitcolor": "white"
          },
          "hoverlabel": {
           "align": "left"
          },
          "hovermode": "closest",
          "mapbox": {
           "style": "light"
          },
          "paper_bgcolor": "white",
          "plot_bgcolor": "#E5ECF6",
          "polar": {
           "angularaxis": {
            "gridcolor": "white",
            "linecolor": "white",
            "ticks": ""
           },
           "bgcolor": "#E5ECF6",
           "radialaxis": {
            "gridcolor": "white",
            "linecolor": "white",
            "ticks": ""
           }
          },
          "scene": {
           "xaxis": {
            "backgroundcolor": "#E5ECF6",
            "gridcolor": "white",
            "gridwidth": 2,
            "linecolor": "white",
            "showbackground": true,
            "ticks": "",
            "zerolinecolor": "white"
           },
           "yaxis": {
            "backgroundcolor": "#E5ECF6",
            "gridcolor": "white",
            "gridwidth": 2,
            "linecolor": "white",
            "showbackground": true,
            "ticks": "",
            "zerolinecolor": "white"
           },
           "zaxis": {
            "backgroundcolor": "#E5ECF6",
            "gridcolor": "white",
            "gridwidth": 2,
            "linecolor": "white",
            "showbackground": true,
            "ticks": "",
            "zerolinecolor": "white"
           }
          },
          "shapedefaults": {
           "line": {
            "color": "#2a3f5f"
           }
          },
          "ternary": {
           "aaxis": {
            "gridcolor": "white",
            "linecolor": "white",
            "ticks": ""
           },
           "baxis": {
            "gridcolor": "white",
            "linecolor": "white",
            "ticks": ""
           },
           "bgcolor": "#E5ECF6",
           "caxis": {
            "gridcolor": "white",
            "linecolor": "white",
            "ticks": ""
           }
          },
          "title": {
           "x": 0.05
          },
          "xaxis": {
           "automargin": true,
           "gridcolor": "white",
           "linecolor": "white",
           "ticks": "",
           "title": {
            "standoff": 15
           },
           "zerolinecolor": "white",
           "zerolinewidth": 2
          },
          "yaxis": {
           "automargin": true,
           "gridcolor": "white",
           "linecolor": "white",
           "ticks": "",
           "title": {
            "standoff": 15
           },
           "zerolinecolor": "white",
           "zerolinewidth": 2
          }
         }
        },
        "width": 750,
        "xaxis": {
         "anchor": "y",
         "autorange": true,
         "domain": [
          0,
          1
         ],
         "matches": "x3",
         "range": [
          0,
          34.73684210526316
         ],
         "showticklabels": false,
         "type": "linear",
         "visible": false
        },
        "xaxis2": {
         "anchor": "y2",
         "autorange": true,
         "domain": [
          0,
          1
         ],
         "matches": "x3",
         "range": [
          0,
          34.73684210526316
         ],
         "showticklabels": false,
         "type": "linear",
         "visible": false
        },
        "xaxis3": {
         "anchor": "y3",
         "autorange": true,
         "domain": [
          0,
          1
         ],
         "range": [
          0,
          34.73684210526316
         ],
         "type": "linear",
         "visible": false
        },
        "yaxis": {
         "anchor": "x",
         "autorange": true,
         "domain": [
          0.7666666666666666,
          0.9999999999999999
         ],
         "range": [
          -0.5,
          0.5
         ],
         "type": "category",
         "visible": false
        },
        "yaxis2": {
         "anchor": "x2",
         "autorange": true,
         "domain": [
          0.3833333333333333,
          0.6166666666666666
         ],
         "range": [
          -0.5,
          0.5
         ],
         "type": "category",
         "visible": false
        },
        "yaxis3": {
         "anchor": "x3",
         "autorange": true,
         "domain": [
          0,
          0.2333333333333333
         ],
         "range": [
          -0.5,
          0.5
         ],
         "type": "category",
         "visible": false
        }
       }
      },
      "image/png": "[encoded data removed]",
      "text/html": [
       "<div>                            <div id=\"5474b080-2472-4a36-b289-74d34e55abd9\" class=\"plotly-graph-div\" style=\"height:200px; width:750px;\"></div>            <script type=\"text/javascript\">                require([\"plotly\"], function(Plotly) {                    window.PLOTLYENV=window.PLOTLYENV || {};                                    if (document.getElementById(\"5474b080-2472-4a36-b289-74d34e55abd9\")) {                    Plotly.newPlot(                        \"5474b080-2472-4a36-b289-74d34e55abd9\",                        [{\"hoverinfo\":\"text\",\"marker\":{\"color\":\"#636efa\"},\"orientation\":\"h\",\"text\":[\"33\"],\"textposition\":\"auto\",\"x\":[33],\"y\":[\"Facultad de ingenier\\u00eda y arquitectura\"],\"type\":\"bar\",\"xaxis\":\"x\",\"yaxis\":\"y\"},{\"hoverinfo\":\"text\",\"marker\":{\"color\":\"#636efa\"},\"orientation\":\"h\",\"text\":[\"19\"],\"textposition\":\"auto\",\"x\":[19],\"y\":[\"Facultad de administraci\\u00f3n\"],\"type\":\"bar\",\"xaxis\":\"x2\",\"yaxis\":\"y2\"},{\"hoverinfo\":\"text\",\"marker\":{\"color\":\"#636efa\"},\"orientation\":\"h\",\"text\":[\"14\"],\"textposition\":\"auto\",\"x\":[14],\"y\":[\"Facultad de ciencias exactas y naturales\"],\"type\":\"bar\",\"xaxis\":\"x3\",\"yaxis\":\"y3\"}],                        {\"template\":{\"data\":{\"histogram2dcontour\":[{\"type\":\"histogram2dcontour\",\"colorbar\":{\"outlinewidth\":0,\"ticks\":\"\"},\"colorscale\":[[0.0,\"#0d0887\"],[0.1111111111111111,\"#46039f\"],[0.2222222222222222,\"#7201a8\"],[0.3333333333333333,\"#9c179e\"],[0.4444444444444444,\"#bd3786\"],[0.5555555555555556,\"#d8576b\"],[0.6666666666666666,\"#ed7953\"],[0.7777777777777778,\"#fb9f3a\"],[0.8888888888888888,\"#fdca26\"],[1.0,\"#f0f921\"]]}],\"choropleth\":[{\"type\":\"choropleth\",\"colorbar\":{\"outlinewidth\":0,\"ticks\":\"\"}}],\"histogram2d\":[{\"type\":\"histogram2d\",\"colorbar\":{\"outlinewidth\":0,\"ticks\":\"\"},\"colorscale\":[[0.0,\"#0d0887\"],[0.1111111111111111,\"#46039f\"],[0.2222222222222222,\"#7201a8\"],[0.3333333333333333,\"#9c179e\"],[0.4444444444444444,\"#bd3786\"],[0.5555555555555556,\"#d8576b\"],[0.6666666666666666,\"#ed7953\"],[0.7777777777777778,\"#fb9f3a\"],[0.8888888888888888,\"#fdca26\"],[1.0,\"#f0f921\"]]}],\"heatmap\":[{\"type\":\"heatmap\",\"colorbar\":{\"outlinewidth\":0,\"ticks\":\"\"},\"colorscale\":[[0.0,\"#0d0887\"],[0.1111111111111111,\"#46039f\"],[0.2222222222222222,\"#7201a8\"],[0.3333333333333333,\"#9c179e\"],[0.4444444444444444,\"#bd3786\"],[0.5555555555555556,\"#d8576b\"],[0.6666666666666666,\"#ed7953\"],[0.7777777777777778,\"#fb9f3a\"],[0.8888888888888888,\"#fdca26\"],[1.0,\"#f0f921\"]]}],\"heatmapgl\":[{\"type\":\"heatmapgl\",\"colorbar\":{\"outlinewidth\":0,\"ticks\":\"\"},\"colorscale\":[[0.0,\"#0d0887\"],[0.1111111111111111,\"#46039f\"],[0.2222222222222222,\"#7201a8\"],[0.3333333333333333,\"#9c179e\"],[0.4444444444444444,\"#bd3786\"],[0.5555555555555556,\"#d8576b\"],[0.6666666666666666,\"#ed7953\"],[0.7777777777777778,\"#fb9f3a\"],[0.8888888888888888,\"#fdca26\"],[1.0,\"#f0f921\"]]}],\"contourcarpet\":[{\"type\":\"contourcarpet\",\"colorbar\":{\"outlinewidth\":0,\"ticks\":\"\"}}],\"contour\":[{\"type\":\"contour\",\"colorbar\":{\"outlinewidth\":0,\"ticks\":\"\"},\"colorscale\":[[0.0,\"#0d0887\"],[0.1111111111111111,\"#46039f\"],[0.2222222222222222,\"#7201a8\"],[0.3333333333333333,\"#9c179e\"],[0.4444444444444444,\"#bd3786\"],[0.5555555555555556,\"#d8576b\"],[0.6666666666666666,\"#ed7953\"],[0.7777777777777778,\"#fb9f3a\"],[0.8888888888888888,\"#fdca26\"],[1.0,\"#f0f921\"]]}],\"surface\":[{\"type\":\"surface\",\"colorbar\":{\"outlinewidth\":0,\"ticks\":\"\"},\"colorscale\":[[0.0,\"#0d0887\"],[0.1111111111111111,\"#46039f\"],[0.2222222222222222,\"#7201a8\"],[0.3333333333333333,\"#9c179e\"],[0.4444444444444444,\"#bd3786\"],[0.5555555555555556,\"#d8576b\"],[0.6666666666666666,\"#ed7953\"],[0.7777777777777778,\"#fb9f3a\"],[0.8888888888888888,\"#fdca26\"],[1.0,\"#f0f921\"]]}],\"mesh3d\":[{\"type\":\"mesh3d\",\"colorbar\":{\"outlinewidth\":0,\"ticks\":\"\"}}],\"scatter\":[{\"fillpattern\":{\"fillmode\":\"overlay\",\"size\":10,\"solidity\":0.2},\"type\":\"scatter\"}],\"parcoords\":[{\"type\":\"parcoords\",\"line\":{\"colorbar\":{\"outlinewidth\":0,\"ticks\":\"\"}}}],\"scatterpolargl\":[{\"type\":\"scatterpolargl\",\"marker\":{\"colorbar\":{\"outlinewidth\":0,\"ticks\":\"\"}}}],\"bar\":[{\"error_x\":{\"color\":\"#2a3f5f\"},\"error_y\":{\"color\":\"#2a3f5f\"},\"marker\":{\"line\":{\"color\":\"#E5ECF6\",\"width\":0.5},\"pattern\":{\"fillmode\":\"overlay\",\"size\":10,\"solidity\":0.2}},\"type\":\"bar\"}],\"scattergeo\":[{\"type\":\"scattergeo\",\"marker\":{\"colorbar\":{\"outlinewidth\":0,\"ticks\":\"\"}}}],\"scatterpolar\":[{\"type\":\"scatterpolar\",\"marker\":{\"colorbar\":{\"outlinewidth\":0,\"ticks\":\"\"}}}],\"histogram\":[{\"marker\":{\"pattern\":{\"fillmode\":\"overlay\",\"size\":10,\"solidity\":0.2}},\"type\":\"histogram\"}],\"scattergl\":[{\"type\":\"scattergl\",\"marker\":{\"colorbar\":{\"outlinewidth\":0,\"ticks\":\"\"}}}],\"scatter3d\":[{\"type\":\"scatter3d\",\"line\":{\"colorbar\":{\"outlinewidth\":0,\"ticks\":\"\"}},\"marker\":{\"colorbar\":{\"outlinewidth\":0,\"ticks\":\"\"}}}],\"scattermapbox\":[{\"type\":\"scattermapbox\",\"marker\":{\"colorbar\":{\"outlinewidth\":0,\"ticks\":\"\"}}}],\"scatterternary\":[{\"type\":\"scatterternary\",\"marker\":{\"colorbar\":{\"outlinewidth\":0,\"ticks\":\"\"}}}],\"scattercarpet\":[{\"type\":\"scattercarpet\",\"marker\":{\"colorbar\":{\"outlinewidth\":0,\"ticks\":\"\"}}}],\"carpet\":[{\"aaxis\":{\"endlinecolor\":\"#2a3f5f\",\"gridcolor\":\"white\",\"linecolor\":\"white\",\"minorgridcolor\":\"white\",\"startlinecolor\":\"#2a3f5f\"},\"baxis\":{\"endlinecolor\":\"#2a3f5f\",\"gridcolor\":\"white\",\"linecolor\":\"white\",\"minorgridcolor\":\"white\",\"startlinecolor\":\"#2a3f5f\"},\"type\":\"carpet\"}],\"table\":[{\"cells\":{\"fill\":{\"color\":\"#EBF0F8\"},\"line\":{\"color\":\"white\"}},\"header\":{\"fill\":{\"color\":\"#C8D4E3\"},\"line\":{\"color\":\"white\"}},\"type\":\"table\"}],\"barpolar\":[{\"marker\":{\"line\":{\"color\":\"#E5ECF6\",\"width\":0.5},\"pattern\":{\"fillmode\":\"overlay\",\"size\":10,\"solidity\":0.2}},\"type\":\"barpolar\"}],\"pie\":[{\"automargin\":true,\"type\":\"pie\"}]},\"layout\":{\"autotypenumbers\":\"strict\",\"colorway\":[\"#636efa\",\"#EF553B\",\"#00cc96\",\"#ab63fa\",\"#FFA15A\",\"#19d3f3\",\"#FF6692\",\"#B6E880\",\"#FF97FF\",\"#FECB52\"],\"font\":{\"color\":\"#2a3f5f\"},\"hovermode\":\"closest\",\"hoverlabel\":{\"align\":\"left\"},\"paper_bgcolor\":\"white\",\"plot_bgcolor\":\"#E5ECF6\",\"polar\":{\"bgcolor\":\"#E5ECF6\",\"angularaxis\":{\"gridcolor\":\"white\",\"linecolor\":\"white\",\"ticks\":\"\"},\"radialaxis\":{\"gridcolor\":\"white\",\"linecolor\":\"white\",\"ticks\":\"\"}},\"ternary\":{\"bgcolor\":\"#E5ECF6\",\"aaxis\":{\"gridcolor\":\"white\",\"linecolor\":\"white\",\"ticks\":\"\"},\"baxis\":{\"gridcolor\":\"white\",\"linecolor\":\"white\",\"ticks\":\"\"},\"caxis\":{\"gridcolor\":\"white\",\"linecolor\":\"white\",\"ticks\":\"\"}},\"coloraxis\":{\"colorbar\":{\"outlinewidth\":0,\"ticks\":\"\"}},\"colorscale\":{\"sequential\":[[0.0,\"#0d0887\"],[0.1111111111111111,\"#46039f\"],[0.2222222222222222,\"#7201a8\"],[0.3333333333333333,\"#9c179e\"],[0.4444444444444444,\"#bd3786\"],[0.5555555555555556,\"#d8576b\"],[0.6666666666666666,\"#ed7953\"],[0.7777777777777778,\"#fb9f3a\"],[0.8888888888888888,\"#fdca26\"],[1.0,\"#f0f921\"]],\"sequentialminus\":[[0.0,\"#0d0887\"],[0.1111111111111111,\"#46039f\"],[0.2222222222222222,\"#7201a8\"],[0.3333333333333333,\"#9c179e\"],[0.4444444444444444,\"#bd3786\"],[0.5555555555555556,\"#d8576b\"],[0.6666666666666666,\"#ed7953\"],[0.7777777777777778,\"#fb9f3a\"],[0.8888888888888888,\"#fdca26\"],[1.0,\"#f0f921\"]],\"diverging\":[[0,\"#8e0152\"],[0.1,\"#c51b7d\"],[0.2,\"#de77ae\"],[0.3,\"#f1b6da\"],[0.4,\"#fde0ef\"],[0.5,\"#f7f7f7\"],[0.6,\"#e6f5d0\"],[0.7,\"#b8e186\"],[0.8,\"#7fbc41\"],[0.9,\"#4d9221\"],[1,\"#276419\"]]},\"xaxis\":{\"gridcolor\":\"white\",\"linecolor\":\"white\",\"ticks\":\"\",\"title\":{\"standoff\":15},\"zerolinecolor\":\"white\",\"automargin\":true,\"zerolinewidth\":2},\"yaxis\":{\"gridcolor\":\"white\",\"linecolor\":\"white\",\"ticks\":\"\",\"title\":{\"standoff\":15},\"zerolinecolor\":\"white\",\"automargin\":true,\"zerolinewidth\":2},\"scene\":{\"xaxis\":{\"backgroundcolor\":\"#E5ECF6\",\"gridcolor\":\"white\",\"linecolor\":\"white\",\"showbackground\":true,\"ticks\":\"\",\"zerolinecolor\":\"white\",\"gridwidth\":2},\"yaxis\":{\"backgroundcolor\":\"#E5ECF6\",\"gridcolor\":\"white\",\"linecolor\":\"white\",\"showbackground\":true,\"ticks\":\"\",\"zerolinecolor\":\"white\",\"gridwidth\":2},\"zaxis\":{\"backgroundcolor\":\"#E5ECF6\",\"gridcolor\":\"white\",\"linecolor\":\"white\",\"showbackground\":true,\"ticks\":\"\",\"zerolinecolor\":\"white\",\"gridwidth\":2}},\"shapedefaults\":{\"line\":{\"color\":\"#2a3f5f\"}},\"annotationdefaults\":{\"arrowcolor\":\"#2a3f5f\",\"arrowhead\":0,\"arrowwidth\":1},\"geo\":{\"bgcolor\":\"white\",\"landcolor\":\"#E5ECF6\",\"subunitcolor\":\"white\",\"showland\":true,\"showlakes\":true,\"lakecolor\":\"white\"},\"title\":{\"x\":0.05},\"mapbox\":{\"style\":\"light\"}}},\"xaxis\":{\"anchor\":\"y\",\"domain\":[0.0,1.0],\"matches\":\"x3\",\"showticklabels\":false,\"visible\":false},\"yaxis\":{\"anchor\":\"x\",\"domain\":[0.7666666666666666,0.9999999999999999],\"visible\":false},\"xaxis2\":{\"anchor\":\"y2\",\"domain\":[0.0,1.0],\"matches\":\"x3\",\"showticklabels\":false,\"visible\":false},\"yaxis2\":{\"anchor\":\"x2\",\"domain\":[0.3833333333333333,0.6166666666666666],\"visible\":false},\"xaxis3\":{\"anchor\":\"y3\",\"domain\":[0.0,1.0],\"visible\":false},\"yaxis3\":{\"anchor\":\"x3\",\"domain\":[0.0,0.2333333333333333],\"visible\":false},\"annotations\":[{\"font\":{\"size\":12},\"showarrow\":false,\"text\":\"Facultad de ingenier\\u00eda y arquitectura\",\"x\":0,\"xanchor\":\"left\",\"xref\":\"paper\",\"y\":0.9999999999999999,\"yanchor\":\"bottom\",\"yref\":\"paper\",\"align\":\"left\"},{\"font\":{\"size\":12},\"showarrow\":false,\"text\":\"Facultad de administraci\\u00f3n\",\"x\":0,\"xanchor\":\"left\",\"xref\":\"paper\",\"y\":0.6166666666666666,\"yanchor\":\"bottom\",\"yref\":\"paper\",\"align\":\"left\"},{\"font\":{\"size\":12},\"showarrow\":false,\"text\":\"Facultad de ciencias exactas y naturales\",\"x\":0,\"xanchor\":\"left\",\"xref\":\"paper\",\"y\":0.2333333333333333,\"yanchor\":\"bottom\",\"yref\":\"paper\",\"align\":\"left\"}],\"width\":750,\"plot_bgcolor\":\"#fff\",\"showlegend\":false,\"margin\":{\"b\":1,\"l\":0,\"r\":0,\"t\":20},\"height\":200},                        {\"responsive\": true}                    ).then(function(){\n",
       "                            \n",
       "var gd = document.getElementById('5474b080-2472-4a36-b289-74d34e55abd9');\n",
       "var x = new MutationObserver(function (mutations, observer) {{\n",
       "        var display = window.getComputedStyle(gd).display;\n",
       "        if (!display || display === 'none') {{\n",
       "            console.log([gd, 'removed!']);\n",
       "            Plotly.purge(gd);\n",
       "            observer.disconnect();\n",
       "        }}\n",
       "}});\n",
       "\n",
       "// Listen for the removal of the full notebook cells\n",
       "var notebookContainer = gd.closest('#notebook-container');\n",
       "if (notebookContainer) {{\n",
       "    x.observe(notebookContainer, {childList: true});\n",
       "}}\n",
       "\n",
       "// Listen for the clearing of the current output cell\n",
       "var outputEl = gd.closest('.output');\n",
       "if (outputEl) {{\n",
       "    x.observe(outputEl, {childList: true});\n",
       "}}\n",
       "\n",
       "                        })                };                });            </script>        </div>"
      ]
     },
     "metadata": {},
     "output_type": "display_data"
    }
   ],
   "source": [
    "names = groups['facultad'].value_counts(dropna=False).keys().tolist()\n",
    "counts = groups['facultad'].value_counts(dropna=False).tolist()\n",
    "categories = [{'name': name, 'value': count} for name, count in zip(names, counts)]\n",
    "plot_categories(categories, height=200)"
   ]
  },
  {
   "cell_type": "markdown",
   "id": "3d9dac4e-b4e2-4300-a4db-6bc43d08b56b",
   "metadata": {},
   "source": [
    "## Áreas de conocimiento"
   ]
  },
  {
   "cell_type": "code",
   "execution_count": 7,
   "id": "6ef55188-dab7-4777-854c-d59e94cab795",
   "metadata": {
    "tags": []
   },
   "outputs": [
    {
     "data": {
      "application/vnd.jupyter.widget-view+json": {
       "model_id": "52244001b9fc4f8194a5d4f34a01e4e0",
       "version_major": 2,
       "version_minor": 0
      },
      "text/plain": [
       "interactive(children=(Dropdown(description='faculty', options=('All', 'Facultad de administración', 'Facultad …"
      ]
     },
     "metadata": {},
     "output_type": "display_data"
    }
   ],
   "source": [
    "@interact(faculty=(['All'] + data['facultades']))\n",
    "def _(faculty='All'):\n",
    "\n",
    "    config = {\n",
    "        'labels': {'ocde': 'Area',\n",
    "                   'sub_ocde': 'Subárea',\n",
    "                   'count': ''\n",
    "                  },\n",
    "         'height': 500,\n",
    "         # 'title':'Áreas del Conocimiento - OCDE',\n",
    "         'template': 'plotly_white',\n",
    "    }\n",
    "\n",
    "    g = groups.loc[groups['facultad'] == faculty]\n",
    "    if faculty == 'All':\n",
    "        fig = px.histogram(groups, y='sub_ocde', color='ocde', orientation='h', barmode='stack',  **config)\n",
    "\n",
    "    elif faculty in ['Facultad de administración', 'Facultad de ciencias exactas y naturales']:\n",
    "        config['labels']['ocde'] = ''\n",
    "        fig = px.histogram(g, y='ocde', orientation='h', barmode='stack',  **config)\n",
    "    else:\n",
    "        fig = px.histogram(g, y='sub_ocde', color='ocde', orientation='h', barmode='stack',  **config)\n",
    "\n",
    "    fig.update_layout(xaxis_title='Grupos de investigación')\n",
    "    fig.show()"
   ]
  },
  {
   "cell_type": "markdown",
   "id": "c6972dc1-0c91-4e70-b42c-1fa3383bdd05",
   "metadata": {},
   "source": [
    "## Agenda de conocimiento"
   ]
  },
  {
   "cell_type": "code",
   "execution_count": 8,
   "id": "bbc9ac6c-a245-4043-aeac-71d7f64fc91d",
   "metadata": {
    "tags": []
   },
   "outputs": [
    {
     "data": {
      "application/vnd.jupyter.widget-view+json": {
       "model_id": "4280091fb67546329870d224ebc512d5",
       "version_major": 2,
       "version_minor": 0
      },
      "text/plain": [
       "interactive(children=(Dropdown(description='faculty', options=('All', 'Facultad de administración', 'Facultad …"
      ]
     },
     "metadata": {},
     "output_type": "display_data"
    }
   ],
   "source": [
    "@interact(faculty=(['All'] + data['facultades']))\n",
    "def _(faculty='All'):    \n",
    "\n",
    "    if faculty != 'All':\n",
    "        g = groups.loc[groups['facultad'] == faculty]\n",
    "    else:\n",
    "        g = groups\n",
    "\n",
    "    names = g['knowledge'].value_counts(dropna=False).keys().tolist()\n",
    "    counts = g['knowledge'].value_counts(dropna=False).tolist()\n",
    "    categories = [{'name': name, 'value': count} for name, count in zip(names, counts)]\n",
    "\n",
    "    s = plot_categories(categories, align='right', height=700)\n",
    "    s.update_layout(xaxis_title='Grupos de investigación')\n",
    "    return s"
   ]
  },
  {
   "cell_type": "markdown",
   "id": "5ee548bd-4de6-430e-9319-8fab39469eda",
   "metadata": {},
   "source": [
    "## Categorías de grupos de investigación"
   ]
  },
  {
   "cell_type": "code",
   "execution_count": 63,
   "id": "91628f96-2abb-4495-b221-91d598adcd1f",
   "metadata": {},
   "outputs": [
    {
     "data": {
      "application/vnd.jupyter.widget-view+json": {
       "model_id": "b5bf2f4cd0be4b85916ef9dea051b3c7",
       "version_major": 2,
       "version_minor": 0
      },
      "text/plain": [
       "interactive(children=(Dropdown(description='faculty', options=('All', 'Facultad de administración', 'Facultad …"
      ]
     },
     "metadata": {},
     "output_type": "display_data"
    }
   ],
   "source": [
    "@interact(faculty=(['All'] + data['facultades']))\n",
    "def _(faculty='All'):  \n",
    "\n",
    "    if faculty != 'All':\n",
    "        g = groups.loc[groups['facultad'] == faculty]\n",
    "    else:\n",
    "        g = groups\n",
    "\n",
    "\n",
    "    labels = g['categoria'].value_counts().keys()\n",
    "    values = g['categoria'].value_counts().to_list()\n",
    "\n",
    "    fig = go.Figure(data=[go.Pie(labels=labels, values=values, textinfo='label+value', hole=.3)])\n",
    "    fig.update_traces(hoverinfo='none', hovertemplate='')\n",
    "    fig.update(layout_showlegend=False)\n",
    "\n",
    "    fig.show()"
   ]
  },
  {
   "cell_type": "markdown",
   "id": "bd4e9b41-e00f-4f0c-a2f5-e6380388da85",
   "metadata": {},
   "source": [
    "## Grupo de investigación "
   ]
  },
  {
   "cell_type": "code",
   "execution_count": 103,
   "id": "55b4c2e9-0764-4663-ba95-9e789b0f8ef4",
   "metadata": {},
   "outputs": [
    {
     "data": {
      "application/vnd.jupyter.widget-view+json": {
       "model_id": "de055799164740049343548c0efc99d4",
       "version_major": 2,
       "version_minor": 0
      },
      "text/plain": [
       "interactive(children=(Dropdown(description='name', options=('Abc dynamics', 'Analisis matematico am', 'Arquite…"
      ]
     },
     "metadata": {},
     "output_type": "display_data"
    }
   ],
   "source": [
    "@interact(name=groups['name'].to_list())\n",
    "def _(name):  \n",
    "    \n",
    "    g = groups.loc[groups['name'] == name]\n",
    "    grupo = g.to_dict('records')[0]\n",
    "    \n",
    "    \n",
    "    for k in grupo:\n",
    "        print(f'{k}:\\t\\t{str(grupo[k]).strip()}')\n"
   ]
  }
 ],
 "metadata": {
  "kernelspec": {
   "display_name": "Python 3 (ipykernel)",
   "language": "python",
   "name": "python3"
  },
  "language_info": {
   "codemirror_mode": {
    "name": "ipython",
    "version": 3
   },
   "file_extension": ".py",
   "mimetype": "text/x-python",
   "name": "python",
   "nbconvert_exporter": "python",
   "pygments_lexer": "ipython3",
   "version": "3.10.5"
  }
 },
 "nbformat": 4,
 "nbformat_minor": 5
}
